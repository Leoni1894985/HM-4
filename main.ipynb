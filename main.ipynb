{
 "cells": [
  {
   "cell_type": "markdown",
   "id": "00502811",
   "metadata": {},
   "source": [
    "# **Homework 4 - Getting to know your customers - Group #24**\n",
    "\n",
    "Group members:\n",
    "- De Risi Simona, 2081525\n",
    "- Leoni Paolo, 1894985\n",
    "- Ratti Antonio, 1700089"
   ]
  },
  {
   "cell_type": "markdown",
   "id": "e42eb739",
   "metadata": {},
   "source": [
    "First of all, let's import all the libraries useful for this homework."
   ]
  },
  {
   "cell_type": "markdown",
   "id": "72716153",
   "metadata": {},
   "source": [
    "## **1. Finding Similar Costumers**"
   ]
  },
  {
   "cell_type": "markdown",
   "id": "be275d53",
   "metadata": {},
   "source": [
    "### **1.1 Set up the data**\n",
    "First of all we have to do some data exploration to see if it's everything okay with the dataset.\n"
   ]
  },
  {
   "cell_type": "code",
   "execution_count": 136,
   "id": "aa831ed2",
   "metadata": {},
   "outputs": [],
   "source": [
    "#read the data\n",
    "bank = pd.read_csv('bank_transactions.csv')"
   ]
  },
  {
   "cell_type": "code",
   "execution_count": 137,
   "id": "9fe6a7db",
   "metadata": {},
   "outputs": [
    {
     "name": "stdout",
     "output_type": "stream",
     "text": [
      "Dataset shape: (1048567, 9)\n"
     ]
    }
   ],
   "source": [
    "#Let''s have a look inside the dataset\n",
    "print('Dataset shape:', bank.shape)\n",
    "bank.head()"
   ]
  },
  {
   "cell_type": "markdown",
   "id": "b106f0a1",
   "metadata": {},
   "source": [
    "As we can see there are 1048567 transactions and for each of them we have 9 attributes.<br>\n",
    "To start, we can analyse better the presence of null values.\n"
   ]
  },
  {
   "cell_type": "code",
   "execution_count": 139,
   "id": "2ca140ef",
   "metadata": {},
   "outputs": [
    {
     "data": {
      "text/plain": [
       "TransactionID                 0\n",
       "CustomerID                    0\n",
       "CustomerDOB                3397\n",
       "CustGender                 1100\n",
       "CustLocation                151\n",
       "CustAccountBalance         2369\n",
       "TransactionDate               0\n",
       "TransactionTime               0\n",
       "TransactionAmount (INR)       0\n",
       "dtype: int64"
      ]
     },
     "execution_count": 139,
     "metadata": {},
     "output_type": "execute_result"
    }
   ],
   "source": [
    "bank.isna().sum()"
   ]
  },
  {
   "cell_type": "markdown",
   "id": "ce7e1553",
   "metadata": {},
   "source": [
    "The quantity of transactions with missing data is very small compared to the total number of rows, so we can simply delete these ones with null values.\n"
   ]
  },
  {
   "cell_type": "code",
   "execution_count": 140,
   "id": "0bb6565a",
   "metadata": {},
   "outputs": [],
   "source": [
    "bank.dropna(inplace = True)"
   ]
  },
  {
   "cell_type": "markdown",
   "id": "d40f4909",
   "metadata": {},
   "source": [
    "At this point we can proceed by formatting better, as a datetime object, the *CustomerDOB*, *TransactionDate* and *TransactionTime* columns.\n"
   ]
  },
  {
   "cell_type": "code",
   "execution_count": 141,
   "id": "b3e0c971",
   "metadata": {},
   "outputs": [],
   "source": [
    "#format the Date of Birth of the customer\n",
    "bank.CustomerDOB = pd.to_datetime(bank.CustomerDOB)"
   ]
  },
  {
   "cell_type": "code",
   "execution_count": 142,
   "id": "dbdbe5ae",
   "metadata": {},
   "outputs": [],
   "source": [
    "#format the date of the transaction\n",
    "bank.TransactionDate = pd.to_datetime(bank.TransactionDate) "
   ]
  },
  {
   "cell_type": "code",
   "execution_count": 143,
   "id": "9838b42a",
   "metadata": {},
   "outputs": [],
   "source": [
    "#format the time of the transaction\n",
    "bank.TransactionTime = bank.TransactionTime.apply(lambda x: datetime.strptime(str(x).zfill(6), '%H%M%S').time())"
   ]
  },
  {
   "cell_type": "markdown",
   "id": "e9a0de10",
   "metadata": {},
   "source": [
    "Let's see if the data make sense:"
   ]
  },
  {
   "cell_type": "code",
   "execution_count": 145,
   "id": "0a54b927",
   "metadata": {
    "scrolled": true
   },
   "outputs": [
    {
     "data": {
      "text/plain": [
       "<AxesSubplot:>"
      ]
     },
     "execution_count": 145,
     "metadata": {},
     "output_type": "execute_result"
    },
    {
     "data": {
      "image/png": "[encoded data removed]",
      "text/plain": [
       "<Figure size 432x288 with 1 Axes>"
      ]
     },
     "metadata": {
      "needs_background": "light"
     },
     "output_type": "display_data"
    }
   ],
   "source": [
    "bank.CustomerDOB.dt.year.hist(bins=50)"
   ]
  },
  {
   "cell_type": "markdown",
   "id": "2860f5b0",
   "metadata": {},
   "source": [
    "We notice 2 strange things:\n",
    "- Some people were born in 1800, it's probably a default value of the bank, or maybe some fake accounts. In both cases we wouldn''t know how too trat these rows and since they're not so much we can simply delete them\n",
    "- Some people are born in the future... but we can notice that dates are store in the file with 2 digits (ex: 4/4/57), so probably the function to_datetime has parsed those dates as $21^{st}$ century when they were actually in the $20^{th}$ century."
   ]
  },
  {
   "cell_type": "code",
   "execution_count": 146,
   "id": "d0d1d3cf",
   "metadata": {},
   "outputs": [],
   "source": [
    "#delete 1800 dates\n",
    "bank.drop(bank[bank.CustomerDOB.dt.year == 1800].index, axis=0, inplace=True)"
   ]
  },
  {
   "cell_type": "code",
   "execution_count": 147,
   "id": "11f55155",
   "metadata": {},
   "outputs": [],
   "source": [
    "#fix future dates\n",
    "bank.loc[bank.CustomerDOB.dt.year > 2000, 'CustomerDOB'] = bank.loc[bank.CustomerDOB.dt.year > 2000, 'CustomerDOB'] - pd.DateOffset(years = 100)"
   ]
  },
  {
   "cell_type": "code",
   "execution_count": 148,
   "id": "6f1d10b9",
   "metadata": {
    "scrolled": true
   },
   "outputs": [
    {
     "data": {
      "text/plain": [
       "<AxesSubplot:>"
      ]
     },
     "execution_count": 148,
     "metadata": {},
     "output_type": "execute_result"
    },
    {
     "data": {
      "image/png": "[encoded data removed]",
      "text/plain": [
       "<Figure size 432x288 with 1 Axes>"
      ]
     },
     "metadata": {
      "needs_background": "light"
     },
     "output_type": "display_data"
    }
   ],
   "source": [
    "#check\n",
    "bank.CustomerDOB.dt.year.hist(bins=50)"
   ]
  },
  {
   "cell_type": "code",
   "execution_count": 149,
   "id": "47a4ec49",
   "metadata": {
    "scrolled": true
   },
   "outputs": [
    {
     "data": {
      "text/plain": [
       "<AxesSubplot:>"
      ]
     },
     "execution_count": 149,
     "metadata": {},
     "output_type": "execute_result"
    },
    {
     "data": {
      "image/png": "[encoded data removed]",
      "text/plain": [
       "<Figure size 432x288 with 1 Axes>"
      ]
     },
     "metadata": {
      "needs_background": "light"
     },
     "output_type": "display_data"
    }
   ],
   "source": [
    "#check transaction dates\n",
    "bank.TransactionDate.hist()"
   ]
  },
  {
   "cell_type": "markdown",
   "id": "548c0280",
   "metadata": {},
   "source": [
    "We can see that all the transactions in the dataset were made in 2016 with a peak in August 2016.\n"
   ]
  },
  {
   "cell_type": "markdown",
   "id": "bb0ad377",
   "metadata": {},
   "source": [
    "Furthermore, we can check the presence of duplicates in the column *TransactionID*, since it's the column that we are going to use as index for our LSH algorithm.\n"
   ]
  },
  {
   "cell_type": "code",
   "execution_count": 152,
   "id": "57959cd9",
   "metadata": {},
   "outputs": [
    {
     "name": "stdout",
     "output_type": "stream",
     "text": [
      "There are no duplicates\n"
     ]
    }
   ],
   "source": [
    "if len(bank) == len(set(bank.TransactionID)):\n",
    "  print(\"There are no duplicates\")\n",
    "else:\n",
    "  print(\"There are duplicates\")\n"
   ]
  },
  {
   "cell_type": "markdown",
   "id": "96087312",
   "metadata": {},
   "source": [
    "Lastly, for the next question we are going to evaluate the similarity between customers, and one feature of interest could be the age of the customer. So, for simplicity let's add a column *CustAge*, where we precalculate the age of each customer.\n"
   ]
  },
  {
   "cell_type": "code",
   "execution_count": 155,
   "id": "0545cb65",
   "metadata": {
    "scrolled": true
   },
   "outputs": [],
   "source": [
    "bank['CustAge'] = (bank.TransactionDate - bank.CustomerDOB) / np.timedelta64(1, 'Y')\n",
    "bank['CustAge'] = bank.CustAge.astype(int)"
   ]
  },
  {
   "cell_type": "code",
   "execution_count": 156,
   "id": "1f7031b3",
   "metadata": {},
   "outputs": [
    {
     "data": {
      "text/html": [
       "<div>\n",
       "<style scoped>\n",
       "    .dataframe tbody tr th:only-of-type {\n",
       "        vertical-align: middle;\n",
       "    }\n",
       "\n",
       "    .dataframe tbody tr th {\n",
       "        vertical-align: top;\n",
       "    }\n",
       "\n",
       "    .dataframe thead th {\n",
       "        text-align: right;\n",
       "    }\n",
       "</style>\n",
       "<table border=\"1\" class=\"dataframe\">\n",
       "  <thead>\n",
       "    <tr style=\"text-align: right;\">\n",
       "      <th></th>\n",
       "      <th>TransactionID</th>\n",
       "      <th>CustomerID</th>\n",
       "      <th>CustomerDOB</th>\n",
       "      <th>CustGender</th>\n",
       "      <th>CustLocation</th>\n",
       "      <th>CustAccountBalance</th>\n",
       "      <th>TransactionDate</th>\n",
       "      <th>TransactionTime</th>\n",
       "      <th>TransactionAmount (INR)</th>\n",
       "      <th>CustAge</th>\n",
       "    </tr>\n",
       "  </thead>\n",
       "  <tbody>\n",
       "    <tr>\n",
       "      <th>0</th>\n",
       "      <td>T1</td>\n",
       "      <td>C5841053</td>\n",
       "      <td>1994-10-01</td>\n",
       "      <td>F</td>\n",
       "      <td>JAMSHEDPUR</td>\n",
       "      <td>17819.05</td>\n",
       "      <td>2016-02-08</td>\n",
       "      <td>14:32:07</td>\n",
       "      <td>25.0</td>\n",
       "      <td>21</td>\n",
       "    </tr>\n",
       "    <tr>\n",
       "      <th>1</th>\n",
       "      <td>T2</td>\n",
       "      <td>C2142763</td>\n",
       "      <td>1957-04-04</td>\n",
       "      <td>M</td>\n",
       "      <td>JHAJJAR</td>\n",
       "      <td>2270.69</td>\n",
       "      <td>2016-02-08</td>\n",
       "      <td>14:18:58</td>\n",
       "      <td>27999.0</td>\n",
       "      <td>58</td>\n",
       "    </tr>\n",
       "    <tr>\n",
       "      <th>2</th>\n",
       "      <td>T3</td>\n",
       "      <td>C4417068</td>\n",
       "      <td>1996-11-26</td>\n",
       "      <td>F</td>\n",
       "      <td>MUMBAI</td>\n",
       "      <td>17874.44</td>\n",
       "      <td>2016-02-08</td>\n",
       "      <td>14:27:12</td>\n",
       "      <td>459.0</td>\n",
       "      <td>19</td>\n",
       "    </tr>\n",
       "    <tr>\n",
       "      <th>3</th>\n",
       "      <td>T4</td>\n",
       "      <td>C5342380</td>\n",
       "      <td>1973-09-14</td>\n",
       "      <td>F</td>\n",
       "      <td>MUMBAI</td>\n",
       "      <td>866503.21</td>\n",
       "      <td>2016-02-08</td>\n",
       "      <td>14:27:14</td>\n",
       "      <td>2060.0</td>\n",
       "      <td>42</td>\n",
       "    </tr>\n",
       "    <tr>\n",
       "      <th>4</th>\n",
       "      <td>T5</td>\n",
       "      <td>C9031234</td>\n",
       "      <td>1988-03-24</td>\n",
       "      <td>F</td>\n",
       "      <td>NAVI MUMBAI</td>\n",
       "      <td>6714.43</td>\n",
       "      <td>2016-02-08</td>\n",
       "      <td>18:11:56</td>\n",
       "      <td>1762.5</td>\n",
       "      <td>27</td>\n",
       "    </tr>\n",
       "  </tbody>\n",
       "</table>\n",
       "</div>"
      ],
      "text/plain": [
       "  TransactionID CustomerID CustomerDOB CustGender CustLocation  \\\n",
       "0            T1   C5841053  1994-10-01          F   JAMSHEDPUR   \n",
       "1            T2   C2142763  1957-04-04          M      JHAJJAR   \n",
       "2            T3   C4417068  1996-11-26          F       MUMBAI   \n",
       "3            T4   C5342380  1973-09-14          F       MUMBAI   \n",
       "4            T5   C9031234  1988-03-24          F  NAVI MUMBAI   \n",
       "\n",
       "   CustAccountBalance TransactionDate TransactionTime  \\\n",
       "0            17819.05      2016-02-08        14:32:07   \n",
       "1             2270.69      2016-02-08        14:18:58   \n",
       "2            17874.44      2016-02-08        14:27:12   \n",
       "3           866503.21      2016-02-08        14:27:14   \n",
       "4             6714.43      2016-02-08        18:11:56   \n",
       "\n",
       "   TransactionAmount (INR)  CustAge  \n",
       "0                     25.0       21  \n",
       "1                  27999.0       58  \n",
       "2                    459.0       19  \n",
       "3                   2060.0       42  \n",
       "4                   1762.5       27  "
      ]
     },
     "execution_count": 156,
     "metadata": {},
     "output_type": "execute_result"
    }
   ],
   "source": [
    "#Now the dataset has this look:\n",
    "bank.head()"
   ]
  },
  {
   "cell_type": "markdown",
   "id": "113c4d75",
   "metadata": {},
   "source": [
    "We don't need all the coloumns: for our purpose we take only CustomerID, CustomerDOB, CustGender, CustAccountBalance and TransactionAmount (INR)"
   ]
  },
  {
   "cell_type": "code",
   "execution_count": null,
   "id": "cc65f6a3",
   "metadata": {},
   "outputs": [],
   "source": [
    "banknew=bank.drop(['TransactionID','CustLocation','TransactionDate','TransactionTime','CustAge'],axis=1)"
   ]
  },
  {
   "cell_type": "markdown",
   "id": "4dc8a335",
   "metadata": {},
   "source": [
    "We cannot find a better way to clean data so take only the first row for each customerid"
   ]
  },
  {
   "cell_type": "code",
   "execution_count": 173,
   "id": "72226ec2",
   "metadata": {
    "scrolled": true
   },
   "outputs": [],
   "source": [
    "banknew=banknew.groupby('CustomerID').first().reset_index() "
   ]
  },
  {
   "cell_type": "code",
   "execution_count": null,
   "id": "baeeb9e6",
   "metadata": {},
   "outputs": [],
   "source": [
    "# DATE TO YEAR\n",
    "banknew.CustomerDOB=banknew.CustomerDOB.dt.year"
   ]
  },
  {
   "cell_type": "code",
   "execution_count": 174,
   "id": "50483464",
   "metadata": {},
   "outputs": [
    {
     "data": {
      "text/html": [
       "<div>\n",
       "<style scoped>\n",
       "    .dataframe tbody tr th:only-of-type {\n",
       "        vertical-align: middle;\n",
       "    }\n",
       "\n",
       "    .dataframe tbody tr th {\n",
       "        vertical-align: top;\n",
       "    }\n",
       "\n",
       "    .dataframe thead th {\n",
       "        text-align: right;\n",
       "    }\n",
       "</style>\n",
       "<table border=\"1\" class=\"dataframe\">\n",
       "  <thead>\n",
       "    <tr style=\"text-align: right;\">\n",
       "      <th></th>\n",
       "      <th>CustomerID</th>\n",
       "      <th>CustomerDOB</th>\n",
       "      <th>CustGender</th>\n",
       "      <th>CustAccountBalance</th>\n",
       "      <th>TransactionAmount (INR)</th>\n",
       "    </tr>\n",
       "  </thead>\n",
       "  <tbody>\n",
       "    <tr>\n",
       "      <th>0</th>\n",
       "      <td>C1010011</td>\n",
       "      <td>1992</td>\n",
       "      <td>F</td>\n",
       "      <td>32500.73</td>\n",
       "      <td>4750.0</td>\n",
       "    </tr>\n",
       "    <tr>\n",
       "      <th>1</th>\n",
       "      <td>C1010012</td>\n",
       "      <td>1994</td>\n",
       "      <td>M</td>\n",
       "      <td>24204.49</td>\n",
       "      <td>1499.0</td>\n",
       "    </tr>\n",
       "    <tr>\n",
       "      <th>2</th>\n",
       "      <td>C1010014</td>\n",
       "      <td>1992</td>\n",
       "      <td>F</td>\n",
       "      <td>38377.14</td>\n",
       "      <td>1205.0</td>\n",
       "    </tr>\n",
       "    <tr>\n",
       "      <th>3</th>\n",
       "      <td>C1010018</td>\n",
       "      <td>1990</td>\n",
       "      <td>F</td>\n",
       "      <td>496.18</td>\n",
       "      <td>30.0</td>\n",
       "    </tr>\n",
       "    <tr>\n",
       "      <th>4</th>\n",
       "      <td>C1010024</td>\n",
       "      <td>1965</td>\n",
       "      <td>M</td>\n",
       "      <td>87058.65</td>\n",
       "      <td>5000.0</td>\n",
       "    </tr>\n",
       "    <tr>\n",
       "      <th>...</th>\n",
       "      <td>...</td>\n",
       "      <td>...</td>\n",
       "      <td>...</td>\n",
       "      <td>...</td>\n",
       "      <td>...</td>\n",
       "    </tr>\n",
       "    <tr>\n",
       "      <th>839076</th>\n",
       "      <td>C9099836</td>\n",
       "      <td>1990</td>\n",
       "      <td>M</td>\n",
       "      <td>133067.23</td>\n",
       "      <td>691.0</td>\n",
       "    </tr>\n",
       "    <tr>\n",
       "      <th>839077</th>\n",
       "      <td>C9099877</td>\n",
       "      <td>1996</td>\n",
       "      <td>M</td>\n",
       "      <td>96063.46</td>\n",
       "      <td>222.0</td>\n",
       "    </tr>\n",
       "    <tr>\n",
       "      <th>839078</th>\n",
       "      <td>C9099919</td>\n",
       "      <td>1993</td>\n",
       "      <td>M</td>\n",
       "      <td>5559.75</td>\n",
       "      <td>126.0</td>\n",
       "    </tr>\n",
       "    <tr>\n",
       "      <th>839079</th>\n",
       "      <td>C9099941</td>\n",
       "      <td>1995</td>\n",
       "      <td>M</td>\n",
       "      <td>35295.92</td>\n",
       "      <td>50.0</td>\n",
       "    </tr>\n",
       "    <tr>\n",
       "      <th>839080</th>\n",
       "      <td>C9099956</td>\n",
       "      <td>1982</td>\n",
       "      <td>M</td>\n",
       "      <td>6968.93</td>\n",
       "      <td>855.0</td>\n",
       "    </tr>\n",
       "  </tbody>\n",
       "</table>\n",
       "<p>839081 rows × 5 columns</p>\n",
       "</div>"
      ],
      "text/plain": [
       "       CustomerID  CustomerDOB CustGender  CustAccountBalance  \\\n",
       "0        C1010011         1992          F            32500.73   \n",
       "1        C1010012         1994          M            24204.49   \n",
       "2        C1010014         1992          F            38377.14   \n",
       "3        C1010018         1990          F              496.18   \n",
       "4        C1010024         1965          M            87058.65   \n",
       "...           ...          ...        ...                 ...   \n",
       "839076   C9099836         1990          M           133067.23   \n",
       "839077   C9099877         1996          M            96063.46   \n",
       "839078   C9099919         1993          M             5559.75   \n",
       "839079   C9099941         1995          M            35295.92   \n",
       "839080   C9099956         1982          M             6968.93   \n",
       "\n",
       "        TransactionAmount (INR)  \n",
       "0                        4750.0  \n",
       "1                        1499.0  \n",
       "2                        1205.0  \n",
       "3                          30.0  \n",
       "4                        5000.0  \n",
       "...                         ...  \n",
       "839076                    691.0  \n",
       "839077                    222.0  \n",
       "839078                    126.0  \n",
       "839079                     50.0  \n",
       "839080                    855.0  \n",
       "\n",
       "[839081 rows x 5 columns]"
      ]
     },
     "execution_count": 174,
     "metadata": {},
     "output_type": "execute_result"
    }
   ],
   "source": [
    "banknew"
   ]
  },
  {
   "cell_type": "code",
   "execution_count": 175,
   "id": "f412d671",
   "metadata": {},
   "outputs": [],
   "source": [
    "# COUNT PERCENTILE OF BALANCE AND TRANSACTION AMOUNT \n",
    "percbal=[]\n",
    "perctran=[]\n",
    "for i in range(5,100,5):\n",
    "    percbal.append(np.percentile(bank.CustAccountBalance,i))\n",
    "    perctran.append(np.percentile(bank['TransactionAmount (INR)'],i))\n",
    "percbal=np.asarray([0]+percbal)\n",
    "perctran=np.asarray([0]+perctran)"
   ]
  },
  {
   "cell_type": "code",
   "execution_count": 176,
   "id": "e269db8c",
   "metadata": {},
   "outputs": [],
   "source": [
    "# FUNCTION TO SPLIT TRANSACTION AMOUNT IN PERCENTILES\n",
    "def tagliatran(x):           \n",
    "    if x>perctran[-1]:      # TO INCREASE THE POSSIBILITY OF THE MATCHING, ASSIGN MORE THE ONE SHINLGE TO EACH ELEMENT   \n",
    "        return [20,21]\n",
    "    elif x<perctran[1]:\n",
    "        return [0,1]\n",
    "    else:\n",
    "        ind=np.argmax(perctran>=x)\n",
    "        return [ind-1,ind,ind+1]"
   ]
  },
  {
   "cell_type": "code",
   "execution_count": 177,
   "id": "dfe99fbf",
   "metadata": {},
   "outputs": [],
   "source": [
    "# FUNCTION TO SPLIT BALANCE IN PERCENTILES\n",
    "def tagliabal(x):\n",
    "    if x>percbal[-1]:       # TO INCREASE THE POSSIBILITY OF THE MATCHING, ASSIGN MORE THE ONE SHINLGE TO EACH ELEMENT\n",
    "        return [20,21]\n",
    "    elif x<percbal[1]:\n",
    "        return [0,1]\n",
    "    else:\n",
    "        ind=np.argmax(percbal>=x)\n",
    "        return [ind-1,ind,ind+1]"
   ]
  },
  {
   "cell_type": "code",
   "execution_count": 178,
   "id": "dda09947",
   "metadata": {},
   "outputs": [],
   "source": [
    "# FUNCTION TO SPLIT DATES OF BIRTH\n",
    "def tagliaeta(x):\n",
    "        if x<1940:\n",
    "            return 0\n",
    "        elif x>=1940 and x<1970:\n",
    "            return 1\n",
    "        elif x>=1970 and x<1980:\n",
    "            return 2\n",
    "        elif x>=1980 and x<1990:\n",
    "            return 3\n",
    "        elif x>=1990 and x<1995:\n",
    "            return 4\n",
    "        else:\n",
    "            return 5"
   ]
  },
  {
   "cell_type": "code",
   "execution_count": 179,
   "id": "053d52b1",
   "metadata": {},
   "outputs": [],
   "source": [
    "### NEW DATAFRAME PROCESSED WITH THE PREVIOUS FUNCTIONS. THIS DATAFRAME HAVE ONLY THE SHINGLES:\n",
    "### CUSTOMERID, SEX(0,1), BALANCE(20 SHINGLES), TRANSACTIONAMOUNT(20 SHINLGES), AGE(7 SHINGLES).\n",
    "\n",
    "data=pd.DataFrame()\n",
    "data['CustomerID']=banknew.CustomerID\n",
    "data['CustGender']=banknew.CustGender.apply(lambda x: 0 if x=='M' else 1)\n",
    "data['CustAccountBalance']=banknew.CustAccountBalance.apply(lambda x: tagliabal(x))\n",
    "data['TransactionAmount (INR)']=banknew['TransactionAmount (INR)'].apply(lambda x: tagliatran(x))\n",
    "data['CustomerDOB']=banknew['CustomerDOB'].apply(lambda x: tagliaeta(x))"
   ]
  },
  {
   "cell_type": "code",
   "execution_count": 180,
   "id": "b0a2dc9c",
   "metadata": {
    "scrolled": true
   },
   "outputs": [
    {
     "data": {
      "text/html": [
       "<div>\n",
       "<style scoped>\n",
       "    .dataframe tbody tr th:only-of-type {\n",
       "        vertical-align: middle;\n",
       "    }\n",
       "\n",
       "    .dataframe tbody tr th {\n",
       "        vertical-align: top;\n",
       "    }\n",
       "\n",
       "    .dataframe thead th {\n",
       "        text-align: right;\n",
       "    }\n",
       "</style>\n",
       "<table border=\"1\" class=\"dataframe\">\n",
       "  <thead>\n",
       "    <tr style=\"text-align: right;\">\n",
       "      <th></th>\n",
       "      <th>CustomerID</th>\n",
       "      <th>CustGender</th>\n",
       "      <th>CustAccountBalance</th>\n",
       "      <th>TransactionAmount (INR)</th>\n",
       "      <th>CustomerDOB</th>\n",
       "    </tr>\n",
       "  </thead>\n",
       "  <tbody>\n",
       "    <tr>\n",
       "      <th>0</th>\n",
       "      <td>C1010011</td>\n",
       "      <td>1</td>\n",
       "      <td>[13, 14, 15]</td>\n",
       "      <td>[18, 19, 20]</td>\n",
       "      <td>4</td>\n",
       "    </tr>\n",
       "    <tr>\n",
       "      <th>1</th>\n",
       "      <td>C1010012</td>\n",
       "      <td>0</td>\n",
       "      <td>[11, 12, 13]</td>\n",
       "      <td>[15, 16, 17]</td>\n",
       "      <td>4</td>\n",
       "    </tr>\n",
       "    <tr>\n",
       "      <th>2</th>\n",
       "      <td>C1010014</td>\n",
       "      <td>1</td>\n",
       "      <td>[13, 14, 15]</td>\n",
       "      <td>[15, 16, 17]</td>\n",
       "      <td>4</td>\n",
       "    </tr>\n",
       "    <tr>\n",
       "      <th>3</th>\n",
       "      <td>C1010018</td>\n",
       "      <td>1</td>\n",
       "      <td>[2, 3, 4]</td>\n",
       "      <td>[1, 2, 3]</td>\n",
       "      <td>4</td>\n",
       "    </tr>\n",
       "    <tr>\n",
       "      <th>4</th>\n",
       "      <td>C1010024</td>\n",
       "      <td>0</td>\n",
       "      <td>[16, 17, 18]</td>\n",
       "      <td>[18, 19, 20]</td>\n",
       "      <td>1</td>\n",
       "    </tr>\n",
       "    <tr>\n",
       "      <th>...</th>\n",
       "      <td>...</td>\n",
       "      <td>...</td>\n",
       "      <td>...</td>\n",
       "      <td>...</td>\n",
       "      <td>...</td>\n",
       "    </tr>\n",
       "    <tr>\n",
       "      <th>839076</th>\n",
       "      <td>C9099836</td>\n",
       "      <td>0</td>\n",
       "      <td>[17, 18, 19]</td>\n",
       "      <td>[12, 13, 14]</td>\n",
       "      <td>4</td>\n",
       "    </tr>\n",
       "    <tr>\n",
       "      <th>839077</th>\n",
       "      <td>C9099877</td>\n",
       "      <td>0</td>\n",
       "      <td>[16, 17, 18]</td>\n",
       "      <td>[6, 7, 8]</td>\n",
       "      <td>5</td>\n",
       "    </tr>\n",
       "    <tr>\n",
       "      <th>839078</th>\n",
       "      <td>C9099919</td>\n",
       "      <td>0</td>\n",
       "      <td>[5, 6, 7]</td>\n",
       "      <td>[4, 5, 6]</td>\n",
       "      <td>4</td>\n",
       "    </tr>\n",
       "    <tr>\n",
       "      <th>839079</th>\n",
       "      <td>C9099941</td>\n",
       "      <td>0</td>\n",
       "      <td>[13, 14, 15]</td>\n",
       "      <td>[1, 2, 3]</td>\n",
       "      <td>5</td>\n",
       "    </tr>\n",
       "    <tr>\n",
       "      <th>839080</th>\n",
       "      <td>C9099956</td>\n",
       "      <td>0</td>\n",
       "      <td>[6, 7, 8]</td>\n",
       "      <td>[13, 14, 15]</td>\n",
       "      <td>3</td>\n",
       "    </tr>\n",
       "  </tbody>\n",
       "</table>\n",
       "<p>839081 rows × 5 columns</p>\n",
       "</div>"
      ],
      "text/plain": [
       "       CustomerID  CustGender CustAccountBalance TransactionAmount (INR)  \\\n",
       "0        C1010011           1       [13, 14, 15]            [18, 19, 20]   \n",
       "1        C1010012           0       [11, 12, 13]            [15, 16, 17]   \n",
       "2        C1010014           1       [13, 14, 15]            [15, 16, 17]   \n",
       "3        C1010018           1          [2, 3, 4]               [1, 2, 3]   \n",
       "4        C1010024           0       [16, 17, 18]            [18, 19, 20]   \n",
       "...           ...         ...                ...                     ...   \n",
       "839076   C9099836           0       [17, 18, 19]            [12, 13, 14]   \n",
       "839077   C9099877           0       [16, 17, 18]               [6, 7, 8]   \n",
       "839078   C9099919           0          [5, 6, 7]               [4, 5, 6]   \n",
       "839079   C9099941           0       [13, 14, 15]               [1, 2, 3]   \n",
       "839080   C9099956           0          [6, 7, 8]            [13, 14, 15]   \n",
       "\n",
       "        CustomerDOB  \n",
       "0                 4  \n",
       "1                 4  \n",
       "2                 4  \n",
       "3                 4  \n",
       "4                 1  \n",
       "...             ...  \n",
       "839076            4  \n",
       "839077            5  \n",
       "839078            4  \n",
       "839079            5  \n",
       "839080            3  \n",
       "\n",
       "[839081 rows x 5 columns]"
      ]
     },
     "execution_count": 180,
     "metadata": {},
     "output_type": "execute_result"
    }
   ],
   "source": [
    "data"
   ]
  },
  {
   "cell_type": "markdown",
   "id": "9b99f3f1",
   "metadata": {},
   "source": [
    "We can store the cleaned dataset in a binary file, in order to retrieve it more easily."
   ]
  },
  {
   "cell_type": "markdown",
   "id": "4c425cac",
   "metadata": {},
   "source": [
    "### **1.2 Fingerprint hashing**\n",
    "Now that the dataset is ready we can proceed with the definition of our MinHash function.<br>\n",
    "First of all we are going to evaluate the similarity between customers based on this informations: *CustGender*, *CustLoction*, *CustAccountBalance*, *TransactionDate*, *TransactionTime*, *TransactionAmount (INR)* and the *CustomerAge*. In fact is likely that the behaviour of a customer depends on his wealth, his sex and the date and time (for example the type of the transactions can be different in the morning and in the afternoon or during summer and during winter). Furthermore, we consider also the location, there could be for example places where the payments can follow a pattern. Finally to find customers with similar behaviours we have for sure to consider the amount of the latter."
   ]
  },
  {
   "cell_type": "markdown",
   "id": "2b606e32",
   "metadata": {},
   "source": [
    "# MINHASH"
   ]
  },
  {
   "cell_type": "code",
   "execution_count": 183,
   "id": "4402ddd5",
   "metadata": {
    "scrolled": true
   },
   "outputs": [],
   "source": [
    "# APPEND EACH SHINGLE IN A LIST AND CREATE A '01' ARRAY \n",
    "def riempi01(arr):\n",
    "    array0=np.zeros(51)\n",
    "    array = np.append(np.array(arr['CustGender']),np.array(arr['CustAccountBalance'])+2)\n",
    "    array = np.append(array,np.array(arr['TransactionAmount (INR)'])+23)\n",
    "    array = np.append(array,np.array(arr['CustomerDOB'])+44)\n",
    "    array0[array] = 1\n",
    "    return np.array(array0)"
   ]
  },
  {
   "cell_type": "code",
   "execution_count": 184,
   "id": "74b3a366",
   "metadata": {},
   "outputs": [],
   "source": [
    "# APPLY THE PREVIOUS FUNCTION TO EACH ROW AND BUILD THE 01 MATRIX OF DATA\n",
    "mat01 = np.zeros((len(data),51),dtype=('int'))\n",
    "mat01 = data.apply(riempi01,axis=1)\n",
    "mat01=np.array(mat01.tolist(),dtype=('int'))"
   ]
  },
  {
   "cell_type": "code",
   "execution_count": 185,
   "id": "62654aa3",
   "metadata": {},
   "outputs": [
    {
     "data": {
      "text/plain": [
       "(839081, 51)"
      ]
     },
     "execution_count": 185,
     "metadata": {},
     "output_type": "execute_result"
    }
   ],
   "source": [
    "mat01.shape"
   ]
  },
  {
   "cell_type": "code",
   "execution_count": 186,
   "id": "d1be8b52",
   "metadata": {},
   "outputs": [],
   "source": [
    "np.save('mat0151.npy',mat01)\n",
    "#mat01=np.load('mat0151.npy')"
   ]
  },
  {
   "cell_type": "code",
   "execution_count": 187,
   "id": "fc9cffa1",
   "metadata": {},
   "outputs": [
    {
     "name": "stderr",
     "output_type": "stream",
     "text": [
      "100%|██████████| 24/24 [00:15<00:00,  1.56it/s]\n"
     ]
    }
   ],
   "source": [
    "### MINHASH migliore\n",
    "n_perms=24\n",
    "arr=np.arange(1,mat01.shape[1]+1)                  # ARANGE AN ARRAY OF LENGTH NUMBER OF SHINGLES\n",
    "matsin=np.zeros((len(data),n_perms),dtype=('int'))   # AND A MATRIX OF ZEROS FOR THE SINGOLAR MATRIX\n",
    "random.seed(42)\n",
    "for i in tqdm(range(n_perms)):                     \n",
    "    random.shuffle(arr)                            # FOR EACH N_PERMS, PERMUTE THE ARRAY THAT REPRESENT THE INDEX OF SHINGLES\n",
    "    j=1                                  \n",
    "    while 0 in matsin[:,i]:\n",
    "        # INDEX IN WHICH THE SHUFFLED ARRAY IS J\n",
    "        ind=np.where(arr==j)[0][0]              \n",
    "        \n",
    "        # FIND THE INDEX IN WHICH 01-MATRIX IS 1 AND THE SINGOLAR MATRIX IS 0\n",
    "        ind2=np.intersect1d(np.where(mat01[:,ind]==1)[0],np.where(matsin[:,i]==0)[0],assume_unique=True)\n",
    "        \n",
    "        # IN THAT INDEXES PUT J \n",
    "        matsin[ind2,i]=j\n",
    "        \n",
    "        j+=1     "
   ]
  },
  {
   "cell_type": "code",
   "execution_count": 188,
   "id": "8fd6b243",
   "metadata": {},
   "outputs": [],
   "source": [
    "np.save('matsin24.npy', matsin)\n",
    "#matsin=np.load('matsin24.npy')"
   ]
  },
  {
   "cell_type": "code",
   "execution_count": 189,
   "id": "49ab86b1",
   "metadata": {},
   "outputs": [
    {
     "data": {
      "text/plain": [
       "array([[ 2,  8,  9, ...,  8,  1,  2],\n",
       "       [ 2,  5,  6, ..., 17,  6,  6],\n",
       "       [ 2,  5,  8, ..., 17,  6,  6],\n",
       "       ...,\n",
       "       [ 2, 12,  1, ...,  1,  4,  3],\n",
       "       [ 8,  8,  4, ...,  6, 17,  9],\n",
       "       [ 3, 12,  2, ...,  1, 19, 19]])"
      ]
     },
     "execution_count": 189,
     "metadata": {},
     "output_type": "execute_result"
    }
   ],
   "source": [
    "matsin"
   ]
  },
  {
   "cell_type": "markdown",
   "id": "41c21bf2",
   "metadata": {},
   "source": [
    "# Riempi buckets"
   ]
  },
  {
   "cell_type": "code",
   "execution_count": 190,
   "id": "52200630",
   "metadata": {},
   "outputs": [],
   "source": [
    "### HASH FUNCTION:\n",
    "def hashfun(x,vet,vet1):\n",
    "    return(np.dot(vet1*x,vet) % 1099957)\n",
    "    \n",
    "### FILL BUCKETS FUNCTION:\n",
    "def fillbuc(mat,coldorsl,band): # (singolar matrix, n. rows for band, n. of the band)\n",
    "    bucket={}\n",
    "    row,col=mat.shape\n",
    "    random.seed(42)\n",
    "    vet=random.sample(range(1000000,100000000), coldorsl)\n",
    "    vet1=random.sample(range(1000000,100000000), coldorsl)\n",
    "    # TAKE THE BAND\n",
    "    matwork=mat[:,coldorsl*band:coldorsl*(band+1)]         \n",
    "        \n",
    "    bucket={}\n",
    "    for i in range(row):\n",
    "        ele=hashfun(matwork[i,:],vet,vet1)  # APPLY HASHFUNCTION ON THE COLOUMNS OF THE BANDS\n",
    "        if ele in bucket.keys():            # IF THERE ISN'T A BUCKET WITH THIS INDEX, BUILD IT\n",
    "            bucket[ele].append(i)\n",
    "        else:\n",
    "            bucket[ele]=[]\n",
    "            bucket[ele].append(i)\n",
    "\n",
    "    return bucket"
   ]
  },
  {
   "cell_type": "code",
   "execution_count": 191,
   "id": "1e6269d7",
   "metadata": {},
   "outputs": [
    {
     "name": "stderr",
     "output_type": "stream",
     "text": [
      "100%|██████████| 12/12 [00:43<00:00,  3.65s/it]\n"
     ]
    }
   ],
   "source": [
    "colforsl=2                                           # columns for each slice\n",
    "bands=int(matsin.shape[1]/colforsl)                  # number of bands\n",
    "allbuck2={}\n",
    "for i in tqdm(range(bands)):                         # for each slice build the buckets\n",
    "    allbuck2[i]=fillbuc(matsin,colforsl,i)       "
   ]
  },
  {
   "cell_type": "code",
   "execution_count": 192,
   "id": "ff6a5a41",
   "metadata": {},
   "outputs": [
    {
     "name": "stderr",
     "output_type": "stream",
     "text": [
      "100%|██████████| 8/8 [00:30<00:00,  3.77s/it]\n"
     ]
    }
   ],
   "source": [
    "colforsl=3                                           # columns for each slice\n",
    "bands=int(matsin.shape[1]/colforsl)                  # number of slices\n",
    "allbuck3={}\n",
    "for i in tqdm(range(bands)):                         # for each slice build the buckets\n",
    "    allbuck3[i]=fillbuc(matsin,colforsl,i)       "
   ]
  },
  {
   "cell_type": "code",
   "execution_count": 193,
   "id": "823b3034",
   "metadata": {},
   "outputs": [
    {
     "name": "stderr",
     "output_type": "stream",
     "text": [
      "100%|██████████| 6/6 [00:22<00:00,  3.74s/it]\n"
     ]
    }
   ],
   "source": [
    "colforsl=4                                           # columns for each slice\n",
    "bands=int(matsin.shape[1]/colforsl)                  # number of slices\n",
    "allbuck4={}\n",
    "for i in tqdm(range(bands)):                         # for each slice build the buckets\n",
    "    allbuck4[i]=fillbuc(matsin,colforsl,i)       "
   ]
  },
  {
   "cell_type": "code",
   "execution_count": 194,
   "id": "46ec21ac",
   "metadata": {},
   "outputs": [
    {
     "name": "stderr",
     "output_type": "stream",
     "text": [
      "100%|██████████| 4/4 [00:15<00:00,  3.85s/it]\n"
     ]
    }
   ],
   "source": [
    "colforsl=6                                           # columns for each slice\n",
    "bands=int(matsin.shape[1]/colforsl)                  # number of slices\n",
    "allbuck6={}\n",
    "for i in tqdm(range(bands)):                         # for each slice build the buckets\n",
    "    allbuck6[i]=fillbuc(matsin,colforsl,i)       "
   ]
  },
  {
   "cell_type": "code",
   "execution_count": 195,
   "id": "98e7dab1",
   "metadata": {},
   "outputs": [
    {
     "name": "stderr",
     "output_type": "stream",
     "text": [
      "100%|██████████| 3/3 [00:12<00:00,  4.14s/it]\n"
     ]
    }
   ],
   "source": [
    "colforsl=8                                           # columns for each slice\n",
    "bands=int(matsin.shape[1]/colforsl)                  # number of slices\n",
    "allbuck8={}\n",
    "for i in tqdm(range(bands)):                         # for each slice build the buckets\n",
    "    allbuck8[i]=fillbuc(matsin,colforsl,i)       "
   ]
  },
  {
   "cell_type": "code",
   "execution_count": 196,
   "id": "191877d0",
   "metadata": {},
   "outputs": [
    {
     "name": "stderr",
     "output_type": "stream",
     "text": [
      "100%|██████████| 2/2 [00:08<00:00,  4.40s/it]\n"
     ]
    }
   ],
   "source": [
    "colforsl=12                                           # columns for each slice\n",
    "bands=int(matsin.shape[1]/colforsl)                   # number of slices\n",
    "allbuck12={}\n",
    "for i in tqdm(range(bands)):                          # for each slice build the buckets\n",
    "    allbuck12[i]=fillbuc(matsin,colforsl,i)       "
   ]
  },
  {
   "cell_type": "code",
   "execution_count": 197,
   "id": "2086e802",
   "metadata": {},
   "outputs": [],
   "source": [
    "allbuck={}         # ALLBUCK CONTEIN ALL THE BUCKETS\n",
    "allbuck[2]=allbuck2\n",
    "allbuck[3]=allbuck3\n",
    "allbuck[4]=allbuck4\n",
    "allbuck[6]=allbuck6\n",
    "allbuck[8]=allbuck8\n",
    "allbuck[12]=allbuck12"
   ]
  },
  {
   "cell_type": "code",
   "execution_count": 198,
   "id": "e7ba3f70",
   "metadata": {},
   "outputs": [],
   "source": [
    "### QUANTI BUCKETS IN MEDIA\n",
    "mediabucket2=0\n",
    "mediabucket3=0\n",
    "mediabucket4=0\n",
    "mediabucket6=0\n",
    "mediabucket8=0\n",
    "mediabucket12=0\n",
    "\n",
    "for i in range(12):                # FOR EACH SLICE COUNT HOW MANY BUCKETS \n",
    "    mediabucket2+=len(allbuck2[i])\n",
    "mediabucket2=mediabucket2/12       # MEAN OF BUCKETS (for slices)\n",
    "\n",
    "for i in range(8):\n",
    "    mediabucket3+=len(allbuck3[i])\n",
    "mediabucket3=mediabucket3/8\n",
    "\n",
    "for i in range(6):\n",
    "    mediabucket4+=len(allbuck4[i])\n",
    "mediabucket4=mediabucket4/6\n",
    "\n",
    "for i in range(4):\n",
    "    mediabucket6+=len(allbuck6[i])\n",
    "mediabucket6=mediabucket6/4\n",
    "\n",
    "for i in range(3):\n",
    "    mediabucket8+=len(allbuck8[i])\n",
    "mediabucket8=mediabucket8/3\n",
    "\n",
    "for i in range(2):\n",
    "    mediabucket12+=len(allbuck12[i])\n",
    "mediabucket12=mediabucket12/2"
   ]
  },
  {
   "cell_type": "code",
   "execution_count": 199,
   "id": "20e36c8d",
   "metadata": {},
   "outputs": [],
   "source": [
    "### QUANTI ELEMENTI CI SONO IN CIASCUN BUCKET IN MEDIA\n",
    "mediaele2=0\n",
    "mediaele3=0\n",
    "mediaele4=0\n",
    "mediaele6=0\n",
    "mediaele8=0\n",
    "mediaele12=0\n",
    "\n",
    "\n",
    "for i in range(12):                      # FOR EACH SLICE\n",
    "    for j in allbuck2[i]:                # FOR EACH BUCKET\n",
    "        mediaele2+=len(allbuck2[i][j])   # HOW MANY ELEMENTS FOR BUCKET\n",
    "mediaele2=mediaele2/(mediabucket2*12)    # MEAN OF ELEMENTS FOR BUCKET (tot elements/(mean bucket* num slices))\n",
    "    \n",
    "for i in range(8):\n",
    "    for j in allbuck3[i]:\n",
    "        mediaele3+=len(allbuck3[i][j])\n",
    "mediaele3=mediaele3/(mediabucket3*8)\n",
    "\n",
    "for i in range(6):\n",
    "    for j in allbuck4[i]:\n",
    "        mediaele4+=len(allbuck4[i][j])\n",
    "mediaele4=mediaele4/(mediabucket4*6)\n",
    "\n",
    "for i in range(4):\n",
    "    for j in allbuck6[i]:\n",
    "        mediaele6+=len(allbuck6[i][j])\n",
    "mediaele6=mediaele6/(mediabucket6*4)\n",
    "\n",
    "for i in range(3):\n",
    "    for j in allbuck8[i]:\n",
    "        mediaele8+=len(allbuck8[i][j])\n",
    "mediaele8=mediaele8/(mediabucket8*3)\n",
    "\n",
    "for i in range(2):\n",
    "    for j in allbuck12[i]:\n",
    "        mediaele12+=len(allbuck12[i][j])\n",
    "mediaele12=mediaele12/(mediabucket12*2)"
   ]
  },
  {
   "cell_type": "markdown",
   "id": "b5afd307",
   "metadata": {},
   "source": [
    "# MEAN OF THE ELEMENTS, GIVEN THE ROWS IN BANDS"
   ]
  },
  {
   "cell_type": "code",
   "execution_count": 200,
   "id": "d5deedf6",
   "metadata": {
    "scrolled": true
   },
   "outputs": [
    {
     "data": {
      "text/plain": [
       "[<matplotlib.lines.Line2D at 0x22fc2be1b50>]"
      ]
     },
     "execution_count": 200,
     "metadata": {},
     "output_type": "execute_result"
    },
    {
     "data": {
      "image/png": "[encoded data removed]",
      "text/plain": [
       "<Figure size 432x288 with 1 Axes>"
      ]
     },
     "metadata": {
      "needs_background": "light"
     },
     "output_type": "display_data"
    }
   ],
   "source": [
    "plt.plot([2,3,4,6,8,12], [mediaele2,mediaele3,mediaele4,mediaele6,mediaele8,mediaele12])"
   ]
  },
  {
   "cell_type": "code",
   "execution_count": 201,
   "id": "19ee5799",
   "metadata": {},
   "outputs": [
    {
     "data": {
      "text/plain": [
       "[6882.4142173615855,\n",
       " 2150.80038449215,\n",
       " 1106.237310481213,\n",
       " 474.5933257918552,\n",
       " 333.45383494502585,\n",
       " 214.7360204734485]"
      ]
     },
     "execution_count": 201,
     "metadata": {},
     "output_type": "execute_result"
    }
   ],
   "source": [
    "[mediaele2,mediaele3,mediaele4,mediaele6,mediaele8,mediaele12]"
   ]
  },
  {
   "cell_type": "markdown",
   "id": "9c0acfb4",
   "metadata": {},
   "source": [
    "The plot is in log-scale because the mean number of elements in each bucket decrease very fast reducing the number of rows for bands"
   ]
  },
  {
   "cell_type": "markdown",
   "id": "b0711e7f",
   "metadata": {},
   "source": [
    "# MEAN OF THE BUCKETS, GIVEN THE ROWS IN BANDS"
   ]
  },
  {
   "cell_type": "code",
   "execution_count": 202,
   "id": "ccb4a415",
   "metadata": {
    "scrolled": true
   },
   "outputs": [
    {
     "data": {
      "text/plain": [
       "[<matplotlib.lines.Line2D at 0x22fb8c30070>]"
      ]
     },
     "execution_count": 202,
     "metadata": {},
     "output_type": "execute_result"
    },
    {
     "data": {
      "image/png": "[encoded data removed]",
      "text/plain": [
       "<Figure size 432x288 with 1 Axes>"
      ]
     },
     "metadata": {
      "needs_background": "light"
     },
     "output_type": "display_data"
    }
   ],
   "source": [
    "plt.plot([2,3,4,6,8,12], [mediabucket2,mediabucket3,mediabucket4,mediabucket6,mediabucket8,mediabucket12])"
   ]
  },
  {
   "cell_type": "code",
   "execution_count": 203,
   "id": "990e0021",
   "metadata": {},
   "outputs": [
    {
     "data": {
      "text/plain": [
       "[121.91666666666667, 390.125, 758.5, 1768.0, 2516.3333333333335, 3907.5]"
      ]
     },
     "execution_count": 203,
     "metadata": {},
     "output_type": "execute_result"
    }
   ],
   "source": [
    "[mediabucket2,mediabucket3,mediabucket4,mediabucket6,mediabucket8,mediabucket12]"
   ]
  },
  {
   "cell_type": "markdown",
   "id": "8c54ad6a",
   "metadata": {},
   "source": [
    "Converserly the number of buckets grows."
   ]
  },
  {
   "cell_type": "markdown",
   "id": "1c4fa502",
   "metadata": {},
   "source": [
    "# MEAN OF THE DIFFERENT VALUES, GIVEN THE ROWS IN THE BANDS\n"
   ]
  },
  {
   "cell_type": "code",
   "execution_count": 205,
   "id": "1f09737a",
   "metadata": {},
   "outputs": [
    {
     "data": {
      "text/html": [
       "<div>\n",
       "<style scoped>\n",
       "    .dataframe tbody tr th:only-of-type {\n",
       "        vertical-align: middle;\n",
       "    }\n",
       "\n",
       "    .dataframe tbody tr th {\n",
       "        vertical-align: top;\n",
       "    }\n",
       "\n",
       "    .dataframe thead th {\n",
       "        text-align: right;\n",
       "    }\n",
       "</style>\n",
       "<table border=\"1\" class=\"dataframe\">\n",
       "  <thead>\n",
       "    <tr style=\"text-align: right;\">\n",
       "      <th></th>\n",
       "      <th>CustomerID</th>\n",
       "      <th>CustGender</th>\n",
       "      <th>CustAccountBalance</th>\n",
       "      <th>TransactionAmount (INR)</th>\n",
       "      <th>CustomerDOB</th>\n",
       "    </tr>\n",
       "  </thead>\n",
       "  <tbody>\n",
       "    <tr>\n",
       "      <th>0</th>\n",
       "      <td>C1010011</td>\n",
       "      <td>1</td>\n",
       "      <td>[13, 14, 15]</td>\n",
       "      <td>[18, 19, 20]</td>\n",
       "      <td>4</td>\n",
       "    </tr>\n",
       "    <tr>\n",
       "      <th>1</th>\n",
       "      <td>C1010012</td>\n",
       "      <td>0</td>\n",
       "      <td>[11, 12, 13]</td>\n",
       "      <td>[15, 16, 17]</td>\n",
       "      <td>4</td>\n",
       "    </tr>\n",
       "    <tr>\n",
       "      <th>2</th>\n",
       "      <td>C1010014</td>\n",
       "      <td>1</td>\n",
       "      <td>[13, 14, 15]</td>\n",
       "      <td>[15, 16, 17]</td>\n",
       "      <td>4</td>\n",
       "    </tr>\n",
       "    <tr>\n",
       "      <th>3</th>\n",
       "      <td>C1010018</td>\n",
       "      <td>1</td>\n",
       "      <td>[2, 3, 4]</td>\n",
       "      <td>[1, 2, 3]</td>\n",
       "      <td>4</td>\n",
       "    </tr>\n",
       "    <tr>\n",
       "      <th>4</th>\n",
       "      <td>C1010024</td>\n",
       "      <td>0</td>\n",
       "      <td>[16, 17, 18]</td>\n",
       "      <td>[18, 19, 20]</td>\n",
       "      <td>1</td>\n",
       "    </tr>\n",
       "    <tr>\n",
       "      <th>...</th>\n",
       "      <td>...</td>\n",
       "      <td>...</td>\n",
       "      <td>...</td>\n",
       "      <td>...</td>\n",
       "      <td>...</td>\n",
       "    </tr>\n",
       "    <tr>\n",
       "      <th>839076</th>\n",
       "      <td>C9099836</td>\n",
       "      <td>0</td>\n",
       "      <td>[17, 18, 19]</td>\n",
       "      <td>[12, 13, 14]</td>\n",
       "      <td>4</td>\n",
       "    </tr>\n",
       "    <tr>\n",
       "      <th>839077</th>\n",
       "      <td>C9099877</td>\n",
       "      <td>0</td>\n",
       "      <td>[16, 17, 18]</td>\n",
       "      <td>[6, 7, 8]</td>\n",
       "      <td>5</td>\n",
       "    </tr>\n",
       "    <tr>\n",
       "      <th>839078</th>\n",
       "      <td>C9099919</td>\n",
       "      <td>0</td>\n",
       "      <td>[5, 6, 7]</td>\n",
       "      <td>[4, 5, 6]</td>\n",
       "      <td>4</td>\n",
       "    </tr>\n",
       "    <tr>\n",
       "      <th>839079</th>\n",
       "      <td>C9099941</td>\n",
       "      <td>0</td>\n",
       "      <td>[13, 14, 15]</td>\n",
       "      <td>[1, 2, 3]</td>\n",
       "      <td>5</td>\n",
       "    </tr>\n",
       "    <tr>\n",
       "      <th>839080</th>\n",
       "      <td>C9099956</td>\n",
       "      <td>0</td>\n",
       "      <td>[6, 7, 8]</td>\n",
       "      <td>[13, 14, 15]</td>\n",
       "      <td>3</td>\n",
       "    </tr>\n",
       "  </tbody>\n",
       "</table>\n",
       "<p>839081 rows × 5 columns</p>\n",
       "</div>"
      ],
      "text/plain": [
       "       CustomerID  CustGender CustAccountBalance TransactionAmount (INR)  \\\n",
       "0        C1010011           1       [13, 14, 15]            [18, 19, 20]   \n",
       "1        C1010012           0       [11, 12, 13]            [15, 16, 17]   \n",
       "2        C1010014           1       [13, 14, 15]            [15, 16, 17]   \n",
       "3        C1010018           1          [2, 3, 4]               [1, 2, 3]   \n",
       "4        C1010024           0       [16, 17, 18]            [18, 19, 20]   \n",
       "...           ...         ...                ...                     ...   \n",
       "839076   C9099836           0       [17, 18, 19]            [12, 13, 14]   \n",
       "839077   C9099877           0       [16, 17, 18]               [6, 7, 8]   \n",
       "839078   C9099919           0          [5, 6, 7]               [4, 5, 6]   \n",
       "839079   C9099941           0       [13, 14, 15]               [1, 2, 3]   \n",
       "839080   C9099956           0          [6, 7, 8]            [13, 14, 15]   \n",
       "\n",
       "        CustomerDOB  \n",
       "0                 4  \n",
       "1                 4  \n",
       "2                 4  \n",
       "3                 4  \n",
       "4                 1  \n",
       "...             ...  \n",
       "839076            4  \n",
       "839077            5  \n",
       "839078            4  \n",
       "839079            5  \n",
       "839080            3  \n",
       "\n",
       "[839081 rows x 5 columns]"
      ]
     },
     "execution_count": 205,
     "metadata": {},
     "output_type": "execute_result"
    }
   ],
   "source": [
    "data"
   ]
  },
  {
   "cell_type": "code",
   "execution_count": 210,
   "id": "f457da1b",
   "metadata": {},
   "outputs": [],
   "source": [
    "# data.CustAccountBalance=data.CustAccountBalance.apply(lambda x: str(x))\n",
    "# data['TransactionAmount (INR)']=data['TransactionAmount (INR)'].apply(lambda x: str(x))\n",
    "data.CustAccountBalance=data.CustAccountBalance.apply(lambda x: eval(x))\n",
    "data['TransactionAmount (INR)']=data['TransactionAmount (INR)'].apply(lambda x: eval(x))"
   ]
  },
  {
   "cell_type": "code",
   "execution_count": 212,
   "id": "3ae958ab",
   "metadata": {},
   "outputs": [
    {
     "name": "stderr",
     "output_type": "stream",
     "text": [
      "100%|██████████| 12/12 [00:11<00:00,  1.07it/s]\n",
      "100%|██████████| 8/8 [00:09<00:00,  1.18s/it]\n",
      "100%|██████████| 6/6 [00:09<00:00,  1.57s/it]\n",
      "100%|██████████| 4/4 [00:11<00:00,  2.95s/it]\n",
      "100%|██████████| 3/3 [00:11<00:00,  3.81s/it]\n",
      "100%|██████████| 2/2 [00:10<00:00,  5.24s/it]\n"
     ]
    }
   ],
   "source": [
    "num2=0\n",
    "num3=0\n",
    "num4=0\n",
    "num6=0\n",
    "num8=0\n",
    "num12=0\n",
    "\n",
    "\n",
    "for j in tqdm(allbuck2):                                                          # FOR EACH BANDS\n",
    "    for i in allbuck2[j].keys():                                                  # FOR EACH BUCKETS\n",
    "        num2+=len(data.loc[allbuck2[j][i]].drop('CustomerID',axis=1).value_counts())  # COUNT HOW MANY DIFFERENT VALUE\n",
    "num2=num2/(mediabucket2*12)                                                       # DIVIDE FOR NUMBER OF BUCKETS\n",
    "\n",
    "\n",
    "for j in tqdm(allbuck3):\n",
    "    for i in allbuck3[j].keys():\n",
    "        num3+=len(data.loc[allbuck3[j][i]].drop('CustomerID',axis=1).value_counts())\n",
    "        \n",
    "num3=num3/(mediabucket3*8)\n",
    "\n",
    "\n",
    "for j in tqdm(allbuck4):\n",
    "    for i in allbuck4[j].keys():\n",
    "        num4+=len(data.loc[allbuck4[j][i]].drop('CustomerID',axis=1).value_counts())\n",
    "        \n",
    "num4=num4/(mediabucket4*6)\n",
    "\n",
    "\n",
    "for j in tqdm(allbuck6):\n",
    "    for i in allbuck6[j].keys():\n",
    "        num6+=len(data.loc[allbuck6[j][i]].drop('CustomerID',axis=1).value_counts())\n",
    "        \n",
    "num6=num6/(mediabucket6*4)\n",
    "\n",
    "\n",
    "for j in tqdm(allbuck8):\n",
    "    for i in allbuck8[j].keys():\n",
    "        num8+=len(data.loc[allbuck8[j][i]].drop('CustomerID',axis=1).value_counts())\n",
    "        \n",
    "num8=num8/(mediabucket8*3)\n",
    "\n",
    "\n",
    "for j in tqdm(allbuck12):\n",
    "    for i in allbuck12[j].keys():\n",
    "        num12+=len(data.loc[allbuck12[j][i]].drop('CustomerID',axis=1).value_counts())\n",
    "    \n",
    "num12=num12/(mediabucket12*2)"
   ]
  },
  {
   "cell_type": "code",
   "execution_count": 213,
   "id": "25849089",
   "metadata": {},
   "outputs": [
    {
     "data": {
      "text/plain": [
       "[<matplotlib.lines.Line2D at 0x22f878b6340>]"
      ]
     },
     "execution_count": 213,
     "metadata": {},
     "output_type": "execute_result"
    },
    {
     "data": {
      "image/png": "[encoded data removed]",
      "text/plain": [
       "<Figure size 432x288 with 1 Axes>"
      ]
     },
     "metadata": {
      "needs_background": "light"
     },
     "output_type": "display_data"
    }
   ],
   "source": [
    "plt.plot([2,3,4,6,8,12], [num2,num3,num4,num6,num8,num12])"
   ]
  },
  {
   "cell_type": "code",
   "execution_count": 214,
   "id": "c941a884",
   "metadata": {
    "scrolled": true
   },
   "outputs": [
    {
     "data": {
      "text/plain": [
       "[38.32946001367054,\n",
       " 11.978212111502723,\n",
       " 6.160843770599868,\n",
       " 2.643099547511312,\n",
       " 1.8570671612134058,\n",
       " 1.1959053103007038]"
      ]
     },
     "execution_count": 214,
     "metadata": {},
     "output_type": "execute_result"
    }
   ],
   "source": [
    "[num2,num3,num4,num6,num8,num12]"
   ]
  },
  {
   "cell_type": "markdown",
   "id": "5204a66e",
   "metadata": {},
   "source": [
    "The mean of different elements decrease very fast, we have a sort of 'helbow' effect in 4, maybe this is due to the fact we are considering only 4 features."
   ]
  },
  {
   "cell_type": "markdown",
   "id": "547dadae",
   "metadata": {},
   "source": [
    "# Query"
   ]
  },
  {
   "cell_type": "code",
   "execution_count": 216,
   "id": "de4bb384",
   "metadata": {},
   "outputs": [],
   "source": [
    "query=pd.read_csv('query_users.csv')"
   ]
  },
  {
   "cell_type": "code",
   "execution_count": 217,
   "id": "d79403c1",
   "metadata": {},
   "outputs": [],
   "source": [
    "# QUERYNEW => DROP COLOUMS AND TAKE ONLY YEAR INSTEAD THE DATE\n",
    "querynew=pd.DataFrame()\n",
    "querynew=query.drop(['CustLocation','TransactionDate','TransactionTime'],axis=1)\n",
    "querynew.CustomerDOB = pd.to_datetime(query.CustomerDOB)\n",
    "querynew.CustomerDOB=querynew.CustomerDOB.dt.year"
   ]
  },
  {
   "cell_type": "code",
   "execution_count": 218,
   "id": "5bc6ab7c",
   "metadata": {},
   "outputs": [
    {
     "data": {
      "text/html": [
       "<div>\n",
       "<style scoped>\n",
       "    .dataframe tbody tr th:only-of-type {\n",
       "        vertical-align: middle;\n",
       "    }\n",
       "\n",
       "    .dataframe tbody tr th {\n",
       "        vertical-align: top;\n",
       "    }\n",
       "\n",
       "    .dataframe thead th {\n",
       "        text-align: right;\n",
       "    }\n",
       "</style>\n",
       "<table border=\"1\" class=\"dataframe\">\n",
       "  <thead>\n",
       "    <tr style=\"text-align: right;\">\n",
       "      <th></th>\n",
       "      <th>CustomerDOB</th>\n",
       "      <th>CustGender</th>\n",
       "      <th>CustAccountBalance</th>\n",
       "      <th>TransactionAmount (INR)</th>\n",
       "    </tr>\n",
       "  </thead>\n",
       "  <tbody>\n",
       "    <tr>\n",
       "      <th>0</th>\n",
       "      <td>1978</td>\n",
       "      <td>M</td>\n",
       "      <td>94695.61</td>\n",
       "      <td>65.00</td>\n",
       "    </tr>\n",
       "    <tr>\n",
       "      <th>1</th>\n",
       "      <td>1992</td>\n",
       "      <td>M</td>\n",
       "      <td>7584.09</td>\n",
       "      <td>6025.00</td>\n",
       "    </tr>\n",
       "    <tr>\n",
       "      <th>2</th>\n",
       "      <td>1991</td>\n",
       "      <td>M</td>\n",
       "      <td>7180.60</td>\n",
       "      <td>541.50</td>\n",
       "    </tr>\n",
       "    <tr>\n",
       "      <th>3</th>\n",
       "      <td>1987</td>\n",
       "      <td>M</td>\n",
       "      <td>56847.75</td>\n",
       "      <td>1000.00</td>\n",
       "    </tr>\n",
       "    <tr>\n",
       "      <th>4</th>\n",
       "      <td>1995</td>\n",
       "      <td>M</td>\n",
       "      <td>84950.13</td>\n",
       "      <td>80.00</td>\n",
       "    </tr>\n",
       "    <tr>\n",
       "      <th>5</th>\n",
       "      <td>1981</td>\n",
       "      <td>M</td>\n",
       "      <td>23143.95</td>\n",
       "      <td>303.00</td>\n",
       "    </tr>\n",
       "    <tr>\n",
       "      <th>6</th>\n",
       "      <td>1976</td>\n",
       "      <td>F</td>\n",
       "      <td>15397.80</td>\n",
       "      <td>20.00</td>\n",
       "    </tr>\n",
       "    <tr>\n",
       "      <th>7</th>\n",
       "      <td>1991</td>\n",
       "      <td>M</td>\n",
       "      <td>426.30</td>\n",
       "      <td>50.00</td>\n",
       "    </tr>\n",
       "    <tr>\n",
       "      <th>8</th>\n",
       "      <td>1990</td>\n",
       "      <td>M</td>\n",
       "      <td>4609.34</td>\n",
       "      <td>300.00</td>\n",
       "    </tr>\n",
       "    <tr>\n",
       "      <th>9</th>\n",
       "      <td>2070</td>\n",
       "      <td>M</td>\n",
       "      <td>6695988.46</td>\n",
       "      <td>299.00</td>\n",
       "    </tr>\n",
       "    <tr>\n",
       "      <th>10</th>\n",
       "      <td>1989</td>\n",
       "      <td>M</td>\n",
       "      <td>5974.56</td>\n",
       "      <td>300.00</td>\n",
       "    </tr>\n",
       "    <tr>\n",
       "      <th>11</th>\n",
       "      <td>1984</td>\n",
       "      <td>M</td>\n",
       "      <td>268.09</td>\n",
       "      <td>2244.00</td>\n",
       "    </tr>\n",
       "    <tr>\n",
       "      <th>12</th>\n",
       "      <td>1979</td>\n",
       "      <td>M</td>\n",
       "      <td>38785.44</td>\n",
       "      <td>690.00</td>\n",
       "    </tr>\n",
       "    <tr>\n",
       "      <th>13</th>\n",
       "      <td>1992</td>\n",
       "      <td>F</td>\n",
       "      <td>19767.76</td>\n",
       "      <td>4912.00</td>\n",
       "    </tr>\n",
       "    <tr>\n",
       "      <th>14</th>\n",
       "      <td>1986</td>\n",
       "      <td>M</td>\n",
       "      <td>21713.09</td>\n",
       "      <td>284.00</td>\n",
       "    </tr>\n",
       "    <tr>\n",
       "      <th>15</th>\n",
       "      <td>1800</td>\n",
       "      <td>M</td>\n",
       "      <td>28333.11</td>\n",
       "      <td>1000.00</td>\n",
       "    </tr>\n",
       "    <tr>\n",
       "      <th>16</th>\n",
       "      <td>1991</td>\n",
       "      <td>F</td>\n",
       "      <td>1981.59</td>\n",
       "      <td>401.00</td>\n",
       "    </tr>\n",
       "    <tr>\n",
       "      <th>17</th>\n",
       "      <td>1800</td>\n",
       "      <td>M</td>\n",
       "      <td>176303.02</td>\n",
       "      <td>1347.00</td>\n",
       "    </tr>\n",
       "    <tr>\n",
       "      <th>18</th>\n",
       "      <td>1993</td>\n",
       "      <td>M</td>\n",
       "      <td>27930.23</td>\n",
       "      <td>60.00</td>\n",
       "    </tr>\n",
       "    <tr>\n",
       "      <th>19</th>\n",
       "      <td>1989</td>\n",
       "      <td>M</td>\n",
       "      <td>6399.24</td>\n",
       "      <td>404.00</td>\n",
       "    </tr>\n",
       "    <tr>\n",
       "      <th>20</th>\n",
       "      <td>1982</td>\n",
       "      <td>F</td>\n",
       "      <td>498859.06</td>\n",
       "      <td>40000.00</td>\n",
       "    </tr>\n",
       "    <tr>\n",
       "      <th>21</th>\n",
       "      <td>2062</td>\n",
       "      <td>F</td>\n",
       "      <td>108941.24</td>\n",
       "      <td>1280.00</td>\n",
       "    </tr>\n",
       "    <tr>\n",
       "      <th>22</th>\n",
       "      <td>1988</td>\n",
       "      <td>M</td>\n",
       "      <td>125934.77</td>\n",
       "      <td>197.00</td>\n",
       "    </tr>\n",
       "    <tr>\n",
       "      <th>23</th>\n",
       "      <td>2065</td>\n",
       "      <td>M</td>\n",
       "      <td>47403.83</td>\n",
       "      <td>3460.00</td>\n",
       "    </tr>\n",
       "    <tr>\n",
       "      <th>24</th>\n",
       "      <td>1994</td>\n",
       "      <td>M</td>\n",
       "      <td>26655.05</td>\n",
       "      <td>150.00</td>\n",
       "    </tr>\n",
       "    <tr>\n",
       "      <th>25</th>\n",
       "      <td>1975</td>\n",
       "      <td>M</td>\n",
       "      <td>10072.85</td>\n",
       "      <td>862.44</td>\n",
       "    </tr>\n",
       "    <tr>\n",
       "      <th>26</th>\n",
       "      <td>1989</td>\n",
       "      <td>M</td>\n",
       "      <td>101424.95</td>\n",
       "      <td>990.00</td>\n",
       "    </tr>\n",
       "    <tr>\n",
       "      <th>27</th>\n",
       "      <td>1983</td>\n",
       "      <td>M</td>\n",
       "      <td>64389.91</td>\n",
       "      <td>220.00</td>\n",
       "    </tr>\n",
       "    <tr>\n",
       "      <th>28</th>\n",
       "      <td>1987</td>\n",
       "      <td>M</td>\n",
       "      <td>12793.16</td>\n",
       "      <td>199.00</td>\n",
       "    </tr>\n",
       "    <tr>\n",
       "      <th>29</th>\n",
       "      <td>1800</td>\n",
       "      <td>M</td>\n",
       "      <td>205.70</td>\n",
       "      <td>1933.52</td>\n",
       "    </tr>\n",
       "    <tr>\n",
       "      <th>30</th>\n",
       "      <td>1986</td>\n",
       "      <td>M</td>\n",
       "      <td>170981.48</td>\n",
       "      <td>1137.00</td>\n",
       "    </tr>\n",
       "    <tr>\n",
       "      <th>31</th>\n",
       "      <td>2069</td>\n",
       "      <td>M</td>\n",
       "      <td>995009.07</td>\n",
       "      <td>3000.00</td>\n",
       "    </tr>\n",
       "    <tr>\n",
       "      <th>32</th>\n",
       "      <td>1800</td>\n",
       "      <td>M</td>\n",
       "      <td>6771.64</td>\n",
       "      <td>282.90</td>\n",
       "    </tr>\n",
       "    <tr>\n",
       "      <th>33</th>\n",
       "      <td>1984</td>\n",
       "      <td>F</td>\n",
       "      <td>103832.66</td>\n",
       "      <td>1290.23</td>\n",
       "    </tr>\n",
       "    <tr>\n",
       "      <th>34</th>\n",
       "      <td>1991</td>\n",
       "      <td>M</td>\n",
       "      <td>602296.81</td>\n",
       "      <td>2937.48</td>\n",
       "    </tr>\n",
       "    <tr>\n",
       "      <th>35</th>\n",
       "      <td>1991</td>\n",
       "      <td>F</td>\n",
       "      <td>23299.53</td>\n",
       "      <td>212.00</td>\n",
       "    </tr>\n",
       "    <tr>\n",
       "      <th>36</th>\n",
       "      <td>1986</td>\n",
       "      <td>M</td>\n",
       "      <td>398248.26</td>\n",
       "      <td>3180.00</td>\n",
       "    </tr>\n",
       "    <tr>\n",
       "      <th>37</th>\n",
       "      <td>1987</td>\n",
       "      <td>M</td>\n",
       "      <td>1660.45</td>\n",
       "      <td>100.86</td>\n",
       "    </tr>\n",
       "    <tr>\n",
       "      <th>38</th>\n",
       "      <td>1984</td>\n",
       "      <td>M</td>\n",
       "      <td>11349.64</td>\n",
       "      <td>5598.00</td>\n",
       "    </tr>\n",
       "    <tr>\n",
       "      <th>39</th>\n",
       "      <td>1988</td>\n",
       "      <td>M</td>\n",
       "      <td>10994.33</td>\n",
       "      <td>60.00</td>\n",
       "    </tr>\n",
       "    <tr>\n",
       "      <th>40</th>\n",
       "      <td>1987</td>\n",
       "      <td>M</td>\n",
       "      <td>2887.39</td>\n",
       "      <td>20.00</td>\n",
       "    </tr>\n",
       "    <tr>\n",
       "      <th>41</th>\n",
       "      <td>1986</td>\n",
       "      <td>M</td>\n",
       "      <td>31987.86</td>\n",
       "      <td>203.00</td>\n",
       "    </tr>\n",
       "    <tr>\n",
       "      <th>42</th>\n",
       "      <td>1981</td>\n",
       "      <td>F</td>\n",
       "      <td>85626.45</td>\n",
       "      <td>1500.00</td>\n",
       "    </tr>\n",
       "    <tr>\n",
       "      <th>43</th>\n",
       "      <td>1990</td>\n",
       "      <td>F</td>\n",
       "      <td>3156.39</td>\n",
       "      <td>199.00</td>\n",
       "    </tr>\n",
       "    <tr>\n",
       "      <th>44</th>\n",
       "      <td>1972</td>\n",
       "      <td>M</td>\n",
       "      <td>225234.23</td>\n",
       "      <td>347.30</td>\n",
       "    </tr>\n",
       "    <tr>\n",
       "      <th>45</th>\n",
       "      <td>1990</td>\n",
       "      <td>F</td>\n",
       "      <td>1089764.73</td>\n",
       "      <td>250.00</td>\n",
       "    </tr>\n",
       "    <tr>\n",
       "      <th>46</th>\n",
       "      <td>1974</td>\n",
       "      <td>M</td>\n",
       "      <td>24678.92</td>\n",
       "      <td>60.00</td>\n",
       "    </tr>\n",
       "    <tr>\n",
       "      <th>47</th>\n",
       "      <td>1991</td>\n",
       "      <td>M</td>\n",
       "      <td>518766.40</td>\n",
       "      <td>90.00</td>\n",
       "    </tr>\n",
       "    <tr>\n",
       "      <th>48</th>\n",
       "      <td>1994</td>\n",
       "      <td>F</td>\n",
       "      <td>8085.25</td>\n",
       "      <td>1014.00</td>\n",
       "    </tr>\n",
       "    <tr>\n",
       "      <th>49</th>\n",
       "      <td>1987</td>\n",
       "      <td>M</td>\n",
       "      <td>10989.03</td>\n",
       "      <td>240.00</td>\n",
       "    </tr>\n",
       "  </tbody>\n",
       "</table>\n",
       "</div>"
      ],
      "text/plain": [
       "    CustomerDOB CustGender  CustAccountBalance  TransactionAmount (INR)\n",
       "0          1978          M            94695.61                    65.00\n",
       "1          1992          M             7584.09                  6025.00\n",
       "2          1991          M             7180.60                   541.50\n",
       "3          1987          M            56847.75                  1000.00\n",
       "4          1995          M            84950.13                    80.00\n",
       "5          1981          M            23143.95                   303.00\n",
       "6          1976          F            15397.80                    20.00\n",
       "7          1991          M              426.30                    50.00\n",
       "8          1990          M             4609.34                   300.00\n",
       "9          2070          M          6695988.46                   299.00\n",
       "10         1989          M             5974.56                   300.00\n",
       "11         1984          M              268.09                  2244.00\n",
       "12         1979          M            38785.44                   690.00\n",
       "13         1992          F            19767.76                  4912.00\n",
       "14         1986          M            21713.09                   284.00\n",
       "15         1800          M            28333.11                  1000.00\n",
       "16         1991          F             1981.59                   401.00\n",
       "17         1800          M           176303.02                  1347.00\n",
       "18         1993          M            27930.23                    60.00\n",
       "19         1989          M             6399.24                   404.00\n",
       "20         1982          F           498859.06                 40000.00\n",
       "21         2062          F           108941.24                  1280.00\n",
       "22         1988          M           125934.77                   197.00\n",
       "23         2065          M            47403.83                  3460.00\n",
       "24         1994          M            26655.05                   150.00\n",
       "25         1975          M            10072.85                   862.44\n",
       "26         1989          M           101424.95                   990.00\n",
       "27         1983          M            64389.91                   220.00\n",
       "28         1987          M            12793.16                   199.00\n",
       "29         1800          M              205.70                  1933.52\n",
       "30         1986          M           170981.48                  1137.00\n",
       "31         2069          M           995009.07                  3000.00\n",
       "32         1800          M             6771.64                   282.90\n",
       "33         1984          F           103832.66                  1290.23\n",
       "34         1991          M           602296.81                  2937.48\n",
       "35         1991          F            23299.53                   212.00\n",
       "36         1986          M           398248.26                  3180.00\n",
       "37         1987          M             1660.45                   100.86\n",
       "38         1984          M            11349.64                  5598.00\n",
       "39         1988          M            10994.33                    60.00\n",
       "40         1987          M             2887.39                    20.00\n",
       "41         1986          M            31987.86                   203.00\n",
       "42         1981          F            85626.45                  1500.00\n",
       "43         1990          F             3156.39                   199.00\n",
       "44         1972          M           225234.23                   347.30\n",
       "45         1990          F          1089764.73                   250.00\n",
       "46         1974          M            24678.92                    60.00\n",
       "47         1991          M           518766.40                    90.00\n",
       "48         1994          F             8085.25                  1014.00\n",
       "49         1987          M            10989.03                   240.00"
      ]
     },
     "execution_count": 218,
     "metadata": {},
     "output_type": "execute_result"
    }
   ],
   "source": [
    "querynew"
   ]
  },
  {
   "cell_type": "code",
   "execution_count": 219,
   "id": "a60320be",
   "metadata": {},
   "outputs": [],
   "source": [
    "# QUERYPRO => TRADUCE QUERYNEW IN SHINGLES\n",
    "querypro=pd.DataFrame()\n",
    "querypro['Gender']=query.CustGender.apply(lambda x: 0 if x=='M' else 1)\n",
    "querypro['Balance']=query.CustAccountBalance.apply(lambda x: tagliabal(x))\n",
    "querypro['Transaction']=query['TransactionAmount (INR)'].apply(lambda x: tagliatran(x))\n",
    "querypro['Age']=pd.to_datetime(query['CustomerDOB']).dt.year.apply(lambda x: tagliaeta(x))"
   ]
  },
  {
   "cell_type": "code",
   "execution_count": 220,
   "id": "a0ae41bb",
   "metadata": {},
   "outputs": [
    {
     "data": {
      "text/html": [
       "<div>\n",
       "<style scoped>\n",
       "    .dataframe tbody tr th:only-of-type {\n",
       "        vertical-align: middle;\n",
       "    }\n",
       "\n",
       "    .dataframe tbody tr th {\n",
       "        vertical-align: top;\n",
       "    }\n",
       "\n",
       "    .dataframe thead th {\n",
       "        text-align: right;\n",
       "    }\n",
       "</style>\n",
       "<table border=\"1\" class=\"dataframe\">\n",
       "  <thead>\n",
       "    <tr style=\"text-align: right;\">\n",
       "      <th></th>\n",
       "      <th>Gender</th>\n",
       "      <th>Balance</th>\n",
       "      <th>Transaction</th>\n",
       "      <th>Age</th>\n",
       "    </tr>\n",
       "  </thead>\n",
       "  <tbody>\n",
       "    <tr>\n",
       "      <th>0</th>\n",
       "      <td>0</td>\n",
       "      <td>[16, 17, 18]</td>\n",
       "      <td>[2, 3, 4]</td>\n",
       "      <td>2</td>\n",
       "    </tr>\n",
       "    <tr>\n",
       "      <th>1</th>\n",
       "      <td>0</td>\n",
       "      <td>[6, 7, 8]</td>\n",
       "      <td>[20, 21]</td>\n",
       "      <td>4</td>\n",
       "    </tr>\n",
       "    <tr>\n",
       "      <th>2</th>\n",
       "      <td>0</td>\n",
       "      <td>[6, 7, 8]</td>\n",
       "      <td>[11, 12, 13]</td>\n",
       "      <td>4</td>\n",
       "    </tr>\n",
       "    <tr>\n",
       "      <th>3</th>\n",
       "      <td>0</td>\n",
       "      <td>[15, 16, 17]</td>\n",
       "      <td>[14, 15, 16]</td>\n",
       "      <td>3</td>\n",
       "    </tr>\n",
       "    <tr>\n",
       "      <th>4</th>\n",
       "      <td>0</td>\n",
       "      <td>[16, 17, 18]</td>\n",
       "      <td>[2, 3, 4]</td>\n",
       "      <td>5</td>\n",
       "    </tr>\n",
       "    <tr>\n",
       "      <th>5</th>\n",
       "      <td>0</td>\n",
       "      <td>[11, 12, 13]</td>\n",
       "      <td>[8, 9, 10]</td>\n",
       "      <td>3</td>\n",
       "    </tr>\n",
       "    <tr>\n",
       "      <th>6</th>\n",
       "      <td>1</td>\n",
       "      <td>[9, 10, 11]</td>\n",
       "      <td>[0, 1]</td>\n",
       "      <td>2</td>\n",
       "    </tr>\n",
       "    <tr>\n",
       "      <th>7</th>\n",
       "      <td>0</td>\n",
       "      <td>[1, 2, 3]</td>\n",
       "      <td>[1, 2, 3]</td>\n",
       "      <td>4</td>\n",
       "    </tr>\n",
       "    <tr>\n",
       "      <th>8</th>\n",
       "      <td>0</td>\n",
       "      <td>[5, 6, 7]</td>\n",
       "      <td>[8, 9, 10]</td>\n",
       "      <td>4</td>\n",
       "    </tr>\n",
       "    <tr>\n",
       "      <th>9</th>\n",
       "      <td>0</td>\n",
       "      <td>[20, 21]</td>\n",
       "      <td>[8, 9, 10]</td>\n",
       "      <td>5</td>\n",
       "    </tr>\n",
       "    <tr>\n",
       "      <th>10</th>\n",
       "      <td>0</td>\n",
       "      <td>[5, 6, 7]</td>\n",
       "      <td>[8, 9, 10]</td>\n",
       "      <td>3</td>\n",
       "    </tr>\n",
       "    <tr>\n",
       "      <th>11</th>\n",
       "      <td>0</td>\n",
       "      <td>[1, 2, 3]</td>\n",
       "      <td>[17, 18, 19]</td>\n",
       "      <td>3</td>\n",
       "    </tr>\n",
       "    <tr>\n",
       "      <th>12</th>\n",
       "      <td>0</td>\n",
       "      <td>[13, 14, 15]</td>\n",
       "      <td>[12, 13, 14]</td>\n",
       "      <td>2</td>\n",
       "    </tr>\n",
       "    <tr>\n",
       "      <th>13</th>\n",
       "      <td>1</td>\n",
       "      <td>[10, 11, 12]</td>\n",
       "      <td>[18, 19, 20]</td>\n",
       "      <td>4</td>\n",
       "    </tr>\n",
       "    <tr>\n",
       "      <th>14</th>\n",
       "      <td>0</td>\n",
       "      <td>[11, 12, 13]</td>\n",
       "      <td>[7, 8, 9]</td>\n",
       "      <td>3</td>\n",
       "    </tr>\n",
       "    <tr>\n",
       "      <th>15</th>\n",
       "      <td>0</td>\n",
       "      <td>[12, 13, 14]</td>\n",
       "      <td>[14, 15, 16]</td>\n",
       "      <td>0</td>\n",
       "    </tr>\n",
       "    <tr>\n",
       "      <th>16</th>\n",
       "      <td>1</td>\n",
       "      <td>[3, 4, 5]</td>\n",
       "      <td>[9, 10, 11]</td>\n",
       "      <td>4</td>\n",
       "    </tr>\n",
       "    <tr>\n",
       "      <th>17</th>\n",
       "      <td>0</td>\n",
       "      <td>[17, 18, 19]</td>\n",
       "      <td>[15, 16, 17]</td>\n",
       "      <td>0</td>\n",
       "    </tr>\n",
       "    <tr>\n",
       "      <th>18</th>\n",
       "      <td>0</td>\n",
       "      <td>[12, 13, 14]</td>\n",
       "      <td>[2, 3, 4]</td>\n",
       "      <td>4</td>\n",
       "    </tr>\n",
       "    <tr>\n",
       "      <th>19</th>\n",
       "      <td>0</td>\n",
       "      <td>[6, 7, 8]</td>\n",
       "      <td>[9, 10, 11]</td>\n",
       "      <td>3</td>\n",
       "    </tr>\n",
       "    <tr>\n",
       "      <th>20</th>\n",
       "      <td>1</td>\n",
       "      <td>[20, 21]</td>\n",
       "      <td>[20, 21]</td>\n",
       "      <td>3</td>\n",
       "    </tr>\n",
       "    <tr>\n",
       "      <th>21</th>\n",
       "      <td>1</td>\n",
       "      <td>[17, 18, 19]</td>\n",
       "      <td>[15, 16, 17]</td>\n",
       "      <td>5</td>\n",
       "    </tr>\n",
       "    <tr>\n",
       "      <th>22</th>\n",
       "      <td>0</td>\n",
       "      <td>[17, 18, 19]</td>\n",
       "      <td>[5, 6, 7]</td>\n",
       "      <td>3</td>\n",
       "    </tr>\n",
       "    <tr>\n",
       "      <th>23</th>\n",
       "      <td>0</td>\n",
       "      <td>[14, 15, 16]</td>\n",
       "      <td>[18, 19, 20]</td>\n",
       "      <td>5</td>\n",
       "    </tr>\n",
       "    <tr>\n",
       "      <th>24</th>\n",
       "      <td>0</td>\n",
       "      <td>[12, 13, 14]</td>\n",
       "      <td>[4, 5, 6]</td>\n",
       "      <td>4</td>\n",
       "    </tr>\n",
       "    <tr>\n",
       "      <th>25</th>\n",
       "      <td>0</td>\n",
       "      <td>[7, 8, 9]</td>\n",
       "      <td>[13, 14, 15]</td>\n",
       "      <td>2</td>\n",
       "    </tr>\n",
       "    <tr>\n",
       "      <th>26</th>\n",
       "      <td>0</td>\n",
       "      <td>[16, 17, 18]</td>\n",
       "      <td>[14, 15, 16]</td>\n",
       "      <td>3</td>\n",
       "    </tr>\n",
       "    <tr>\n",
       "      <th>27</th>\n",
       "      <td>0</td>\n",
       "      <td>[15, 16, 17]</td>\n",
       "      <td>[6, 7, 8]</td>\n",
       "      <td>3</td>\n",
       "    </tr>\n",
       "    <tr>\n",
       "      <th>28</th>\n",
       "      <td>0</td>\n",
       "      <td>[8, 9, 10]</td>\n",
       "      <td>[5, 6, 7]</td>\n",
       "      <td>3</td>\n",
       "    </tr>\n",
       "    <tr>\n",
       "      <th>29</th>\n",
       "      <td>0</td>\n",
       "      <td>[1, 2, 3]</td>\n",
       "      <td>[16, 17, 18]</td>\n",
       "      <td>0</td>\n",
       "    </tr>\n",
       "    <tr>\n",
       "      <th>30</th>\n",
       "      <td>0</td>\n",
       "      <td>[17, 18, 19]</td>\n",
       "      <td>[15, 16, 17]</td>\n",
       "      <td>3</td>\n",
       "    </tr>\n",
       "    <tr>\n",
       "      <th>31</th>\n",
       "      <td>0</td>\n",
       "      <td>[20, 21]</td>\n",
       "      <td>[18, 19, 20]</td>\n",
       "      <td>5</td>\n",
       "    </tr>\n",
       "    <tr>\n",
       "      <th>32</th>\n",
       "      <td>0</td>\n",
       "      <td>[6, 7, 8]</td>\n",
       "      <td>[7, 8, 9]</td>\n",
       "      <td>0</td>\n",
       "    </tr>\n",
       "    <tr>\n",
       "      <th>33</th>\n",
       "      <td>1</td>\n",
       "      <td>[16, 17, 18]</td>\n",
       "      <td>[15, 16, 17]</td>\n",
       "      <td>3</td>\n",
       "    </tr>\n",
       "    <tr>\n",
       "      <th>34</th>\n",
       "      <td>0</td>\n",
       "      <td>[20, 21]</td>\n",
       "      <td>[18, 19, 20]</td>\n",
       "      <td>4</td>\n",
       "    </tr>\n",
       "    <tr>\n",
       "      <th>35</th>\n",
       "      <td>1</td>\n",
       "      <td>[11, 12, 13]</td>\n",
       "      <td>[6, 7, 8]</td>\n",
       "      <td>4</td>\n",
       "    </tr>\n",
       "    <tr>\n",
       "      <th>36</th>\n",
       "      <td>0</td>\n",
       "      <td>[20, 21]</td>\n",
       "      <td>[18, 19, 20]</td>\n",
       "      <td>3</td>\n",
       "    </tr>\n",
       "    <tr>\n",
       "      <th>37</th>\n",
       "      <td>0</td>\n",
       "      <td>[3, 4, 5]</td>\n",
       "      <td>[3, 4, 5]</td>\n",
       "      <td>3</td>\n",
       "    </tr>\n",
       "    <tr>\n",
       "      <th>38</th>\n",
       "      <td>0</td>\n",
       "      <td>[8, 9, 10]</td>\n",
       "      <td>[20, 21]</td>\n",
       "      <td>3</td>\n",
       "    </tr>\n",
       "    <tr>\n",
       "      <th>39</th>\n",
       "      <td>0</td>\n",
       "      <td>[8, 9, 10]</td>\n",
       "      <td>[2, 3, 4]</td>\n",
       "      <td>3</td>\n",
       "    </tr>\n",
       "    <tr>\n",
       "      <th>40</th>\n",
       "      <td>0</td>\n",
       "      <td>[3, 4, 5]</td>\n",
       "      <td>[0, 1]</td>\n",
       "      <td>3</td>\n",
       "    </tr>\n",
       "    <tr>\n",
       "      <th>41</th>\n",
       "      <td>0</td>\n",
       "      <td>[13, 14, 15]</td>\n",
       "      <td>[6, 7, 8]</td>\n",
       "      <td>3</td>\n",
       "    </tr>\n",
       "    <tr>\n",
       "      <th>42</th>\n",
       "      <td>1</td>\n",
       "      <td>[16, 17, 18]</td>\n",
       "      <td>[16, 17, 18]</td>\n",
       "      <td>3</td>\n",
       "    </tr>\n",
       "    <tr>\n",
       "      <th>43</th>\n",
       "      <td>1</td>\n",
       "      <td>[4, 5, 6]</td>\n",
       "      <td>[5, 6, 7]</td>\n",
       "      <td>4</td>\n",
       "    </tr>\n",
       "    <tr>\n",
       "      <th>44</th>\n",
       "      <td>0</td>\n",
       "      <td>[18, 19, 20]</td>\n",
       "      <td>[8, 9, 10]</td>\n",
       "      <td>2</td>\n",
       "    </tr>\n",
       "    <tr>\n",
       "      <th>45</th>\n",
       "      <td>1</td>\n",
       "      <td>[20, 21]</td>\n",
       "      <td>[7, 8, 9]</td>\n",
       "      <td>4</td>\n",
       "    </tr>\n",
       "    <tr>\n",
       "      <th>46</th>\n",
       "      <td>0</td>\n",
       "      <td>[11, 12, 13]</td>\n",
       "      <td>[2, 3, 4]</td>\n",
       "      <td>2</td>\n",
       "    </tr>\n",
       "    <tr>\n",
       "      <th>47</th>\n",
       "      <td>0</td>\n",
       "      <td>[20, 21]</td>\n",
       "      <td>[3, 4, 5]</td>\n",
       "      <td>4</td>\n",
       "    </tr>\n",
       "    <tr>\n",
       "      <th>48</th>\n",
       "      <td>1</td>\n",
       "      <td>[6, 7, 8]</td>\n",
       "      <td>[14, 15, 16]</td>\n",
       "      <td>4</td>\n",
       "    </tr>\n",
       "    <tr>\n",
       "      <th>49</th>\n",
       "      <td>0</td>\n",
       "      <td>[8, 9, 10]</td>\n",
       "      <td>[6, 7, 8]</td>\n",
       "      <td>3</td>\n",
       "    </tr>\n",
       "  </tbody>\n",
       "</table>\n",
       "</div>"
      ],
      "text/plain": [
       "    Gender       Balance   Transaction  Age\n",
       "0        0  [16, 17, 18]     [2, 3, 4]    2\n",
       "1        0     [6, 7, 8]      [20, 21]    4\n",
       "2        0     [6, 7, 8]  [11, 12, 13]    4\n",
       "3        0  [15, 16, 17]  [14, 15, 16]    3\n",
       "4        0  [16, 17, 18]     [2, 3, 4]    5\n",
       "5        0  [11, 12, 13]    [8, 9, 10]    3\n",
       "6        1   [9, 10, 11]        [0, 1]    2\n",
       "7        0     [1, 2, 3]     [1, 2, 3]    4\n",
       "8        0     [5, 6, 7]    [8, 9, 10]    4\n",
       "9        0      [20, 21]    [8, 9, 10]    5\n",
       "10       0     [5, 6, 7]    [8, 9, 10]    3\n",
       "11       0     [1, 2, 3]  [17, 18, 19]    3\n",
       "12       0  [13, 14, 15]  [12, 13, 14]    2\n",
       "13       1  [10, 11, 12]  [18, 19, 20]    4\n",
       "14       0  [11, 12, 13]     [7, 8, 9]    3\n",
       "15       0  [12, 13, 14]  [14, 15, 16]    0\n",
       "16       1     [3, 4, 5]   [9, 10, 11]    4\n",
       "17       0  [17, 18, 19]  [15, 16, 17]    0\n",
       "18       0  [12, 13, 14]     [2, 3, 4]    4\n",
       "19       0     [6, 7, 8]   [9, 10, 11]    3\n",
       "20       1      [20, 21]      [20, 21]    3\n",
       "21       1  [17, 18, 19]  [15, 16, 17]    5\n",
       "22       0  [17, 18, 19]     [5, 6, 7]    3\n",
       "23       0  [14, 15, 16]  [18, 19, 20]    5\n",
       "24       0  [12, 13, 14]     [4, 5, 6]    4\n",
       "25       0     [7, 8, 9]  [13, 14, 15]    2\n",
       "26       0  [16, 17, 18]  [14, 15, 16]    3\n",
       "27       0  [15, 16, 17]     [6, 7, 8]    3\n",
       "28       0    [8, 9, 10]     [5, 6, 7]    3\n",
       "29       0     [1, 2, 3]  [16, 17, 18]    0\n",
       "30       0  [17, 18, 19]  [15, 16, 17]    3\n",
       "31       0      [20, 21]  [18, 19, 20]    5\n",
       "32       0     [6, 7, 8]     [7, 8, 9]    0\n",
       "33       1  [16, 17, 18]  [15, 16, 17]    3\n",
       "34       0      [20, 21]  [18, 19, 20]    4\n",
       "35       1  [11, 12, 13]     [6, 7, 8]    4\n",
       "36       0      [20, 21]  [18, 19, 20]    3\n",
       "37       0     [3, 4, 5]     [3, 4, 5]    3\n",
       "38       0    [8, 9, 10]      [20, 21]    3\n",
       "39       0    [8, 9, 10]     [2, 3, 4]    3\n",
       "40       0     [3, 4, 5]        [0, 1]    3\n",
       "41       0  [13, 14, 15]     [6, 7, 8]    3\n",
       "42       1  [16, 17, 18]  [16, 17, 18]    3\n",
       "43       1     [4, 5, 6]     [5, 6, 7]    4\n",
       "44       0  [18, 19, 20]    [8, 9, 10]    2\n",
       "45       1      [20, 21]     [7, 8, 9]    4\n",
       "46       0  [11, 12, 13]     [2, 3, 4]    2\n",
       "47       0      [20, 21]     [3, 4, 5]    4\n",
       "48       1     [6, 7, 8]  [14, 15, 16]    4\n",
       "49       0    [8, 9, 10]     [6, 7, 8]    3"
      ]
     },
     "execution_count": 220,
     "metadata": {},
     "output_type": "execute_result"
    }
   ],
   "source": [
    "querypro"
   ]
  },
  {
   "cell_type": "code",
   "execution_count": 221,
   "id": "bd35e311",
   "metadata": {
    "scrolled": true
   },
   "outputs": [
    {
     "name": "stderr",
     "output_type": "stream",
     "text": [
      "100%|██████████| 50/50 [00:00<00:00, 1716.15it/s]\n"
     ]
    }
   ],
   "source": [
    "# QUERY'S MATRIX01\n",
    "matquery = np.zeros((50,51),dtype=('int'))   \n",
    "for i in tqdm(range(len(querypro))):\n",
    "    matquery[i,[querypro.loc[i]['Gender'],querypro.loc[i]['Balance'][0]+2,querypro.loc[i]['Balance'][1]+2,querypro.loc[i]['Transaction'][0]+23,querypro.loc[i]['Transaction'][1]+23,querypro.loc[i]['Age']+44]]=1"
   ]
  },
  {
   "cell_type": "code",
   "execution_count": 222,
   "id": "1f54d2f2",
   "metadata": {
    "scrolled": true
   },
   "outputs": [
    {
     "data": {
      "text/plain": [
       "(50, 51)"
      ]
     },
     "execution_count": 222,
     "metadata": {},
     "output_type": "execute_result"
    }
   ],
   "source": [
    "matquery.shape"
   ]
  },
  {
   "cell_type": "code",
   "execution_count": 223,
   "id": "b5313728",
   "metadata": {
    "scrolled": true
   },
   "outputs": [
    {
     "name": "stderr",
     "output_type": "stream",
     "text": [
      "100%|██████████| 24/24 [00:00<00:00, 1852.34it/s]\n"
     ]
    }
   ],
   "source": [
    "# QUERY'S SINGOLAR MATRIX (AS WE JUST DO FOR THE WHOLE DATASET)\n",
    "n_perms=24\n",
    "arr=np.arange(1,matquery.shape[1]+1)\n",
    "matquerysin=np.zeros((50,n_perms),dtype=('int'))\n",
    "random.seed(42)\n",
    "for i in tqdm(range(n_perms)):\n",
    "    random.shuffle(arr)\n",
    "    j=1\n",
    "    while 0 in matquerysin[:,i]:\n",
    "        try:\n",
    "            ind=np.where(arr==j)[0][0]\n",
    "            ind2=np.intersect1d(np.where(matquery[:,ind]==1)[0],np.where(matquerysin[:,i]==0)[0],assume_unique=True)\n",
    "            matquerysin[ind2,i]=j\n",
    "        except:\n",
    "            pass\n",
    "        j+=1 "
   ]
  },
  {
   "cell_type": "code",
   "execution_count": 224,
   "id": "b2e025e4",
   "metadata": {
    "scrolled": true
   },
   "outputs": [
    {
     "data": {
      "text/plain": [
       "array([[ 1, 15,  4, ..., 15,  2, 11],\n",
       "       [ 2,  6,  2, ...,  1,  6,  4],\n",
       "       [ 2,  3,  2, ...,  1,  6,  6],\n",
       "       ...,\n",
       "       [ 2, 15,  4, ...,  9,  6,  1],\n",
       "       [ 2, 12,  2, ...,  1,  6,  6],\n",
       "       [22, 15,  1, ...,  2, 10,  3]])"
      ]
     },
     "execution_count": 224,
     "metadata": {},
     "output_type": "execute_result"
    }
   ],
   "source": [
    "matquerysin"
   ]
  },
  {
   "cell_type": "code",
   "execution_count": 225,
   "id": "edddde16",
   "metadata": {},
   "outputs": [],
   "source": [
    "# AFTER HAVE FOUND THE CANDIDATES WITH THE MINHASH, I WANT TO MEASURE THEIR DISTANCE FROM  THE QUERY \n",
    "# WITH AN OTHER DISTANCE ON THE BANKNEW DATASET (WHERE THERE ARE THE TRUE VALUE FOR EACH FEATURE)\n",
    "# TO CHECK HOW MANY FALSE POSITIVE THERE ARE AND SO HOW GOOD IS THE MINHASH.\n",
    "\n",
    "def misura(qdoc,doc):\n",
    "    \n",
    "    queryline = querynew.loc[qdoc]\n",
    "    \n",
    "    docline = banknew.loc[doc]\n",
    "    \n",
    "    misdata = 1 - pow((abs( queryline.CustomerDOB - docline.CustomerDOB )) / max( queryline.CustomerDOB, docline.CustomerDOB ),1/2)\n",
    "    \n",
    "    misbalance = 1 - pow((abs(queryline.CustAccountBalance - docline.CustAccountBalance) / max(queryline.CustAccountBalance,docline.CustAccountBalance) ),1/2)\n",
    "    \n",
    "    mistrans = 1 - (abs(queryline['TransactionAmount (INR)'] - docline['TransactionAmount (INR)']) / max( queryline['TransactionAmount (INR)'],docline['TransactionAmount (INR)'] ))\n",
    "    \n",
    "    mis = misdata * misbalance * mistrans\n",
    "    \n",
    "    if queryline.CustGender!=docline.CustGender:\n",
    "        mis=mis * 0.80\n",
    "        \n",
    "    return mis"
   ]
  },
  {
   "cell_type": "code",
   "execution_count": 226,
   "id": "20ad6324",
   "metadata": {},
   "outputs": [],
   "source": [
    "def findque(que,coldorsl):\n",
    "    assert coldorsl in [2,3,4,6,8,12]       # ROWS IN BAND HAVE TO BE IN [2,3,4,6,8,12]\n",
    "    random.seed(42)\n",
    "    vet=random.sample(range(1000000,100000000), coldorsl)\n",
    "    vet1=random.sample(range(1000000,100000000), coldorsl)\n",
    "    # APPLY HASHFUNCTION ON EACH BAND\n",
    "    ind=[hashfun(que[coldorsl*i:coldorsl*(i+1)],vet,vet1) for i in range(que.shape[0]//coldorsl)]\n",
    "    return ind"
   ]
  },
  {
   "cell_type": "code",
   "execution_count": 227,
   "id": "5fb4c377",
   "metadata": {},
   "outputs": [
    {
     "data": {
      "text/plain": [
       "[823821, 641424, 1031615, 888949, 878210, 196835, 267870, 352722]"
      ]
     },
     "execution_count": 227,
     "metadata": {},
     "output_type": "execute_result"
    }
   ],
   "source": [
    "findque(matquerysin[0],3)"
   ]
  },
  {
   "cell_type": "code",
   "execution_count": 228,
   "id": "7d194cf1",
   "metadata": {},
   "outputs": [],
   "source": [
    "def trova(qdoc,coldorsl):\n",
    "    ind=findque(matquerysin[qdoc],coldorsl)    # TAKE THE INDEXES OF THE BUCKETS IN WHICH QUERY IS\n",
    "    \n",
    "    buck=allbuck[coldorsl]                    \n",
    "\n",
    "    docsim=set()\n",
    "    \n",
    "    for i in buck:                             # TAKE THE UNION OF THE BUCKETS WHICH THE QUERY BELONG\n",
    "        try:\n",
    "            docsim.update(buck[i][ind[i]])\n",
    "        except:\n",
    "            pass\n",
    "    \n",
    "    docsim=sorted(list(docsim))                # SORT THE INDEXES OF THE CANDIDATE TRANSACTIONS \n",
    "    a=[misura(qdoc,i) for i in docsim]         # FOR EACH CANDITATES TAKE DISTANCE WHICH QUERY\n",
    "        \n",
    "    b = banknew[banknew.index.isin(docsim)]\n",
    "    b = b.assign(SIM=a)\n",
    "    \n",
    "    falsipos=sum(b['SIM']<0.70)/len(b)         # GIVEN A THRESHOLD, TAKE THE FALSE POSITIVE\n",
    "    positivi=sum(b['SIM']>=0.70)               # AND THE NUMBER OF THE POSITIVE\n",
    "    \n",
    "    print('(THRESHOLD = 0.70)\\n POSITIVE: '+str(positivi)+'\\n FALSE POSITIVE: '+str(falsipos)+'\\n TOTAL: '+str(len(b)))\n",
    "    \n",
    "    return b.sort_values(by='SIM',ascending=False).head(20) # SORT BY THE SIMILARITY"
   ]
  },
  {
   "cell_type": "code",
   "execution_count": 229,
   "id": "7e2311ff",
   "metadata": {
    "scrolled": true
   },
   "outputs": [
    {
     "name": "stdout",
     "output_type": "stream",
     "text": [
      "(THRESHOLD = 0.70)\n",
      " POSITIVE: 93\n",
      " FALSE POSITIVE: 0.999164728177401\n",
      " TOTAL: 111341\n"
     ]
    },
    {
     "data": {
      "text/html": [
       "<div>\n",
       "<style scoped>\n",
       "    .dataframe tbody tr th:only-of-type {\n",
       "        vertical-align: middle;\n",
       "    }\n",
       "\n",
       "    .dataframe tbody tr th {\n",
       "        vertical-align: top;\n",
       "    }\n",
       "\n",
       "    .dataframe thead th {\n",
       "        text-align: right;\n",
       "    }\n",
       "</style>\n",
       "<table border=\"1\" class=\"dataframe\">\n",
       "  <thead>\n",
       "    <tr style=\"text-align: right;\">\n",
       "      <th></th>\n",
       "      <th>CustomerID</th>\n",
       "      <th>CustomerDOB</th>\n",
       "      <th>CustGender</th>\n",
       "      <th>CustAccountBalance</th>\n",
       "      <th>TransactionAmount (INR)</th>\n",
       "      <th>SIM</th>\n",
       "    </tr>\n",
       "  </thead>\n",
       "  <tbody>\n",
       "    <tr>\n",
       "      <th>231463</th>\n",
       "      <td>C3224067</td>\n",
       "      <td>1992</td>\n",
       "      <td>M</td>\n",
       "      <td>7584.09</td>\n",
       "      <td>6025.00</td>\n",
       "      <td>1.000000</td>\n",
       "    </tr>\n",
       "    <tr>\n",
       "      <th>556571</th>\n",
       "      <td>C6341145</td>\n",
       "      <td>1985</td>\n",
       "      <td>M</td>\n",
       "      <td>7628.02</td>\n",
       "      <td>5974.00</td>\n",
       "      <td>0.861972</td>\n",
       "    </tr>\n",
       "    <tr>\n",
       "      <th>608707</th>\n",
       "      <td>C6841847</td>\n",
       "      <td>1979</td>\n",
       "      <td>M</td>\n",
       "      <td>7557.47</td>\n",
       "      <td>6000.00</td>\n",
       "      <td>0.861168</td>\n",
       "    </tr>\n",
       "    <tr>\n",
       "      <th>777636</th>\n",
       "      <td>C8513588</td>\n",
       "      <td>1991</td>\n",
       "      <td>M</td>\n",
       "      <td>7547.52</td>\n",
       "      <td>5700.00</td>\n",
       "      <td>0.860639</td>\n",
       "    </tr>\n",
       "    <tr>\n",
       "      <th>474238</th>\n",
       "      <td>C5542280</td>\n",
       "      <td>1989</td>\n",
       "      <td>M</td>\n",
       "      <td>7676.98</td>\n",
       "      <td>6047.00</td>\n",
       "      <td>0.852350</td>\n",
       "    </tr>\n",
       "    <tr>\n",
       "      <th>419222</th>\n",
       "      <td>C5029979</td>\n",
       "      <td>1991</td>\n",
       "      <td>M</td>\n",
       "      <td>7468.63</td>\n",
       "      <td>6068.00</td>\n",
       "      <td>0.850901</td>\n",
       "    </tr>\n",
       "    <tr>\n",
       "      <th>257126</th>\n",
       "      <td>C3446646</td>\n",
       "      <td>1994</td>\n",
       "      <td>M</td>\n",
       "      <td>7563.55</td>\n",
       "      <td>6500.00</td>\n",
       "      <td>0.850857</td>\n",
       "    </tr>\n",
       "    <tr>\n",
       "      <th>366051</th>\n",
       "      <td>C4523852</td>\n",
       "      <td>1990</td>\n",
       "      <td>M</td>\n",
       "      <td>7533.19</td>\n",
       "      <td>5743.00</td>\n",
       "      <td>0.847377</td>\n",
       "    </tr>\n",
       "    <tr>\n",
       "      <th>678476</th>\n",
       "      <td>C7530239</td>\n",
       "      <td>1992</td>\n",
       "      <td>M</td>\n",
       "      <td>7581.68</td>\n",
       "      <td>7000.00</td>\n",
       "      <td>0.845371</td>\n",
       "    </tr>\n",
       "    <tr>\n",
       "      <th>543325</th>\n",
       "      <td>C6230242</td>\n",
       "      <td>1992</td>\n",
       "      <td>M</td>\n",
       "      <td>7581.68</td>\n",
       "      <td>7000.00</td>\n",
       "      <td>0.845371</td>\n",
       "    </tr>\n",
       "    <tr>\n",
       "      <th>227142</th>\n",
       "      <td>C3181312</td>\n",
       "      <td>1987</td>\n",
       "      <td>M</td>\n",
       "      <td>7490.59</td>\n",
       "      <td>6000.00</td>\n",
       "      <td>0.840925</td>\n",
       "    </tr>\n",
       "    <tr>\n",
       "      <th>176986</th>\n",
       "      <td>C2714984</td>\n",
       "      <td>1987</td>\n",
       "      <td>M</td>\n",
       "      <td>7576.46</td>\n",
       "      <td>5500.00</td>\n",
       "      <td>0.839624</td>\n",
       "    </tr>\n",
       "    <tr>\n",
       "      <th>676165</th>\n",
       "      <td>C7521465</td>\n",
       "      <td>1992</td>\n",
       "      <td>M</td>\n",
       "      <td>7651.34</td>\n",
       "      <td>6513.56</td>\n",
       "      <td>0.838274</td>\n",
       "    </tr>\n",
       "    <tr>\n",
       "      <th>158995</th>\n",
       "      <td>C2524515</td>\n",
       "      <td>1991</td>\n",
       "      <td>M</td>\n",
       "      <td>7532.72</td>\n",
       "      <td>6495.00</td>\n",
       "      <td>0.832218</td>\n",
       "    </tr>\n",
       "    <tr>\n",
       "      <th>444417</th>\n",
       "      <td>C5277069</td>\n",
       "      <td>1989</td>\n",
       "      <td>M</td>\n",
       "      <td>7586.00</td>\n",
       "      <td>6905.97</td>\n",
       "      <td>0.825270</td>\n",
       "    </tr>\n",
       "    <tr>\n",
       "      <th>452821</th>\n",
       "      <td>C5339816</td>\n",
       "      <td>1987</td>\n",
       "      <td>M</td>\n",
       "      <td>7567.79</td>\n",
       "      <td>6694.00</td>\n",
       "      <td>0.815330</td>\n",
       "    </tr>\n",
       "    <tr>\n",
       "      <th>193807</th>\n",
       "      <td>C2839584</td>\n",
       "      <td>1991</td>\n",
       "      <td>M</td>\n",
       "      <td>7725.25</td>\n",
       "      <td>5794.00</td>\n",
       "      <td>0.813033</td>\n",
       "    </tr>\n",
       "    <tr>\n",
       "      <th>372373</th>\n",
       "      <td>C4584758</td>\n",
       "      <td>1987</td>\n",
       "      <td>M</td>\n",
       "      <td>7493.93</td>\n",
       "      <td>5780.00</td>\n",
       "      <td>0.811915</td>\n",
       "    </tr>\n",
       "    <tr>\n",
       "      <th>148825</th>\n",
       "      <td>C2425026</td>\n",
       "      <td>1990</td>\n",
       "      <td>M</td>\n",
       "      <td>7401.57</td>\n",
       "      <td>6152.57</td>\n",
       "      <td>0.801134</td>\n",
       "    </tr>\n",
       "    <tr>\n",
       "      <th>185082</th>\n",
       "      <td>C2770087</td>\n",
       "      <td>1983</td>\n",
       "      <td>M</td>\n",
       "      <td>7579.22</td>\n",
       "      <td>6856.90</td>\n",
       "      <td>0.798846</td>\n",
       "    </tr>\n",
       "  </tbody>\n",
       "</table>\n",
       "</div>"
      ],
      "text/plain": [
       "       CustomerID  CustomerDOB CustGender  CustAccountBalance  \\\n",
       "231463   C3224067         1992          M             7584.09   \n",
       "556571   C6341145         1985          M             7628.02   \n",
       "608707   C6841847         1979          M             7557.47   \n",
       "777636   C8513588         1991          M             7547.52   \n",
       "474238   C5542280         1989          M             7676.98   \n",
       "419222   C5029979         1991          M             7468.63   \n",
       "257126   C3446646         1994          M             7563.55   \n",
       "366051   C4523852         1990          M             7533.19   \n",
       "678476   C7530239         1992          M             7581.68   \n",
       "543325   C6230242         1992          M             7581.68   \n",
       "227142   C3181312         1987          M             7490.59   \n",
       "176986   C2714984         1987          M             7576.46   \n",
       "676165   C7521465         1992          M             7651.34   \n",
       "158995   C2524515         1991          M             7532.72   \n",
       "444417   C5277069         1989          M             7586.00   \n",
       "452821   C5339816         1987          M             7567.79   \n",
       "193807   C2839584         1991          M             7725.25   \n",
       "372373   C4584758         1987          M             7493.93   \n",
       "148825   C2425026         1990          M             7401.57   \n",
       "185082   C2770087         1983          M             7579.22   \n",
       "\n",
       "        TransactionAmount (INR)       SIM  \n",
       "231463                  6025.00  1.000000  \n",
       "556571                  5974.00  0.861972  \n",
       "608707                  6000.00  0.861168  \n",
       "777636                  5700.00  0.860639  \n",
       "474238                  6047.00  0.852350  \n",
       "419222                  6068.00  0.850901  \n",
       "257126                  6500.00  0.850857  \n",
       "366051                  5743.00  0.847377  \n",
       "678476                  7000.00  0.845371  \n",
       "543325                  7000.00  0.845371  \n",
       "227142                  6000.00  0.840925  \n",
       "176986                  5500.00  0.839624  \n",
       "676165                  6513.56  0.838274  \n",
       "158995                  6495.00  0.832218  \n",
       "444417                  6905.97  0.825270  \n",
       "452821                  6694.00  0.815330  \n",
       "193807                  5794.00  0.813033  \n",
       "372373                  5780.00  0.811915  \n",
       "148825                  6152.57  0.801134  \n",
       "185082                  6856.90  0.798846  "
      ]
     },
     "execution_count": 229,
     "metadata": {},
     "output_type": "execute_result"
    }
   ],
   "source": [
    "trova(1,2)"
   ]
  },
  {
   "cell_type": "markdown",
   "id": "5d0d1c78",
   "metadata": {},
   "source": [
    "Look how the search engine works: search the candidates to each query, using the different bands to check:\n",
    "        1. how many candidates are found;\n",
    "        2. how many dist more then 0.70 from the query;\n",
    "        3. how many time it spends."
   ]
  },
  {
   "cell_type": "code",
   "execution_count": 53,
   "id": "d17568de",
   "metadata": {},
   "outputs": [],
   "source": [
    "def trovaall(qdoc,coldorsl):\n",
    "    start=time.time()\n",
    "    ind=findque(matquerysin[qdoc],coldorsl)    # TAKE THE INDEXES OF THE BUCKETS IN WHICH QUERY IS\n",
    "    \n",
    "    buck=allbuck[coldorsl]                    \n",
    "\n",
    "    docsim=set()\n",
    "    \n",
    "    for i in buck:                             # TAKE THE UNION OF THE BUCKETS WHICH THE QUERY BELONG\n",
    "        try:\n",
    "            docsim.update(buck[i][ind[i]])\n",
    "        except:\n",
    "            pass\n",
    "    \n",
    "    docsim=sorted(list(docsim))                # SORT THE INDEXES OF THE CANDIDATE TRANSACTIONS \n",
    "    a=[misura(qdoc,i) for i in docsim]         # FOR EACH CANDITATES TAKE DISTANCE WHICH QUERY\n",
    "        \n",
    "    b = banknew[banknew.index.isin(docsim)]\n",
    "    b = b.assign(SIM=a)\n",
    "    \n",
    "    positivi=sum(b['SIM']>=0.70)               # AND THE NUMBER OF THE POSITIVE\n",
    "    \n",
    "    end=time.time()\n",
    "        \n",
    "    return len(b),positivi,end-start"
   ]
  },
  {
   "cell_type": "code",
   "execution_count": 54,
   "id": "905608bc",
   "metadata": {
    "scrolled": true
   },
   "outputs": [
    {
     "name": "stderr",
     "output_type": "stream",
     "text": [
      "100%|██████████| 50/50 [22:34<00:00, 27.09s/it]\n",
      "100%|██████████| 50/50 [06:33<00:00,  7.86s/it]\n",
      "100%|██████████| 50/50 [01:40<00:00,  2.01s/it]\n",
      "100%|██████████| 50/50 [00:20<00:00,  2.39it/s]\n",
      "100%|██████████| 50/50 [00:04<00:00, 10.63it/s]\n",
      "100%|██████████| 50/50 [00:01<00:00, 37.50it/s]\n"
     ]
    }
   ],
   "source": [
    "# CHECK HOW MANY TOTAL CANDIDATES, HOW MANY CANDIDATES ARE 'NEAR' THE QUERY\n",
    "# AND HOW MUCH TIME TAKE THIS ALGORITHM FOR EACH QUERY AND USING DIFFERENT BANDS\n",
    "# (FOR US 'NEAR' MEANS SIM(QUERY,CANDIDATE)>=0.70)\n",
    "#temps=np.matrix((6,len(query)))\n",
    "ris={}\n",
    "for j in [2,3,4,6,8,12]:\n",
    "    ris[j]={}\n",
    "    for i in tqdm(range(len(query))):\n",
    "        ris[j][i]=trovaall(i,j)\n",
    "        "
   ]
  },
  {
   "cell_type": "code",
   "execution_count": 56,
   "id": "b580b369",
   "metadata": {
    "scrolled": true
   },
   "outputs": [
    {
     "data": {
      "text/plain": [
       "{2: {0: (177886, 81, 34.6012761592865),\n",
       "  1: (126636, 93, 23.2185800075531),\n",
       "  2: (155580, 1011, 28.998903036117554),\n",
       "  3: (222742, 1148, 40.05863547325134),\n",
       "  4: (167531, 97, 34.04017472267151),\n",
       "  5: (148453, 1200, 28.89226007461548),\n",
       "  6: (44490, 65, 8.3980233669281),\n",
       "  7: (89154, 178, 17.836453676223755),\n",
       "  8: (61904, 968, 15.93578314781189),\n",
       "  9: (43513, 0, 9.079479694366455),\n",
       "  10: (137009, 1044, 29.834559679031372),\n",
       "  11: (148289, 54, 27.377792358398438),\n",
       "  12: (149156, 850, 28.9405460357666),\n",
       "  13: (93124, 106, 16.664069414138794),\n",
       "  14: (166480, 1296, 31.40394163131714),\n",
       "  15: (34662, 278, 9.013187885284424),\n",
       "  16: (125267, 133, 30.22478175163269),\n",
       "  17: (172350, 69, 32.51078987121582),\n",
       "  18: (177541, 335, 34.54480838775635),\n",
       "  19: (113986, 752, 22.880406141281128),\n",
       "  20: (99556, 8, 17.916873693466187),\n",
       "  21: (174750, 30, 32.09072685241699),\n",
       "  22: (146554, 409, 29.79313039779663),\n",
       "  23: (200408, 37, 37.62320899963379),\n",
       "  24: (124157, 525, 22.774349212646484),\n",
       "  25: (131289, 775, 24.458341598510742),\n",
       "  26: (134775, 740, 24.645801305770874),\n",
       "  27: (280144, 622, 50.262250900268555),\n",
       "  28: (185623, 1643, 34.24160885810852),\n",
       "  29: (78502, 16, 16.51116704940796),\n",
       "  30: (181044, 407, 36.410212993621826),\n",
       "  31: (102995, 13, 18.799266815185547),\n",
       "  32: (74548, 76, 13.28746223449707),\n",
       "  33: (186615, 309, 33.81050753593445),\n",
       "  34: (105380, 99, 21.33852529525757),\n",
       "  35: (189894, 571, 34.24946451187134),\n",
       "  36: (143920, 151, 25.80583167076111),\n",
       "  37: (149823, 384, 27.15201163291931),\n",
       "  38: (71444, 166, 12.818371534347534),\n",
       "  39: (196177, 635, 35.969449043273926),\n",
       "  40: (102205, 276, 18.224586486816406),\n",
       "  41: (206370, 1256, 37.01392102241516),\n",
       "  42: (186615, 307, 33.56793975830078),\n",
       "  43: (191190, 275, 34.27481412887573),\n",
       "  44: (94258, 196, 17.907245874404907),\n",
       "  45: (150188, 18, 28.141141653060913),\n",
       "  46: (199093, 212, 38.27927088737488),\n",
       "  47: (65154, 38, 13.863532304763794),\n",
       "  48: (219810, 357, 41.60446333885193),\n",
       "  49: (203804, 1609, 36.87264966964722)},\n",
       " 3: {0: (22653, 13, 4.466357946395874),\n",
       "  1: (44693, 83, 7.919523477554321),\n",
       "  2: (28685, 353, 5.339559555053711),\n",
       "  3: (26546, 439, 5.381328821182251),\n",
       "  4: (99798, 89, 18.48783802986145),\n",
       "  5: (55455, 1196, 10.812026739120483),\n",
       "  6: (13864, 46, 2.7006492614746094),\n",
       "  7: (24162, 167, 4.67916464805603),\n",
       "  8: (31349, 713, 6.0332629680633545),\n",
       "  9: (2755, 0, 0.5179152488708496),\n",
       "  10: (14051, 798, 2.5326716899871826),\n",
       "  11: (16784, 48, 2.966402053833008),\n",
       "  12: (45259, 775, 8.375833988189697),\n",
       "  13: (42963, 102, 8.493834018707275),\n",
       "  14: (64437, 1282, 11.702350616455078),\n",
       "  15: (6323, 272, 1.2784628868103027),\n",
       "  16: (19909, 121, 3.6714117527008057),\n",
       "  17: (46666, 69, 9.10775899887085),\n",
       "  18: (13183, 335, 2.4047586917877197),\n",
       "  19: (13634, 371, 2.6065003871917725),\n",
       "  20: (37702, 8, 7.714404106140137),\n",
       "  21: (36767, 30, 10.73839282989502),\n",
       "  22: (26630, 287, 7.536565780639648),\n",
       "  23: (11287, 29, 2.740548610687256),\n",
       "  24: (44505, 525, 8.039614200592041),\n",
       "  25: (28002, 737, 5.222761392593384),\n",
       "  26: (28270, 5, 5.122033596038818),\n",
       "  27: (111684, 622, 21.044923305511475),\n",
       "  28: (32339, 1169, 6.459533452987671),\n",
       "  29: (10280, 16, 1.9064698219299316),\n",
       "  30: (66357, 407, 12.165323495864868),\n",
       "  31: (18525, 13, 3.5932490825653076),\n",
       "  32: (8049, 71, 1.4330811500549316),\n",
       "  33: (63124, 211, 11.020792245864868),\n",
       "  34: (32128, 99, 5.983844518661499),\n",
       "  35: (118614, 571, 21.574692726135254),\n",
       "  36: (24586, 141, 4.4305431842803955),\n",
       "  37: (92496, 384, 17.031938552856445),\n",
       "  38: (11772, 148, 2.2609424591064453),\n",
       "  39: (101080, 635, 18.095093488693237),\n",
       "  40: (19831, 273, 3.4773731231689453),\n",
       "  41: (105208, 1256, 18.61809802055359),\n",
       "  42: (63124, 198, 11.541985034942627),\n",
       "  43: (46447, 222, 8.952850341796875),\n",
       "  44: (19210, 148, 4.810405254364014),\n",
       "  45: (93246, 15, 20.305976152420044),\n",
       "  46: (48305, 188, 9.319395303726196),\n",
       "  47: (10820, 38, 2.1348726749420166),\n",
       "  48: (26663, 325, 5.222615718841553),\n",
       "  49: (81227, 1182, 15.07708191871643)},\n",
       " 4: {0: (14989, 1, 2.749030590057373),\n",
       "  1: (10164, 93, 1.8319590091705322),\n",
       "  2: (6299, 353, 1.1349997520446777),\n",
       "  3: (14487, 326, 2.833750009536743),\n",
       "  4: (3464, 4, 0.6636631488800049),\n",
       "  5: (15352, 737, 2.7138140201568604),\n",
       "  6: (2331, 45, 0.4361135959625244),\n",
       "  7: (17840, 162, 3.149376392364502),\n",
       "  8: (1996, 0, 0.3861980438232422),\n",
       "  9: (759, 0, 0.16243433952331543),\n",
       "  10: (12025, 351, 2.1217880249023438),\n",
       "  11: (19415, 30, 3.394144058227539),\n",
       "  12: (4951, 178, 0.8950257301330566),\n",
       "  13: (9527, 34, 1.843930959701538),\n",
       "  14: (10681, 921, 2.0124995708465576),\n",
       "  15: (1217, 272, 0.24469351768493652),\n",
       "  16: (4724, 71, 0.8401780128479004),\n",
       "  17: (11592, 69, 2.048950672149658),\n",
       "  18: (11099, 330, 1.961501121520996),\n",
       "  19: (2509, 212, 0.47402477264404297),\n",
       "  20: (12255, 8, 2.152714252471924),\n",
       "  21: (15900, 30, 2.7693703174591064),\n",
       "  22: (1664, 9, 0.33447813987731934),\n",
       "  23: (9150, 29, 1.608577013015747),\n",
       "  24: (5890, 191, 1.153172254562378),\n",
       "  25: (7642, 382, 1.5561549663543701),\n",
       "  26: (23854, 5, 4.205338001251221),\n",
       "  27: (22257, 238, 3.904897928237915),\n",
       "  28: (15215, 1025, 2.6479339599609375),\n",
       "  29: (8127, 10, 1.4572420120239258),\n",
       "  30: (26587, 333, 4.943063020706177),\n",
       "  31: (4908, 9, 0.8809947967529297),\n",
       "  32: (542, 71, 0.12188267707824707),\n",
       "  33: (32032, 205, 5.5536723136901855),\n",
       "  34: (7867, 37, 1.4040069580078125),\n",
       "  35: (12053, 535, 2.130739212036133),\n",
       "  36: (8937, 110, 1.578045129776001),\n",
       "  37: (13573, 116, 2.7626750469207764),\n",
       "  38: (3944, 144, 0.7470366954803467),\n",
       "  39: (10127, 227, 1.7916955947875977),\n",
       "  40: (4890, 132, 0.8930294513702393),\n",
       "  41: (20097, 449, 3.57846736907959),\n",
       "  42: (32032, 132, 5.614388704299927),\n",
       "  43: (13662, 39, 2.5414392948150635),\n",
       "  44: (2611, 31, 0.6066744327545166),\n",
       "  45: (5208, 9, 0.9456071853637695),\n",
       "  46: (16143, 92, 2.862531900405884),\n",
       "  47: (5104, 9, 0.9576411247253418),\n",
       "  48: (18170, 318, 3.244027853012085),\n",
       "  49: (15753, 1177, 3.311256170272827)},\n",
       " 6: {0: (224, 1, 0.0746452808380127),\n",
       "  1: (457, 29, 0.1693723201751709),\n",
       "  2: (487, 0, 0.16852569580078125),\n",
       "  3: (1215, 0, 0.3069484233856201),\n",
       "  4: (936, 0, 0.32940149307250977),\n",
       "  5: (2223, 0, 0.551830530166626),\n",
       "  6: (897, 45, 0.23813652992248535),\n",
       "  7: (1431, 66, 0.37259817123413086),\n",
       "  8: (1424, 0, 0.35205507278442383),\n",
       "  9: (599, 0, 0.16599369049072266),\n",
       "  10: (1007, 344, 0.2459094524383545),\n",
       "  11: (1395, 25, 0.36131739616394043),\n",
       "  12: (2065, 0, 0.616706132888794),\n",
       "  13: (729, 30, 0.23924708366394043),\n",
       "  14: (1142, 0, 0.4070262908935547),\n",
       "  15: (202, 1, 0.0717473030090332),\n",
       "  16: (0, 0, 0.025632858276367188),\n",
       "  17: (3427, 56, 0.8563640117645264),\n",
       "  18: (950, 149, 0.22534990310668945),\n",
       "  19: (944, 0, 0.20764946937561035),\n",
       "  20: (3658, 8, 0.9174542427062988),\n",
       "  21: (176, 0, 0.0612492561340332),\n",
       "  22: (973, 0, 0.2663595676422119),\n",
       "  23: (178, 0, 0.06455254554748535),\n",
       "  24: (2059, 191, 0.498429536819458),\n",
       "  25: (627, 112, 0.17492914199829102),\n",
       "  26: (1118, 3, 0.2845804691314697),\n",
       "  27: (3962, 169, 0.9270694255828857),\n",
       "  28: (3113, 639, 0.8460671901702881),\n",
       "  29: (375, 10, 0.1374506950378418),\n",
       "  30: (5474, 171, 1.4797148704528809),\n",
       "  31: (2205, 6, 0.6260859966278076),\n",
       "  32: (47, 4, 0.03774881362915039),\n",
       "  33: (5206, 185, 1.0868525505065918),\n",
       "  34: (2331, 36, 0.42202067375183105),\n",
       "  35: (1263, 118, 0.26010966300964355),\n",
       "  36: (0, 0, 0.0027170181274414062),\n",
       "  37: (3526, 110, 0.7806923389434814),\n",
       "  38: (727, 99, 0.20837903022766113),\n",
       "  39: (1038, 76, 0.21985912322998047),\n",
       "  40: (1081, 73, 0.216139554977417),\n",
       "  41: (2024, 0, 0.38172435760498047),\n",
       "  42: (5206, 127, 0.9349639415740967),\n",
       "  43: (1127, 34, 0.2507762908935547),\n",
       "  44: (0, 0, 0.014970541000366211),\n",
       "  45: (2171, 7, 0.4053001403808594),\n",
       "  46: (887, 0, 0.19832992553710938),\n",
       "  47: (110, 1, 0.03190946578979492),\n",
       "  48: (796, 94, 0.16965532302856445),\n",
       "  49: (14726, 1127, 2.9526760578155518)},\n",
       " 8: {0: (0, 0, 0.010547637939453125),\n",
       "  1: (365, 29, 0.0999751091003418),\n",
       "  2: (0, 0, 0.014850616455078125),\n",
       "  3: (1692, 6, 0.3558063507080078),\n",
       "  4: (56, 0, 0.03687095642089844),\n",
       "  5: (1360, 0, 0.2753007411956787),\n",
       "  6: (51, 11, 0.01741814613342285),\n",
       "  7: (1062, 66, 0.21074938774108887),\n",
       "  8: (0, 0, 0.02405858039855957),\n",
       "  9: (13, 0, 0.020700693130493164),\n",
       "  10: (0, 0, 0.0),\n",
       "  11: (537, 4, 0.19359374046325684),\n",
       "  12: (0, 0, 0.00011706352233886719),\n",
       "  13: (729, 30, 0.17307806015014648),\n",
       "  14: (0, 0, 0.011679649353027344),\n",
       "  15: (0, 0, 0.00870370864868164),\n",
       "  16: (0, 0, 0.013693571090698242),\n",
       "  17: (191, 0, 0.08450698852539062),\n",
       "  18: (456, 46, 0.13991260528564453),\n",
       "  19: (0, 0, 0.01108241081237793),\n",
       "  20: (1577, 8, 0.36949944496154785),\n",
       "  21: (24, 0, 0.01686239242553711),\n",
       "  22: (0, 0, 0.010763168334960938),\n",
       "  23: (48, 0, 0.04233884811401367),\n",
       "  24: (0, 0, 0.0),\n",
       "  25: (442, 87, 0.1421968936920166),\n",
       "  26: (0, 0, 0.002620220184326172),\n",
       "  27: (0, 0, 0.01562786102294922),\n",
       "  28: (932, 16, 0.24246525764465332),\n",
       "  29: (277, 10, 0.07021045684814453),\n",
       "  30: (0, 0, 0.010963916778564453),\n",
       "  31: (15, 0, 0.011958837509155273),\n",
       "  32: (0, 0, 0.010963916778564453),\n",
       "  33: (923, 0, 0.19269227981567383),\n",
       "  34: (124, 5, 0.06788277626037598),\n",
       "  35: (263, 114, 0.078582763671875),\n",
       "  36: (875, 0, 0.21431183815002441),\n",
       "  37: (1168, 10, 0.24982261657714844),\n",
       "  38: (418, 68, 0.11754441261291504),\n",
       "  39: (1329, 76, 0.3363661766052246),\n",
       "  40: (1081, 73, 0.21974730491638184),\n",
       "  41: (0, 0, 0.015629053115844727),\n",
       "  42: (923, 0, 0.20625972747802734),\n",
       "  43: (0, 0, 0.0156252384185791),\n",
       "  44: (0, 0, 0.002653360366821289),\n",
       "  45: (145, 4, 0.07209324836730957),\n",
       "  46: (0, 0, 0.019509315490722656),\n",
       "  47: (52, 0, 0.03471875190734863),\n",
       "  48: (525, 94, 0.14713406562805176),\n",
       "  49: (0, 0, 0.0002040863037109375)},\n",
       " 12: {0: (0, 0, 0.01735830307006836),\n",
       "  1: (0, 0, 0.0),\n",
       "  2: (0, 0, 0.02146744728088379),\n",
       "  3: (0, 0, 0.009142875671386719),\n",
       "  4: (0, 0, 0.0),\n",
       "  5: (1360, 0, 0.3553276062011719),\n",
       "  6: (0, 0, 0.006306648254394531),\n",
       "  7: (0, 0, 0.0166471004486084),\n",
       "  8: (0, 0, 0.0),\n",
       "  9: (13, 0, 0.019991397857666016),\n",
       "  10: (0, 0, 0.015644311904907227),\n",
       "  11: (0, 0, 0.0156252384185791),\n",
       "  12: (0, 0, 0.015621423721313477),\n",
       "  13: (0, 0, 0.013951539993286133),\n",
       "  14: (0, 0, 0.013953447341918945),\n",
       "  15: (0, 0, 0.011960268020629883),\n",
       "  16: (0, 0, 0.01195979118347168),\n",
       "  17: (0, 0, 0.011150121688842773),\n",
       "  18: (0, 0, 0.0),\n",
       "  19: (0, 0, 0.015628576278686523),\n",
       "  20: (1109, 7, 0.3060882091522217),\n",
       "  21: (0, 0, 0.0),\n",
       "  22: (0, 0, 0.028156280517578125),\n",
       "  23: (48, 0, 0.013813495635986328),\n",
       "  24: (0, 0, 0.015630245208740234),\n",
       "  25: (0, 0, 0.024424314498901367),\n",
       "  26: (0, 0, 0.012037992477416992),\n",
       "  27: (0, 0, 0.0059473514556884766),\n",
       "  28: (0, 0, 0.017299413681030273),\n",
       "  29: (0, 0, 0.014950037002563477),\n",
       "  30: (0, 0, 0.0),\n",
       "  31: (0, 0, 0.017286062240600586),\n",
       "  32: (0, 0, 0.015637874603271484),\n",
       "  33: (0, 0, 0.01680922508239746),\n",
       "  34: (0, 0, 0.015627622604370117),\n",
       "  35: (0, 0, 0.0),\n",
       "  36: (0, 0, 0.022857189178466797),\n",
       "  37: (0, 0, 0.008154153823852539),\n",
       "  38: (0, 0, 0.015635967254638672),\n",
       "  39: (0, 0, 0.016701698303222656),\n",
       "  40: (0, 0, 0.0),\n",
       "  41: (0, 0, 0.0157625675201416),\n",
       "  42: (0, 0, 0.015629291534423828),\n",
       "  43: (0, 0, 0.013596296310424805),\n",
       "  44: (0, 0, 0.01395416259765625),\n",
       "  45: (46, 4, 0.03702044486999512),\n",
       "  46: (0, 0, 0.007687807083129883),\n",
       "  47: (0, 0, 0.015635251998901367),\n",
       "  48: (0, 0, 0.007544994354248047),\n",
       "  49: (0, 0, 0.015628337860107422)}}"
      ]
     },
     "execution_count": 56,
     "metadata": {},
     "output_type": "execute_result"
    }
   ],
   "source": [
    "ris"
   ]
  },
  {
   "cell_type": "code",
   "execution_count": 57,
   "id": "72786ad4",
   "metadata": {},
   "outputs": [],
   "source": [
    "cand=np.zeros(13)\n",
    "pos=np.zeros(13)\n",
    "temp=np.zeros(13)\n",
    "for i in ris:\n",
    "    for j in ris[i]:\n",
    "        cand[i]+=ris[i][j][0]\n",
    "        pos[i]+=ris[i][j][1]\n",
    "        temp[i]+=ris[i][j][2]\n",
    "cand=cand/50\n",
    "pos=pos/50\n",
    "temp=temp/50\n"
   ]
  },
  {
   "cell_type": "code",
   "execution_count": 58,
   "id": "db845207",
   "metadata": {
    "scrolled": true
   },
   "outputs": [
    {
     "data": {
      "text/plain": [
       "[<matplotlib.lines.Line2D at 0x2301bfec730>]"
      ]
     },
     "execution_count": 58,
     "metadata": {},
     "output_type": "execute_result"
    },
    {
     "data": {
      "image/png": "[encoded data removed]",
      "text/plain": [
       "<Figure size 432x288 with 1 Axes>"
      ]
     },
     "metadata": {
      "needs_background": "light"
     },
     "output_type": "display_data"
    }
   ],
   "source": [
    "plt.plot([2,3,4,6,8,12], cand[cand>0])"
   ]
  },
  {
   "cell_type": "code",
   "execution_count": 59,
   "id": "7364d41b",
   "metadata": {},
   "outputs": [
    {
     "data": {
      "text/plain": [
       "[<matplotlib.lines.Line2D at 0x22fcf94a100>]"
      ]
     },
     "execution_count": 59,
     "metadata": {},
     "output_type": "execute_result"
    },
    {
     "data": {
      "image/png": "[encoded data removed]",
      "text/plain": [
       "<Figure size 432x288 with 1 Axes>"
      ]
     },
     "metadata": {
      "needs_background": "light"
     },
     "output_type": "display_data"
    }
   ],
   "source": [
    "plt.plot([2,3,4,6,8,12], pos[pos>0])"
   ]
  },
  {
   "cell_type": "code",
   "execution_count": 60,
   "id": "f402cb20",
   "metadata": {},
   "outputs": [
    {
     "data": {
      "text/plain": [
       "[<matplotlib.lines.Line2D at 0x2301ded91c0>]"
      ]
     },
     "execution_count": 60,
     "metadata": {},
     "output_type": "execute_result"
    },
    {
     "data": {
      "image/png": "[encoded data removed]",
      "text/plain": [
       "<Figure size 432x288 with 1 Axes>"
      ]
     },
     "metadata": {
      "needs_background": "light"
     },
     "output_type": "display_data"
    }
   ],
   "source": [
    "plt.plot([2,3,4,6,8,12], temp[temp>0])"
   ]
  },
  {
   "cell_type": "markdown",
   "id": "04d2bbdd",
   "metadata": {},
   "source": [
    "The canditades, in mean, are a lot which two rows, and decrease fast until 4: i think 4 could be the best number of rows, also for the number of elements that have a distance more then 0.70 and for the time."
   ]
  },
  {
   "cell_type": "markdown",
   "id": "487a8100-781b-4e52-b7bc-992b6b26118d",
   "metadata": {},
   "source": [
    "# 2. **Grouping customers together!**"
   ]
  },
  {
   "cell_type": "markdown",
   "id": "3be3b3eb-20e2-4698-b993-7bb7315eee19",
   "metadata": {},
   "source": [
    "## 2.1 **Getting your data + feature engineering**"
   ]
  },
  {
   "cell_type": "code",
   "execution_count": 2,
   "id": "0ae4cda2-723f-41f6-a63e-7dde14a1525f",
   "metadata": {},
   "outputs": [
    {
     "name": "stdout",
     "output_type": "stream",
     "text": [
      "2022-12-03\n"
     ]
    }
   ],
   "source": [
    "import pandas as pd\n",
    "import numpy as np\n",
    "from datetime import datetime as dt\n",
    "import warnings\n",
    "warnings.filterwarnings(\"ignore\")\n",
    "\n",
    "today = np.datetime64('today')\n",
    "print(today)"
   ]
  },
  {
   "cell_type": "code",
   "execution_count": 3,
   "id": "f16b47d9-2759-47c7-918b-4b4a021e9a07",
   "metadata": {},
   "outputs": [
    {
     "name": "stdout",
     "output_type": "stream",
     "text": [
      "TransactionID                 0\n",
      "CustomerID                    0\n",
      "CustomerDOB                3397\n",
      "CustGender                 1100\n",
      "CustLocation                151\n",
      "CustAccountBalance         2369\n",
      "TransactionDate               0\n",
      "TransactionTime             381\n",
      "TransactionAmount (INR)       0\n",
      "dtype: int64\n",
      "Total dropped rows: 7398\n",
      "<class 'pandas.core.frame.DataFrame'>\n",
      "Int64Index: 1041236 entries, 0 to 1048566\n",
      "Data columns (total 9 columns):\n",
      " #   Column                   Non-Null Count    Dtype         \n",
      "---  ------                   --------------    -----         \n",
      " 0   TransactionID            1041236 non-null  object        \n",
      " 1   CustomerID               1041236 non-null  object        \n",
      " 2   CustomerDOB              1041236 non-null  datetime64[ns]\n",
      " 3   CustGender               1041236 non-null  object        \n",
      " 4   CustLocation             1041236 non-null  object        \n",
      " 5   CustAccountBalance       1041236 non-null  float64       \n",
      " 6   TransactionDate          1041236 non-null  datetime64[ns]\n",
      " 7   TransactionTime          1041236 non-null  datetime64[ns]\n",
      " 8   TransactionAmount (INR)  1041236 non-null  float64       \n",
      "dtypes: datetime64[ns](3), float64(2), object(4)\n",
      "memory usage: 79.4+ MB\n",
      "None\n"
     ]
    }
   ],
   "source": [
    "bank_transactions = pd.read_csv(\"bank_transactions.csv\")\n",
    "\n",
    "bank_transactions[\"CustomerDOB\"] = pd.to_datetime(bank_transactions[\"CustomerDOB\"])\n",
    "bank_transactions[\"TransactionDate\"] = pd.to_datetime(bank_transactions[\"TransactionDate\"])\n",
    "bank_transactions['TransactionTime'] = pd.to_datetime(bank_transactions['TransactionTime'], format='%H%M%S', errors=\"coerce\")\n",
    "# FORMAT IS YYYY/MM/DD\n",
    "print(bank_transactions.isna().sum())\n",
    "total_na = bank_transactions.isna().sum().sum()\n",
    "bank_transactions = bank_transactions.dropna()\n",
    "print(\"Total dropped rows:\", total_na)\n",
    "\n",
    "print(bank_transactions.info())"
   ]
  },
  {
   "cell_type": "code",
   "execution_count": 4,
   "id": "a0a4e9d8-4bf2-41e0-9349-0ba6e2619e94",
   "metadata": {},
   "outputs": [],
   "source": [
    "# picking only a percentage of dataframe, for computing reason\n",
    "bank_transactions = bank_transactions.sample(frac = 0.05)"
   ]
  },
  {
   "cell_type": "markdown",
   "id": "c34c0324-5120-4f3a-936b-def0c9069382",
   "metadata": {},
   "source": [
    "# transactions are considered as withdraw"
   ]
  },
  {
   "cell_type": "code",
   "execution_count": 5,
   "id": "d43405d1-c750-4e1e-9d30-4ee4c79ff409",
   "metadata": {},
   "outputs": [],
   "source": [
    "# removing transaction before certain date and after today date\n",
    "\n",
    "bank_transactions = bank_transactions[~(bank_transactions['CustomerDOB'] < '1922-01-01')]\n",
    "bank_transactions = bank_transactions[~(bank_transactions['CustomerDOB'] > today)]"
   ]
  },
  {
   "cell_type": "code",
   "execution_count": 6,
   "id": "bb7b8096-ad2c-4f35-9974-7d69dae2375d",
   "metadata": {},
   "outputs": [],
   "source": [
    "conditions = [bank_transactions['TransactionTime'].dt.hour.between(5, 13), \n",
    "              bank_transactions['TransactionTime'].dt.hour.between(14, 18),\n",
    "              bank_transactions['TransactionTime'].dt.hour.between(19, 22),\n",
    "              bank_transactions['TransactionTime'].dt.hour.between(22, 4)]\n",
    "period = ['Morning', 'Afternoon', 'Evening', 'Night']\n",
    "bank_transactions['period'] = np.select(conditions, period, 'Night')"
   ]
  },
  {
   "cell_type": "markdown",
   "id": "3127687c-4df6-4215-9177-2509694893b8",
   "metadata": {},
   "source": [
    "# last transaction, how many days ago?"
   ]
  },
  {
   "cell_type": "code",
   "execution_count": 7,
   "id": "e8161b0a-82dd-426e-acb2-e48198f231a6",
   "metadata": {},
   "outputs": [
    {
     "name": "stdout",
     "output_type": "stream",
     "text": [
      "        TransactionID CustomerID CustomerDOB CustGender CustLocation  \\\n",
      "800814        T800815   C3417755  1991-08-02          F    NEW DELHI   \n",
      "168220        T168221   C1047281  1973-08-06          F      GURGAON   \n",
      "91115          T91116   C2137960  1986-12-15          M  NAVI MUMBAI   \n",
      "11860          T11861   C1118346  1984-05-21          F      CHENNAI   \n",
      "588513        T588514   C8731490  1993-05-25          F      GURGAON   \n",
      "...               ...        ...         ...        ...          ...   \n",
      "1023088      T1023089   C3672780  1997-01-27          M       NAGPUR   \n",
      "54956          T54957   C8117592  1993-10-13          M        BANGA   \n",
      "869982        T869983   C8472913  1990-01-30          M    BANGALORE   \n",
      "204991        T204992   C8828469  1988-11-11          M    GHAZIABAD   \n",
      "298988        T298989   C6017526  1989-07-20          M       NASHIK   \n",
      "\n",
      "         CustAccountBalance TransactionDate     TransactionTime  \\\n",
      "800814               971.83      2016-05-09 1900-01-01 15:21:18   \n",
      "168220            142014.59      2016-04-08 1900-01-01 16:36:43   \n",
      "91115              22739.76      2016-09-27 1900-01-01 20:08:50   \n",
      "11860               5276.30      2016-09-25 1900-01-01 21:34:32   \n",
      "588513             15182.79      2016-08-23 1900-01-01 15:24:34   \n",
      "...                     ...             ...                 ...   \n",
      "1023088             3979.84      2016-09-13 1900-01-01 14:28:06   \n",
      "54956               1729.04      2016-03-08 1900-01-01 18:32:04   \n",
      "869982              2191.03      2016-08-09 1900-01-01 18:02:30   \n",
      "204991              6994.11      2016-08-08 1900-01-01 07:18:35   \n",
      "298988              3328.70      2016-11-08 1900-01-01 23:52:34   \n",
      "\n",
      "         TransactionAmount (INR)     period  last_transaction_days_ago  \n",
      "800814                     145.0  Afternoon                     2399.0  \n",
      "168220                    2946.0  Afternoon                     2430.0  \n",
      "91115                      525.0    Evening                     2258.0  \n",
      "11860                       70.0    Evening                     2260.0  \n",
      "588513                      39.0  Afternoon                     2293.0  \n",
      "...                          ...        ...                        ...  \n",
      "1023088                    120.0  Afternoon                     2272.0  \n",
      "54956                      190.0  Afternoon                     2461.0  \n",
      "869982                    2120.0  Afternoon                     2307.0  \n",
      "204991                     748.0    Morning                     2308.0  \n",
      "298988                     740.0      Night                     2216.0  \n",
      "\n",
      "[45479 rows x 11 columns]\n"
     ]
    }
   ],
   "source": [
    "bank_transactions['last_transaction_days_ago'] = (today - bank_transactions['TransactionDate']) / np.timedelta64(1, 'D')\n",
    "print(bank_transactions)"
   ]
  },
  {
   "cell_type": "code",
   "execution_count": 8,
   "id": "a40aff77-e699-4f0a-9c86-e9b06e98b26c",
   "metadata": {},
   "outputs": [
    {
     "name": "stdout",
     "output_type": "stream",
     "text": [
      "        TransactionID CustomerID CustomerDOB CustGender CustLocation  \\\n",
      "800814        T800815   C3417755  1991-08-02          F    NEW DELHI   \n",
      "168220        T168221   C1047281  1973-08-06          F      GURGAON   \n",
      "91115          T91116   C2137960  1986-12-15          M  NAVI MUMBAI   \n",
      "11860          T11861   C1118346  1984-05-21          F      CHENNAI   \n",
      "588513        T588514   C8731490  1993-05-25          F      GURGAON   \n",
      "...               ...        ...         ...        ...          ...   \n",
      "1023088      T1023089   C3672780  1997-01-27          M       NAGPUR   \n",
      "54956          T54957   C8117592  1993-10-13          M        BANGA   \n",
      "869982        T869983   C8472913  1990-01-30          M    BANGALORE   \n",
      "204991        T204992   C8828469  1988-11-11          M    GHAZIABAD   \n",
      "298988        T298989   C6017526  1989-07-20          M       NASHIK   \n",
      "\n",
      "         CustAccountBalance TransactionDate     TransactionTime  \\\n",
      "800814               971.83      2016-05-09 1900-01-01 15:21:18   \n",
      "168220            142014.59      2016-04-08 1900-01-01 16:36:43   \n",
      "91115              22739.76      2016-09-27 1900-01-01 20:08:50   \n",
      "11860               5276.30      2016-09-25 1900-01-01 21:34:32   \n",
      "588513             15182.79      2016-08-23 1900-01-01 15:24:34   \n",
      "...                     ...             ...                 ...   \n",
      "1023088             3979.84      2016-09-13 1900-01-01 14:28:06   \n",
      "54956               1729.04      2016-03-08 1900-01-01 18:32:04   \n",
      "869982              2191.03      2016-08-09 1900-01-01 18:02:30   \n",
      "204991              6994.11      2016-08-08 1900-01-01 07:18:35   \n",
      "298988              3328.70      2016-11-08 1900-01-01 23:52:34   \n",
      "\n",
      "         TransactionAmount (INR)     period  last_transaction_days_ago  \\\n",
      "800814                     145.0  Afternoon                     2399.0   \n",
      "168220                    2946.0  Afternoon                     2430.0   \n",
      "91115                      525.0    Evening                     2258.0   \n",
      "11860                       70.0    Evening                     2260.0   \n",
      "588513                      39.0  Afternoon                     2293.0   \n",
      "...                          ...        ...                        ...   \n",
      "1023088                    120.0  Afternoon                     2272.0   \n",
      "54956                      190.0  Afternoon                     2461.0   \n",
      "869982                    2120.0  Afternoon                     2307.0   \n",
      "204991                     748.0    Morning                     2308.0   \n",
      "298988                     740.0      Night                     2216.0   \n",
      "\n",
      "         withdrawal_pct  \n",
      "800814            14.92  \n",
      "168220             2.07  \n",
      "91115              2.31  \n",
      "11860              1.33  \n",
      "588513             0.26  \n",
      "...                 ...  \n",
      "1023088            3.02  \n",
      "54956             10.99  \n",
      "869982            96.76  \n",
      "204991            10.69  \n",
      "298988            22.23  \n",
      "\n",
      "[45479 rows x 12 columns]\n"
     ]
    }
   ],
   "source": [
    "bank_transactions['withdrawal_pct'] = ((bank_transactions['TransactionAmount (INR)'] / bank_transactions['CustAccountBalance']) * 100).round(2)\n",
    "print(bank_transactions)"
   ]
  },
  {
   "cell_type": "code",
   "execution_count": 9,
   "id": "aad43e25-5542-4de8-9bac-447d82b9b304",
   "metadata": {},
   "outputs": [],
   "source": [
    "bank_transactions1 = bank_transactions.copy()  #checkpoint for bank_transaction DataFrame"
   ]
  },
  {
   "cell_type": "markdown",
   "id": "c1fe2561-bc98-4ea1-971e-b1271f0efea5",
   "metadata": {},
   "source": [
    "# some information from CustomerID\n",
    "# same person, different DOB, different gender and locations"
   ]
  },
  {
   "cell_type": "code",
   "execution_count": 10,
   "id": "728bc1fc-fa9d-4d22-92cf-0361e23ea060",
   "metadata": {},
   "outputs": [
    {
     "name": "stdout",
     "output_type": "stream",
     "text": [
      "Empty DataFrame\n",
      "Columns: [TransactionID, CustomerID, CustomerDOB, CustGender, CustLocation, CustAccountBalance, TransactionDate, TransactionTime, TransactionAmount (INR), period, last_transaction_days_ago, withdrawal_pct]\n",
      "Index: []\n"
     ]
    }
   ],
   "source": [
    "print(bank_transactions1.loc[bank_transactions1['CustomerID'] == 'C8923888'])"
   ]
  },
  {
   "cell_type": "markdown",
   "id": "cce66bf2-7757-4e6c-91cb-b59ac264f317",
   "metadata": {},
   "source": [
    "# creating a specific column for topic 2.1.E\n",
    "# utilisation = balance - transaction_amount"
   ]
  },
  {
   "cell_type": "code",
   "execution_count": 11,
   "id": "9a954686-3a96-4a24-9384-dcc3e5781113",
   "metadata": {},
   "outputs": [
    {
     "name": "stdout",
     "output_type": "stream",
     "text": [
      "        TransactionID CustomerID CustomerDOB CustGender CustLocation  \\\n",
      "800814        T800815   C3417755  1991-08-02          F    NEW DELHI   \n",
      "168220        T168221   C1047281  1973-08-06          F      GURGAON   \n",
      "91115          T91116   C2137960  1986-12-15          M  NAVI MUMBAI   \n",
      "11860          T11861   C1118346  1984-05-21          F      CHENNAI   \n",
      "588513        T588514   C8731490  1993-05-25          F      GURGAON   \n",
      "...               ...        ...         ...        ...          ...   \n",
      "1023088      T1023089   C3672780  1997-01-27          M       NAGPUR   \n",
      "54956          T54957   C8117592  1993-10-13          M        BANGA   \n",
      "869982        T869983   C8472913  1990-01-30          M    BANGALORE   \n",
      "204991        T204992   C8828469  1988-11-11          M    GHAZIABAD   \n",
      "298988        T298989   C6017526  1989-07-20          M       NASHIK   \n",
      "\n",
      "         CustAccountBalance TransactionDate     TransactionTime  \\\n",
      "800814               971.83      2016-05-09 1900-01-01 15:21:18   \n",
      "168220            142014.59      2016-04-08 1900-01-01 16:36:43   \n",
      "91115              22739.76      2016-09-27 1900-01-01 20:08:50   \n",
      "11860               5276.30      2016-09-25 1900-01-01 21:34:32   \n",
      "588513             15182.79      2016-08-23 1900-01-01 15:24:34   \n",
      "...                     ...             ...                 ...   \n",
      "1023088             3979.84      2016-09-13 1900-01-01 14:28:06   \n",
      "54956               1729.04      2016-03-08 1900-01-01 18:32:04   \n",
      "869982              2191.03      2016-08-09 1900-01-01 18:02:30   \n",
      "204991              6994.11      2016-08-08 1900-01-01 07:18:35   \n",
      "298988              3328.70      2016-11-08 1900-01-01 23:52:34   \n",
      "\n",
      "         TransactionAmount (INR)     period  last_transaction_days_ago  \\\n",
      "800814                     145.0  Afternoon                     2399.0   \n",
      "168220                    2946.0  Afternoon                     2430.0   \n",
      "91115                      525.0    Evening                     2258.0   \n",
      "11860                       70.0    Evening                     2260.0   \n",
      "588513                      39.0  Afternoon                     2293.0   \n",
      "...                          ...        ...                        ...   \n",
      "1023088                    120.0  Afternoon                     2272.0   \n",
      "54956                      190.0  Afternoon                     2461.0   \n",
      "869982                    2120.0  Afternoon                     2307.0   \n",
      "204991                     748.0    Morning                     2308.0   \n",
      "298988                     740.0      Night                     2216.0   \n",
      "\n",
      "         withdrawal_pct  pre_utilisation  \n",
      "800814            14.92           826.83  \n",
      "168220             2.07        139068.59  \n",
      "91115              2.31         22214.76  \n",
      "11860              1.33          5206.30  \n",
      "588513             0.26         15143.79  \n",
      "...                 ...              ...  \n",
      "1023088            3.02          3859.84  \n",
      "54956             10.99          1539.04  \n",
      "869982            96.76            71.03  \n",
      "204991            10.69          6246.11  \n",
      "298988            22.23          2588.70  \n",
      "\n",
      "[45479 rows x 13 columns]\n"
     ]
    }
   ],
   "source": [
    "bank_transactions1['pre_utilisation'] = bank_transactions1['CustAccountBalance'] - bank_transactions1['TransactionAmount (INR)']\n",
    "print(bank_transactions1)"
   ]
  },
  {
   "cell_type": "markdown",
   "id": "f39496f8-0e02-4456-a20d-02e5152f0865",
   "metadata": {},
   "source": [
    "# pick up the day of the week"
   ]
  },
  {
   "cell_type": "code",
   "execution_count": 12,
   "id": "fbb68e33-5945-487e-a727-7ade675832fb",
   "metadata": {},
   "outputs": [
    {
     "name": "stdout",
     "output_type": "stream",
     "text": [
      "        TransactionID CustomerID CustomerDOB CustGender CustLocation  \\\n",
      "800814        T800815   C3417755  1991-08-02          F    NEW DELHI   \n",
      "168220        T168221   C1047281  1973-08-06          F      GURGAON   \n",
      "91115          T91116   C2137960  1986-12-15          M  NAVI MUMBAI   \n",
      "11860          T11861   C1118346  1984-05-21          F      CHENNAI   \n",
      "588513        T588514   C8731490  1993-05-25          F      GURGAON   \n",
      "...               ...        ...         ...        ...          ...   \n",
      "1023088      T1023089   C3672780  1997-01-27          M       NAGPUR   \n",
      "54956          T54957   C8117592  1993-10-13          M        BANGA   \n",
      "869982        T869983   C8472913  1990-01-30          M    BANGALORE   \n",
      "204991        T204992   C8828469  1988-11-11          M    GHAZIABAD   \n",
      "298988        T298989   C6017526  1989-07-20          M       NASHIK   \n",
      "\n",
      "         CustAccountBalance TransactionDate     TransactionTime  \\\n",
      "800814               971.83      2016-05-09 1900-01-01 15:21:18   \n",
      "168220            142014.59      2016-04-08 1900-01-01 16:36:43   \n",
      "91115              22739.76      2016-09-27 1900-01-01 20:08:50   \n",
      "11860               5276.30      2016-09-25 1900-01-01 21:34:32   \n",
      "588513             15182.79      2016-08-23 1900-01-01 15:24:34   \n",
      "...                     ...             ...                 ...   \n",
      "1023088             3979.84      2016-09-13 1900-01-01 14:28:06   \n",
      "54956               1729.04      2016-03-08 1900-01-01 18:32:04   \n",
      "869982              2191.03      2016-08-09 1900-01-01 18:02:30   \n",
      "204991              6994.11      2016-08-08 1900-01-01 07:18:35   \n",
      "298988              3328.70      2016-11-08 1900-01-01 23:52:34   \n",
      "\n",
      "         TransactionAmount (INR)     period  last_transaction_days_ago  \\\n",
      "800814                     145.0  Afternoon                     2399.0   \n",
      "168220                    2946.0  Afternoon                     2430.0   \n",
      "91115                      525.0    Evening                     2258.0   \n",
      "11860                       70.0    Evening                     2260.0   \n",
      "588513                      39.0  Afternoon                     2293.0   \n",
      "...                          ...        ...                        ...   \n",
      "1023088                    120.0  Afternoon                     2272.0   \n",
      "54956                      190.0  Afternoon                     2461.0   \n",
      "869982                    2120.0  Afternoon                     2307.0   \n",
      "204991                     748.0    Morning                     2308.0   \n",
      "298988                     740.0      Night                     2216.0   \n",
      "\n",
      "         withdrawal_pct  pre_utilisation week_day  \n",
      "800814            14.92           826.83   Monday  \n",
      "168220             2.07        139068.59   Friday  \n",
      "91115              2.31         22214.76  Tuesday  \n",
      "11860              1.33          5206.30   Sunday  \n",
      "588513             0.26         15143.79  Tuesday  \n",
      "...                 ...              ...      ...  \n",
      "1023088            3.02          3859.84  Tuesday  \n",
      "54956             10.99          1539.04  Tuesday  \n",
      "869982            96.76            71.03  Tuesday  \n",
      "204991            10.69          6246.11   Monday  \n",
      "298988            22.23          2588.70  Tuesday  \n",
      "\n",
      "[45479 rows x 14 columns]\n"
     ]
    }
   ],
   "source": [
    "bank_transactions1['week_day'] = bank_transactions1['TransactionDate'].dt.day_name()\n",
    "print(bank_transactions1)"
   ]
  },
  {
   "cell_type": "code",
   "execution_count": 13,
   "id": "758aec8d-b98f-4349-85d7-be85cff9cd49",
   "metadata": {},
   "outputs": [
    {
     "name": "stdout",
     "output_type": "stream",
     "text": [
      "            number_of_transactions\n",
      "CustomerID                        \n",
      "C1010035                         1\n",
      "C6391177                         1\n",
      "C6391978                         1\n",
      "C6392652                         1\n",
      "C6392667                         1\n",
      "...                            ...\n",
      "C2316346                         2\n",
      "C4214592                         3\n",
      "C4216967                         3\n",
      "C6641661                         3\n",
      "C5420626                         3\n",
      "\n",
      "[45117 rows x 1 columns]\n"
     ]
    }
   ],
   "source": [
    "customers_features = pd.DataFrame()\n",
    "\n",
    "customers_features['number_of_transactions'] = bank_transactions1.groupby('CustomerID')['TransactionID'].count()\n",
    "\n",
    "print(customers_features.sort_values(by='number_of_transactions'))"
   ]
  },
  {
   "cell_type": "code",
   "execution_count": 14,
   "id": "1a47c479-4341-4166-9fa4-8e81fd45b8af",
   "metadata": {},
   "outputs": [],
   "source": [
    "# customers_features['CustomerID'] = customers_features.index\n",
    "# customers_features = customers_features.loc[:, [\"CustomerID\",\"number_of_transactions\"]]"
   ]
  },
  {
   "cell_type": "code",
   "execution_count": 15,
   "id": "0a6abb8e-aa53-49ef-8872-d97034a54003",
   "metadata": {},
   "outputs": [],
   "source": [
    "customers_features['number_of_transactions_>_100'] = bank_transactions1.groupby(['CustomerID']).apply(lambda x: x[x['CustAccountBalance'] > 100 ]['TransactionID'].count())"
   ]
  },
  {
   "cell_type": "code",
   "execution_count": 16,
   "id": "b061e492-fc5e-45b1-9a25-3ef200ab7c5a",
   "metadata": {},
   "outputs": [
    {
     "name": "stdout",
     "output_type": "stream",
     "text": [
      "            number_of_transactions  number_of_transactions_>_100\n",
      "CustomerID                                                      \n",
      "C1020712                         2                             2\n",
      "C1021471                         2                             2\n",
      "C1024166                         2                             2\n",
      "C1037970                         2                             2\n",
      "C1112220                         2                             2\n",
      "...                            ...                           ...\n",
      "C8841460                         2                             2\n",
      "C8921432                         2                             2\n",
      "C8939751                         2                             2\n",
      "C9025639                         2                             2\n",
      "C9029941                         2                             2\n",
      "\n",
      "[310 rows x 2 columns]\n"
     ]
    }
   ],
   "source": [
    "print(customers_features.loc[customers_features['number_of_transactions_>_100'] == 2])"
   ]
  },
  {
   "cell_type": "code",
   "execution_count": 17,
   "id": "61e27de5-2f24-477d-bb4d-d29eef16effb",
   "metadata": {},
   "outputs": [],
   "source": [
    "customers_features['avg_amount_transaction'] = round(bank_transactions1.groupby(['CustomerID'])['TransactionAmount (INR)'].mean(), 2)"
   ]
  },
  {
   "cell_type": "code",
   "execution_count": 18,
   "id": "78b69f6b-4c47-4c67-b851-75df42df475d",
   "metadata": {},
   "outputs": [],
   "source": [
    "customers_features['avg_balance'] = bank_transactions1.groupby(['CustomerID'])['CustAccountBalance'].mean()\n",
    "customers_features['avg_balance'] = round(customers_features['avg_balance'], 2)"
   ]
  },
  {
   "cell_type": "code",
   "execution_count": 19,
   "id": "7ffee854-98b2-4710-8dad-c74db4b27eea",
   "metadata": {},
   "outputs": [],
   "source": [
    "customers_features['utilisation'] = round(bank_transactions1.groupby(['CustomerID'])['pre_utilisation'].mean(), 2)"
   ]
  },
  {
   "cell_type": "code",
   "execution_count": 20,
   "id": "f7ad71f4-c3ce-4810-8b14-6e534a597764",
   "metadata": {},
   "outputs": [],
   "source": [
    "customers_features['frequent_gender'] = bank_transactions1.groupby('CustomerID')['CustGender'].agg(lambda x: x.mode()[0])\n",
    "# if number of F == number of M it picks up the first label (F/M) in rows"
   ]
  },
  {
   "cell_type": "code",
   "execution_count": 21,
   "id": "b7cb4616-e06f-4209-a7a5-5f24b3e7dcc7",
   "metadata": {},
   "outputs": [
    {
     "name": "stdout",
     "output_type": "stream",
     "text": [
      "            number_of_transactions  number_of_transactions_>_100  \\\n",
      "CustomerID                                                         \n",
      "C1010035                         1                             1   \n",
      "C6391177                         1                             1   \n",
      "C6391978                         1                             1   \n",
      "C6392652                         1                             1   \n",
      "C6392667                         1                             1   \n",
      "...                            ...                           ...   \n",
      "C2316346                         2                             2   \n",
      "C4214592                         3                             2   \n",
      "C4216967                         3                             3   \n",
      "C6641661                         3                             3   \n",
      "C5420626                         3                             3   \n",
      "\n",
      "            avg_amount_transaction  avg_balance  utilisation frequent_gender  \\\n",
      "CustomerID                                                                     \n",
      "C1010035                     50.00      7284.42      7234.42               M   \n",
      "C6391177                    903.00   2439193.09   2438290.09               M   \n",
      "C6391978                    122.00      7008.33      6886.33               M   \n",
      "C6392652                    563.51     15743.02     15179.51               M   \n",
      "C6392667                    440.00     40000.27     39560.27               M   \n",
      "...                            ...          ...          ...             ...   \n",
      "C2316346                    353.66      7465.94      7112.28               F   \n",
      "C4214592                    541.77     19176.70     18634.93               M   \n",
      "C4216967                    569.00      6568.85      5999.85               F   \n",
      "C6641661                    638.67     38106.23     37467.57               M   \n",
      "C5420626                    625.89     86115.17     85489.28               M   \n",
      "\n",
      "             frequent_loc  \n",
      "CustomerID                 \n",
      "C1010035           MUMBAI  \n",
      "C6391177           MUMBAI  \n",
      "C6391978          UDAIPUR  \n",
      "C6392652           IMPHAL  \n",
      "C6392667         DEHRADUN  \n",
      "...                   ...  \n",
      "C2316346           GUNTUR  \n",
      "C4214592           MUMBAI  \n",
      "C4216967     BHUBANESHWAR  \n",
      "C6641661    GODAVARI WEST  \n",
      "C5420626      DELHI DLEHI  \n",
      "\n",
      "[45117 rows x 7 columns]\n"
     ]
    }
   ],
   "source": [
    "customers_features['frequent_loc'] = bank_transactions1.groupby('CustomerID')['CustLocation'].agg(lambda x: x.mode()[0])\n",
    "print(customers_features.sort_values(by='number_of_transactions'))"
   ]
  },
  {
   "cell_type": "markdown",
   "id": "dc296dfc-1734-42bd-91f4-7642946e58c2",
   "metadata": {},
   "source": [
    "# other 20 additional features"
   ]
  },
  {
   "cell_type": "code",
   "execution_count": 22,
   "id": "a15c6ae2-8cfe-43e4-a448-1757cd1ea058",
   "metadata": {},
   "outputs": [],
   "source": [
    "customers_features['max_trans_amount'] = bank_transactions1.groupby(['CustomerID'])['TransactionAmount (INR)'].max()"
   ]
  },
  {
   "cell_type": "code",
   "execution_count": 23,
   "id": "75fb6e52-1ae9-4650-b531-4a9c74f36421",
   "metadata": {},
   "outputs": [],
   "source": [
    "customers_features['min_trans_amount'] = bank_transactions1.groupby(['CustomerID'])['TransactionAmount (INR)'].min()"
   ]
  },
  {
   "cell_type": "code",
   "execution_count": 24,
   "id": "307363e8-6637-419a-932d-999db360debb",
   "metadata": {},
   "outputs": [],
   "source": [
    "customers_features['frequent_day'] = bank_transactions1.groupby('CustomerID')['week_day'].agg(lambda x: x.mode()[0])"
   ]
  },
  {
   "cell_type": "code",
   "execution_count": 25,
   "id": "6bc05b44-0013-4ac6-a022-feaa72999012",
   "metadata": {},
   "outputs": [],
   "source": [
    "customers_features['out_of_money'] = np.where(customers_features['avg_balance'] == 0, 'Y', 'N')"
   ]
  },
  {
   "cell_type": "markdown",
   "id": "b240ce2c-d0b8-4d0c-9f20-63510605be7e",
   "metadata": {},
   "source": [
    "# adding the DOB each customers, when there are multiple DOB for the same CustomerID, it will pick the first one"
   ]
  },
  {
   "cell_type": "code",
   "execution_count": 26,
   "id": "0615a9cb-b35b-4cc5-9435-757316e5ba86",
   "metadata": {},
   "outputs": [],
   "source": [
    "customers_features['DOB'] = bank_transactions1.groupby('CustomerID')['CustomerDOB'].first()"
   ]
  },
  {
   "cell_type": "code",
   "execution_count": 27,
   "id": "0b06bf3e-fa15-476e-a2e2-d9a165a54af6",
   "metadata": {},
   "outputs": [],
   "source": [
    "customers_features['age'] = ((today - customers_features['DOB']) / np.timedelta64(1, 'Y')).astype(int)"
   ]
  },
  {
   "cell_type": "code",
   "execution_count": 28,
   "id": "72979aeb-288d-4c15-9fba-ff1886677fb3",
   "metadata": {},
   "outputs": [],
   "source": [
    "# calculating most frequent period when transactions are done (morning - afternoon - night)\n",
    "\n",
    "customers_features['frequent_period'] = bank_transactions1.groupby('CustomerID')['period'].agg(lambda x: x.mode()[0])"
   ]
  },
  {
   "cell_type": "code",
   "execution_count": 29,
   "id": "9b759d60-263d-43a3-9332-95bcf1272d74",
   "metadata": {},
   "outputs": [],
   "source": [
    "customers_features['visited_cities'] = bank_transactions1.groupby('CustomerID')['CustLocation'].unique()"
   ]
  },
  {
   "cell_type": "code",
   "execution_count": 30,
   "id": "c39fa353-0ae2-4e11-9982-b61126d21540",
   "metadata": {},
   "outputs": [],
   "source": [
    "customers_features['last_transaction_days_ago'] = bank_transactions1.groupby('CustomerID')['last_transaction_days_ago'].min().astype(int)"
   ]
  },
  {
   "cell_type": "code",
   "execution_count": 31,
   "id": "c04a4c70-46f4-45ae-a51a-a465e6ccf8ee",
   "metadata": {},
   "outputs": [],
   "source": [
    "year = today.item().year\n",
    "customers_features['prova'] = str(year) + '-' + (customers_features['DOB'].dt.month).astype(str) + '-' + (customers_features['DOB'].dt.day).astype(str)\n",
    "customers_features['prova'] = pd.to_datetime(customers_features[\"prova\"], errors='coerce')\n",
    "\n",
    "customers_features['days_to_birthday'] = (customers_features['prova'] - today) / np.timedelta64(1, 'D')\n",
    "customers_features['days_to_birthday'] = np.where(customers_features['days_to_birthday'] < 0, \n",
    "                                                  customers_features['days_to_birthday'] * (-1), \n",
    "                                                  customers_features['days_to_birthday'])\n",
    "\n",
    "customers_features = customers_features.dropna()\n",
    "customers_features['days_to_birthday'] = customers_features['days_to_birthday'].astype(int)\n",
    "customers_features.drop(columns=['prova'], inplace=True)"
   ]
  },
  {
   "cell_type": "markdown",
   "id": "2eb8df65-531f-44e3-80b6-88539b44bdd6",
   "metadata": {},
   "source": [
    "# calculating the min/max/mean amount_of_transaction divided by the balance\n",
    "some values are greater than 100, because the amount of the transaction is greater than the balance, but we don't know if the balance can go below zero"
   ]
  },
  {
   "cell_type": "code",
   "execution_count": 32,
   "id": "05e22ab8-cb30-43ca-ae65-2416f582bc32",
   "metadata": {},
   "outputs": [],
   "source": [
    "customers_features['withdrawal_pct_min'] = bank_transactions1.groupby('CustomerID')['withdrawal_pct'].min()\n",
    "customers_features['withdrawal_pct_max'] = bank_transactions1.groupby('CustomerID')['withdrawal_pct'].max()\n",
    "customers_features['withdrawal_pct_mean'] = bank_transactions1.groupby('CustomerID')['withdrawal_pct'].mean()"
   ]
  },
  {
   "cell_type": "code",
   "execution_count": 33,
   "id": "34c78d7a-bbe7-4030-93c1-e626c378037c",
   "metadata": {},
   "outputs": [],
   "source": [
    "customers_features['current_balance'] = bank_transactions1.groupby('CustomerID')['CustAccountBalance'].last()"
   ]
  },
  {
   "cell_type": "code",
   "execution_count": 34,
   "id": "1b138f47-f6c7-4c4c-b65f-f0b1459a550d",
   "metadata": {},
   "outputs": [],
   "source": [
    "customers_features['total_deposit_amount'] = (bank_transactions1.groupby('CustomerID')['CustAccountBalance'].last() - bank_transactions1.groupby('CustomerID')['CustAccountBalance'].first()).astype(float)"
   ]
  },
  {
   "cell_type": "code",
   "execution_count": 35,
   "id": "82def08c-ff64-42e1-883a-ba7696caf6a7",
   "metadata": {},
   "outputs": [],
   "source": [
    "customers_features['total_deposit_amount'] = np.where(customers_features['total_deposit_amount'] < 0, 'No Deposits done, first balance greater than final one', customers_features['total_deposit_amount'].astype(float).round(2))"
   ]
  },
  {
   "cell_type": "markdown",
   "id": "e03b0f0d-cfd9-42da-9d7e-ed3813a752db",
   "metadata": {},
   "source": [
    "# counting the number of transactions where the amount is greater than the balance"
   ]
  },
  {
   "cell_type": "code",
   "execution_count": 36,
   "id": "27786e93-83f9-4414-a06a-c39335e7393b",
   "metadata": {},
   "outputs": [],
   "source": [
    "customers_features['number_of_transactions_>_balance'] = bank_transactions1.groupby(['CustomerID']).apply(lambda x: x[  x['TransactionAmount (INR)'] > x['CustAccountBalance'] ]['TransactionID'].count())"
   ]
  },
  {
   "cell_type": "code",
   "execution_count": 37,
   "id": "308f6056-7ddf-4e12-add0-ff87dfbf413b",
   "metadata": {},
   "outputs": [],
   "source": [
    "groups = bank_transactions1.groupby(['CustomerID', bank_transactions1.TransactionDate.dt.month])['TransactionAmount (INR)'].mean().reset_index()\n",
    "groups = groups.groupby('CustomerID')['TransactionAmount (INR)'].mean().reset_index()\n",
    "groups.rename(columns = {'TransactionAmount (INR)':'avg_monthly_transaction'}, inplace = True)\n",
    "\n",
    "new = pd.merge(groups, customers_features, on='CustomerID', how='inner')\n",
    "customers_features = new.copy()"
   ]
  },
  {
   "cell_type": "code",
   "execution_count": 38,
   "id": "a47d62e5-4ef5-404f-8261-9cbdacb89979",
   "metadata": {},
   "outputs": [],
   "source": [
    "# PARTICULAR RATIO FOUND ON INTERNET\n",
    "customers_features['Emergency_Fund_Ratio'] = customers_features['avg_monthly_transaction'] * 6"
   ]
  },
  {
   "cell_type": "code",
   "execution_count": 39,
   "id": "f12ebbb2-cc71-4b6a-a6b4-e901cb02af70",
   "metadata": {},
   "outputs": [],
   "source": [
    "customers_features['liquidity_ratio'] = customers_features['current_balance'] / customers_features['Emergency_Fund_Ratio']"
   ]
  },
  {
   "cell_type": "code",
   "execution_count": 40,
   "id": "015c61f1-234e-4b04-ab89-c678d44d1c29",
   "metadata": {},
   "outputs": [],
   "source": [
    "customers_features['finishing_balance_within_months'] = (customers_features['current_balance'] / customers_features['avg_monthly_transaction']).round(1)\n"
   ]
  },
  {
   "cell_type": "markdown",
   "id": "8fe8b056-f2e1-44c5-baee-0bfd2c1b1cc0",
   "metadata": {},
   "source": [
    "# reordering column index: now avg_monthly_transaction is the last column"
   ]
  },
  {
   "cell_type": "code",
   "execution_count": 41,
   "id": "3c69c49c-00cf-44d0-9544-0f8d565e3bdb",
   "metadata": {},
   "outputs": [
    {
     "name": "stdout",
     "output_type": "stream",
     "text": [
      "Index(['CustomerID', 'avg_monthly_transaction', 'number_of_transactions',\n",
      "       'number_of_transactions_>_100', 'avg_amount_transaction', 'avg_balance',\n",
      "       'utilisation', 'frequent_gender', 'frequent_loc', 'max_trans_amount',\n",
      "       'min_trans_amount', 'frequent_day', 'out_of_money', 'DOB', 'age',\n",
      "       'frequent_period', 'visited_cities', 'last_transaction_days_ago',\n",
      "       'days_to_birthday', 'withdrawal_pct_min', 'withdrawal_pct_max',\n",
      "       'withdrawal_pct_mean', 'current_balance', 'total_deposit_amount',\n",
      "       'number_of_transactions_>_balance', 'Emergency_Fund_Ratio',\n",
      "       'liquidity_ratio', 'finishing_balance_within_months'],\n",
      "      dtype='object') 28\n"
     ]
    }
   ],
   "source": [
    "print(customers_features.columns, len(customers_features.columns))"
   ]
  },
  {
   "cell_type": "code",
   "execution_count": 42,
   "id": "74d91ba1-978e-4ecf-b2b5-6ec9bfd967c0",
   "metadata": {},
   "outputs": [
    {
     "name": "stdout",
     "output_type": "stream",
     "text": [
      "[Index(['CustomerID', 'avg_monthly_transaction', 'number_of_transactions',\n",
      "       'number_of_transactions_>_100', 'avg_amount_transaction', 'avg_balance',\n",
      "       'utilisation', 'frequent_gender', 'frequent_loc', 'max_trans_amount',\n",
      "       'min_trans_amount', 'frequent_day', 'out_of_money', 'DOB', 'age',\n",
      "       'frequent_period', 'visited_cities', 'last_transaction_days_ago',\n",
      "       'days_to_birthday', 'withdrawal_pct_min', 'withdrawal_pct_max',\n",
      "       'withdrawal_pct_mean', 'current_balance', 'total_deposit_amount',\n",
      "       'number_of_transactions_>_balance', 'Emergency_Fund_Ratio',\n",
      "       'liquidity_ratio', 'finishing_balance_within_months'],\n",
      "      dtype='object')]\n"
     ]
    }
   ],
   "source": [
    "new_cols = [customers_features.columns]\n",
    "print(new_cols)\n",
    "new_cols = ['CustomerID',  'number_of_transactions',\n",
    "       'number_of_transactions_>_100', 'avg_amount_transaction', 'avg_balance',\n",
    "       'utilisation', 'frequent_gender', 'frequent_loc', 'max_trans_amount',\n",
    "       'min_trans_amount', 'frequent_day', 'out_of_money', 'DOB', 'age',\n",
    "       'frequent_period', 'visited_cities', 'last_transaction_days_ago',\n",
    "       'days_to_birthday', 'withdrawal_pct_min', 'withdrawal_pct_max',\n",
    "       'withdrawal_pct_mean', 'current_balance', 'total_deposit_amount', 'avg_monthly_transaction',\n",
    "       'number_of_transactions_>_balance', 'Emergency_Fund_Ratio',\n",
    "       'liquidity_ratio', 'finishing_balance_within_months']\n",
    "customers_features = customers_features[new_cols]"
   ]
  },
  {
   "cell_type": "code",
   "execution_count": 43,
   "id": "942bc491-6778-46be-a5a5-855aca6b5e5e",
   "metadata": {},
   "outputs": [
    {
     "name": "stdout",
     "output_type": "stream",
     "text": [
      "<class 'pandas.core.frame.DataFrame'>\n",
      "Int64Index: 45105 entries, 0 to 45104\n",
      "Data columns (total 28 columns):\n",
      " #   Column                            Non-Null Count  Dtype         \n",
      "---  ------                            --------------  -----         \n",
      " 0   CustomerID                        45105 non-null  object        \n",
      " 1   number_of_transactions            45105 non-null  int64         \n",
      " 2   number_of_transactions_>_100      45105 non-null  int64         \n",
      " 3   avg_amount_transaction            45105 non-null  float64       \n",
      " 4   avg_balance                       45105 non-null  float64       \n",
      " 5   utilisation                       45105 non-null  float64       \n",
      " 6   frequent_gender                   45105 non-null  object        \n",
      " 7   frequent_loc                      45105 non-null  object        \n",
      " 8   max_trans_amount                  45105 non-null  float64       \n",
      " 9   min_trans_amount                  45105 non-null  float64       \n",
      " 10  frequent_day                      45105 non-null  object        \n",
      " 11  out_of_money                      45105 non-null  object        \n",
      " 12  DOB                               45105 non-null  datetime64[ns]\n",
      " 13  age                               45105 non-null  int32         \n",
      " 14  frequent_period                   45105 non-null  object        \n",
      " 15  visited_cities                    45105 non-null  object        \n",
      " 16  last_transaction_days_ago         45105 non-null  int32         \n",
      " 17  days_to_birthday                  45105 non-null  int32         \n",
      " 18  withdrawal_pct_min                45105 non-null  float64       \n",
      " 19  withdrawal_pct_max                45105 non-null  float64       \n",
      " 20  withdrawal_pct_mean               45105 non-null  float64       \n",
      " 21  current_balance                   45105 non-null  float64       \n",
      " 22  total_deposit_amount              45105 non-null  object        \n",
      " 23  avg_monthly_transaction           45105 non-null  float64       \n",
      " 24  number_of_transactions_>_balance  45105 non-null  int64         \n",
      " 25  Emergency_Fund_Ratio              45105 non-null  float64       \n",
      " 26  liquidity_ratio                   45105 non-null  float64       \n",
      " 27  finishing_balance_within_months   45105 non-null  float64       \n",
      "dtypes: datetime64[ns](1), float64(13), int32(3), int64(3), object(8)\n",
      "memory usage: 9.5+ MB\n",
      "None\n",
      "      CustomerID  number_of_transactions  number_of_transactions_>_100  \\\n",
      "0       C1010035                       1                             1   \n",
      "1       C1010089                       1                             0   \n",
      "2       C1010230                       1                             1   \n",
      "3       C1010240                       1                             1   \n",
      "4       C1010247                       1                             1   \n",
      "...          ...                     ...                           ...   \n",
      "45100   C9095952                       1                             1   \n",
      "45101   C9096520                       1                             1   \n",
      "45102   C9096833                       1                             1   \n",
      "45103   C9099140                       1                             1   \n",
      "45104   C9099628                       1                             0   \n",
      "\n",
      "       avg_amount_transaction  avg_balance  utilisation frequent_gender  \\\n",
      "0                        50.0      7284.42      7234.42               M   \n",
      "1                      1182.0        17.71     -1164.29               F   \n",
      "2                      1823.0     83698.17     81875.17               F   \n",
      "3                        50.0     32624.11     32574.11               M   \n",
      "4                      3390.0     74249.63     70859.63               F   \n",
      "...                       ...          ...          ...             ...   \n",
      "45100                   166.0     21865.11     21699.11               M   \n",
      "45101                   200.0      4931.24      4731.24               M   \n",
      "45102                   260.0      7455.97      7195.97               M   \n",
      "45103                    50.0      8655.89      8605.89               F   \n",
      "45104                    50.0         1.44       -48.56               M   \n",
      "\n",
      "      frequent_loc  max_trans_amount  min_trans_amount  ...  \\\n",
      "0           MUMBAI              50.0              50.0  ...   \n",
      "1           HOWRAH            1182.0            1182.0  ...   \n",
      "2          GURGAON            1823.0            1823.0  ...   \n",
      "3       JAMSHEDPUR              50.0              50.0  ...   \n",
      "4          GURGAON            3390.0            3390.0  ...   \n",
      "...            ...               ...               ...  ...   \n",
      "45100    HYDERABAD             166.0             166.0  ...   \n",
      "45101    NEW DELHI             200.0             200.0  ...   \n",
      "45102      GURGAON             260.0             260.0  ...   \n",
      "45103       MUMBAI              50.0              50.0  ...   \n",
      "45104      GWALIOR              50.0              50.0  ...   \n",
      "\n",
      "      withdrawal_pct_min withdrawal_pct_max withdrawal_pct_mean  \\\n",
      "0                   0.69               0.69                0.69   \n",
      "1                6674.20            6674.20             6674.20   \n",
      "2                   2.18               2.18                2.18   \n",
      "3                   0.15               0.15                0.15   \n",
      "4                   4.57               4.57                4.57   \n",
      "...                  ...                ...                 ...   \n",
      "45100               0.76               0.76                0.76   \n",
      "45101               4.06               4.06                4.06   \n",
      "45102               3.49               3.49                3.49   \n",
      "45103               0.58               0.58                0.58   \n",
      "45104            3472.22            3472.22             3472.22   \n",
      "\n",
      "       current_balance total_deposit_amount avg_monthly_transaction  \\\n",
      "0              7284.42                  0.0                    50.0   \n",
      "1                17.71                  0.0                  1182.0   \n",
      "2             83698.17                  0.0                  1823.0   \n",
      "3             32624.11                  0.0                    50.0   \n",
      "4             74249.63                  0.0                  3390.0   \n",
      "...                ...                  ...                     ...   \n",
      "45100         21865.11                  0.0                   166.0   \n",
      "45101          4931.24                  0.0                   200.0   \n",
      "45102          7455.97                  0.0                   260.0   \n",
      "45103          8655.89                  0.0                    50.0   \n",
      "45104             1.44                  0.0                    50.0   \n",
      "\n",
      "       number_of_transactions_>_balance  Emergency_Fund_Ratio  \\\n",
      "0                                     0                 300.0   \n",
      "1                                     1                7092.0   \n",
      "2                                     0               10938.0   \n",
      "3                                     0                 300.0   \n",
      "4                                     0               20340.0   \n",
      "...                                 ...                   ...   \n",
      "45100                                 0                 996.0   \n",
      "45101                                 0                1200.0   \n",
      "45102                                 0                1560.0   \n",
      "45103                                 0                 300.0   \n",
      "45104                                 1                 300.0   \n",
      "\n",
      "       liquidity_ratio  finishing_balance_within_months  \n",
      "0            24.281400                            145.7  \n",
      "1             0.002497                              0.0  \n",
      "2             7.652054                             45.9  \n",
      "3           108.747033                            652.5  \n",
      "4             3.650424                             21.9  \n",
      "...                ...                              ...  \n",
      "45100        21.952922                            131.7  \n",
      "45101         4.109367                             24.7  \n",
      "45102         4.779468                             28.7  \n",
      "45103        28.852967                            173.1  \n",
      "45104         0.004800                              0.0  \n",
      "\n",
      "[45105 rows x 28 columns]\n"
     ]
    }
   ],
   "source": [
    "print(customers_features.info())\n",
    "print(customers_features)"
   ]
  },
  {
   "cell_type": "code",
   "execution_count": null,
   "id": "99ccdda3-57ff-405c-8086-bf9acfa55515",
   "metadata": {},
   "outputs": [],
   "source": [
    "#save file to csv:\n",
    "customers_features.to_csv('customers_features.csv')"
   ]
  },
  {
   "cell_type": "markdown",
   "id": "3fc9621d-ed51-4dba-a0a1-a766f863d289",
   "metadata": {},
   "source": [
    "### **2.2 Choose your features (variables)!**"
   ]
  },
  {
   "cell_type": "markdown",
   "id": "dcaefa72-e437-43de-8888-77c9c4a9d8a6",
   "metadata": {},
   "source": [
    "1. *To normalise or not to normalise?*<br>\n",
    "Normalization is a technique that shifts and rescales all the values so that they fall in a range from 0 to 1. This is particularly useful when we deal with distance-based algorithms (such KNN, K-means, etc), because, as the name suggest, they use distance between elements to find the similarity between them. In fact, if we have features on different scales we end up giving more weight to the features with higher magnitude; but it's not said that those features actually weight more. By normalising we make the features more 'comparable' with each other, putting everything at the same level.<br>\n",
    "It follows from what just said, that due to the fact that we are going to apply the K-means algorithm on our dataset, normalization is a good idea.<br>\n",
    "But first let's adjust the dataset. In particular we are going to ignore the columns that don't contain only numerical values."
   ]
  },
  {
   "cell_type": "code",
   "execution_count": 232,
   "id": "00ac37e1-de53-42c1-963f-5cf163544f31",
   "metadata": {},
   "outputs": [],
   "source": [
    "#retrieve the previously created dataset\n",
    "cust2 = pd.read_csv('customers_features.csv')"
   ]
  },
  {
   "cell_type": "code",
   "execution_count": 215,
   "id": "1611535b-777e-4150-aab0-a2653919a297",
   "metadata": {},
   "outputs": [
    {
     "data": {
      "text/html": [
       "<div>\n",
       "<style scoped>\n",
       "    .dataframe tbody tr th:only-of-type {\n",
       "        vertical-align: middle;\n",
       "    }\n",
       "\n",
       "    .dataframe tbody tr th {\n",
       "        vertical-align: top;\n",
       "    }\n",
       "\n",
       "    .dataframe thead th {\n",
       "        text-align: right;\n",
       "    }\n",
       "</style>\n",
       "<table border=\"1\" class=\"dataframe\">\n",
       "  <thead>\n",
       "    <tr style=\"text-align: right;\">\n",
       "      <th></th>\n",
       "      <th>avg_monthly_transaction</th>\n",
       "      <th>age</th>\n",
       "      <th>Emergency_Fund_Ratio</th>\n",
       "      <th>withdrawal_pct_mean</th>\n",
       "      <th>frequent_gender</th>\n",
       "      <th>min_trans_amount</th>\n",
       "      <th>out_of_money</th>\n",
       "      <th>frequent_period</th>\n",
       "      <th>max_trans_amount</th>\n",
       "      <th>finishing_balance_within_months</th>\n",
       "      <th>...</th>\n",
       "      <th>number_of_transactions</th>\n",
       "      <th>number_of_transactions_&gt;_100</th>\n",
       "      <th>liquidity_ratio</th>\n",
       "      <th>withdrawal_pct_min</th>\n",
       "      <th>withdrawal_pct_max</th>\n",
       "      <th>current_balance</th>\n",
       "      <th>avg_balance</th>\n",
       "      <th>last_transaction_days_ago</th>\n",
       "      <th>number_of_transactions_&gt;_balance</th>\n",
       "      <th>avg_amount_transaction</th>\n",
       "    </tr>\n",
       "  </thead>\n",
       "  <tbody>\n",
       "    <tr>\n",
       "      <th>0</th>\n",
       "      <td>2553.0</td>\n",
       "      <td>30</td>\n",
       "      <td>15318.0</td>\n",
       "      <td>7.460</td>\n",
       "      <td>1</td>\n",
       "      <td>356.0</td>\n",
       "      <td>0</td>\n",
       "      <td>0</td>\n",
       "      <td>4750.0</td>\n",
       "      <td>47.1</td>\n",
       "      <td>...</td>\n",
       "      <td>2</td>\n",
       "      <td>2</td>\n",
       "      <td>7.845707</td>\n",
       "      <td>0.30</td>\n",
       "      <td>14.62</td>\n",
       "      <td>120180.54</td>\n",
       "      <td>76340.63</td>\n",
       "      <td>2261</td>\n",
       "      <td>0</td>\n",
       "      <td>2553.0</td>\n",
       "    </tr>\n",
       "    <tr>\n",
       "      <th>1</th>\n",
       "      <td>1499.0</td>\n",
       "      <td>28</td>\n",
       "      <td>8994.0</td>\n",
       "      <td>6.190</td>\n",
       "      <td>0</td>\n",
       "      <td>1499.0</td>\n",
       "      <td>0</td>\n",
       "      <td>2</td>\n",
       "      <td>1499.0</td>\n",
       "      <td>16.1</td>\n",
       "      <td>...</td>\n",
       "      <td>1</td>\n",
       "      <td>1</td>\n",
       "      <td>2.691182</td>\n",
       "      <td>6.19</td>\n",
       "      <td>6.19</td>\n",
       "      <td>24204.49</td>\n",
       "      <td>24204.49</td>\n",
       "      <td>2304</td>\n",
       "      <td>0</td>\n",
       "      <td>1499.0</td>\n",
       "    </tr>\n",
       "    <tr>\n",
       "      <th>2</th>\n",
       "      <td>727.5</td>\n",
       "      <td>30</td>\n",
       "      <td>4365.0</td>\n",
       "      <td>1.645</td>\n",
       "      <td>1</td>\n",
       "      <td>250.0</td>\n",
       "      <td>0</td>\n",
       "      <td>1</td>\n",
       "      <td>1205.0</td>\n",
       "      <td>222.5</td>\n",
       "      <td>...</td>\n",
       "      <td>2</td>\n",
       "      <td>2</td>\n",
       "      <td>37.078754</td>\n",
       "      <td>0.15</td>\n",
       "      <td>3.14</td>\n",
       "      <td>161848.76</td>\n",
       "      <td>100112.95</td>\n",
       "      <td>2341</td>\n",
       "      <td>0</td>\n",
       "      <td>727.5</td>\n",
       "    </tr>\n",
       "    <tr>\n",
       "      <th>3</th>\n",
       "      <td>30.0</td>\n",
       "      <td>32</td>\n",
       "      <td>180.0</td>\n",
       "      <td>6.050</td>\n",
       "      <td>1</td>\n",
       "      <td>30.0</td>\n",
       "      <td>0</td>\n",
       "      <td>1</td>\n",
       "      <td>30.0</td>\n",
       "      <td>16.5</td>\n",
       "      <td>...</td>\n",
       "      <td>1</td>\n",
       "      <td>1</td>\n",
       "      <td>2.756556</td>\n",
       "      <td>6.05</td>\n",
       "      <td>6.05</td>\n",
       "      <td>496.18</td>\n",
       "      <td>496.18</td>\n",
       "      <td>2272</td>\n",
       "      <td>0</td>\n",
       "      <td>30.0</td>\n",
       "    </tr>\n",
       "    <tr>\n",
       "      <th>4</th>\n",
       "      <td>557.0</td>\n",
       "      <td>34</td>\n",
       "      <td>3342.0</td>\n",
       "      <td>0.190</td>\n",
       "      <td>1</td>\n",
       "      <td>557.0</td>\n",
       "      <td>0</td>\n",
       "      <td>0</td>\n",
       "      <td>557.0</td>\n",
       "      <td>532.9</td>\n",
       "      <td>...</td>\n",
       "      <td>1</td>\n",
       "      <td>1</td>\n",
       "      <td>88.817585</td>\n",
       "      <td>0.19</td>\n",
       "      <td>0.19</td>\n",
       "      <td>296828.37</td>\n",
       "      <td>296828.37</td>\n",
       "      <td>2289</td>\n",
       "      <td>0</td>\n",
       "      <td>557.0</td>\n",
       "    </tr>\n",
       "    <tr>\n",
       "      <th>...</th>\n",
       "      <td>...</td>\n",
       "      <td>...</td>\n",
       "      <td>...</td>\n",
       "      <td>...</td>\n",
       "      <td>...</td>\n",
       "      <td>...</td>\n",
       "      <td>...</td>\n",
       "      <td>...</td>\n",
       "      <td>...</td>\n",
       "      <td>...</td>\n",
       "      <td>...</td>\n",
       "      <td>...</td>\n",
       "      <td>...</td>\n",
       "      <td>...</td>\n",
       "      <td>...</td>\n",
       "      <td>...</td>\n",
       "      <td>...</td>\n",
       "      <td>...</td>\n",
       "      <td>...</td>\n",
       "      <td>...</td>\n",
       "      <td>...</td>\n",
       "    </tr>\n",
       "    <tr>\n",
       "      <th>783833</th>\n",
       "      <td>691.0</td>\n",
       "      <td>31</td>\n",
       "      <td>4146.0</td>\n",
       "      <td>0.520</td>\n",
       "      <td>0</td>\n",
       "      <td>691.0</td>\n",
       "      <td>0</td>\n",
       "      <td>0</td>\n",
       "      <td>691.0</td>\n",
       "      <td>192.6</td>\n",
       "      <td>...</td>\n",
       "      <td>1</td>\n",
       "      <td>1</td>\n",
       "      <td>32.095328</td>\n",
       "      <td>0.52</td>\n",
       "      <td>0.52</td>\n",
       "      <td>133067.23</td>\n",
       "      <td>133067.23</td>\n",
       "      <td>2341</td>\n",
       "      <td>0</td>\n",
       "      <td>691.0</td>\n",
       "    </tr>\n",
       "    <tr>\n",
       "      <th>783834</th>\n",
       "      <td>222.0</td>\n",
       "      <td>26</td>\n",
       "      <td>1332.0</td>\n",
       "      <td>0.230</td>\n",
       "      <td>0</td>\n",
       "      <td>222.0</td>\n",
       "      <td>0</td>\n",
       "      <td>0</td>\n",
       "      <td>222.0</td>\n",
       "      <td>432.7</td>\n",
       "      <td>...</td>\n",
       "      <td>1</td>\n",
       "      <td>1</td>\n",
       "      <td>72.119715</td>\n",
       "      <td>0.23</td>\n",
       "      <td>0.23</td>\n",
       "      <td>96063.46</td>\n",
       "      <td>96063.46</td>\n",
       "      <td>2272</td>\n",
       "      <td>0</td>\n",
       "      <td>222.0</td>\n",
       "    </tr>\n",
       "    <tr>\n",
       "      <th>783835</th>\n",
       "      <td>126.0</td>\n",
       "      <td>29</td>\n",
       "      <td>756.0</td>\n",
       "      <td>2.270</td>\n",
       "      <td>0</td>\n",
       "      <td>126.0</td>\n",
       "      <td>0</td>\n",
       "      <td>0</td>\n",
       "      <td>126.0</td>\n",
       "      <td>44.1</td>\n",
       "      <td>...</td>\n",
       "      <td>1</td>\n",
       "      <td>1</td>\n",
       "      <td>7.354167</td>\n",
       "      <td>2.27</td>\n",
       "      <td>2.27</td>\n",
       "      <td>5559.75</td>\n",
       "      <td>5559.75</td>\n",
       "      <td>2300</td>\n",
       "      <td>0</td>\n",
       "      <td>126.0</td>\n",
       "    </tr>\n",
       "    <tr>\n",
       "      <th>783836</th>\n",
       "      <td>50.0</td>\n",
       "      <td>27</td>\n",
       "      <td>300.0</td>\n",
       "      <td>0.140</td>\n",
       "      <td>0</td>\n",
       "      <td>50.0</td>\n",
       "      <td>0</td>\n",
       "      <td>2</td>\n",
       "      <td>50.0</td>\n",
       "      <td>705.9</td>\n",
       "      <td>...</td>\n",
       "      <td>1</td>\n",
       "      <td>1</td>\n",
       "      <td>117.653067</td>\n",
       "      <td>0.14</td>\n",
       "      <td>0.14</td>\n",
       "      <td>35295.92</td>\n",
       "      <td>35295.92</td>\n",
       "      <td>2290</td>\n",
       "      <td>0</td>\n",
       "      <td>50.0</td>\n",
       "    </tr>\n",
       "    <tr>\n",
       "      <th>783837</th>\n",
       "      <td>855.0</td>\n",
       "      <td>40</td>\n",
       "      <td>5130.0</td>\n",
       "      <td>12.270</td>\n",
       "      <td>0</td>\n",
       "      <td>855.0</td>\n",
       "      <td>0</td>\n",
       "      <td>2</td>\n",
       "      <td>855.0</td>\n",
       "      <td>8.2</td>\n",
       "      <td>...</td>\n",
       "      <td>1</td>\n",
       "      <td>1</td>\n",
       "      <td>1.358466</td>\n",
       "      <td>12.27</td>\n",
       "      <td>12.27</td>\n",
       "      <td>6968.93</td>\n",
       "      <td>6968.93</td>\n",
       "      <td>2262</td>\n",
       "      <td>0</td>\n",
       "      <td>855.0</td>\n",
       "    </tr>\n",
       "  </tbody>\n",
       "</table>\n",
       "<p>783838 rows × 23 columns</p>\n",
       "</div>"
      ],
      "text/plain": [
       "        avg_monthly_transaction  age  Emergency_Fund_Ratio  \\\n",
       "0                        2553.0   30               15318.0   \n",
       "1                        1499.0   28                8994.0   \n",
       "2                         727.5   30                4365.0   \n",
       "3                          30.0   32                 180.0   \n",
       "4                         557.0   34                3342.0   \n",
       "...                         ...  ...                   ...   \n",
       "783833                    691.0   31                4146.0   \n",
       "783834                    222.0   26                1332.0   \n",
       "783835                    126.0   29                 756.0   \n",
       "783836                     50.0   27                 300.0   \n",
       "783837                    855.0   40                5130.0   \n",
       "\n",
       "        withdrawal_pct_mean  frequent_gender  min_trans_amount  out_of_money  \\\n",
       "0                     7.460                1             356.0             0   \n",
       "1                     6.190                0            1499.0             0   \n",
       "2                     1.645                1             250.0             0   \n",
       "3                     6.050                1              30.0             0   \n",
       "4                     0.190                1             557.0             0   \n",
       "...                     ...              ...               ...           ...   \n",
       "783833                0.520                0             691.0             0   \n",
       "783834                0.230                0             222.0             0   \n",
       "783835                2.270                0             126.0             0   \n",
       "783836                0.140                0              50.0             0   \n",
       "783837               12.270                0             855.0             0   \n",
       "\n",
       "        frequent_period  max_trans_amount  finishing_balance_within_months  \\\n",
       "0                     0            4750.0                             47.1   \n",
       "1                     2            1499.0                             16.1   \n",
       "2                     1            1205.0                            222.5   \n",
       "3                     1              30.0                             16.5   \n",
       "4                     0             557.0                            532.9   \n",
       "...                 ...               ...                              ...   \n",
       "783833                0             691.0                            192.6   \n",
       "783834                0             222.0                            432.7   \n",
       "783835                0             126.0                             44.1   \n",
       "783836                2              50.0                            705.9   \n",
       "783837                2             855.0                              8.2   \n",
       "\n",
       "        ...  number_of_transactions  number_of_transactions_>_100  \\\n",
       "0       ...                       2                             2   \n",
       "1       ...                       1                             1   \n",
       "2       ...                       2                             2   \n",
       "3       ...                       1                             1   \n",
       "4       ...                       1                             1   \n",
       "...     ...                     ...                           ...   \n",
       "783833  ...                       1                             1   \n",
       "783834  ...                       1                             1   \n",
       "783835  ...                       1                             1   \n",
       "783836  ...                       1                             1   \n",
       "783837  ...                       1                             1   \n",
       "\n",
       "        liquidity_ratio  withdrawal_pct_min  withdrawal_pct_max  \\\n",
       "0              7.845707                0.30               14.62   \n",
       "1              2.691182                6.19                6.19   \n",
       "2             37.078754                0.15                3.14   \n",
       "3              2.756556                6.05                6.05   \n",
       "4             88.817585                0.19                0.19   \n",
       "...                 ...                 ...                 ...   \n",
       "783833        32.095328                0.52                0.52   \n",
       "783834        72.119715                0.23                0.23   \n",
       "783835         7.354167                2.27                2.27   \n",
       "783836       117.653067                0.14                0.14   \n",
       "783837         1.358466               12.27               12.27   \n",
       "\n",
       "        current_balance  avg_balance  last_transaction_days_ago  \\\n",
       "0             120180.54     76340.63                       2261   \n",
       "1              24204.49     24204.49                       2304   \n",
       "2             161848.76    100112.95                       2341   \n",
       "3                496.18       496.18                       2272   \n",
       "4             296828.37    296828.37                       2289   \n",
       "...                 ...          ...                        ...   \n",
       "783833        133067.23    133067.23                       2341   \n",
       "783834         96063.46     96063.46                       2272   \n",
       "783835          5559.75      5559.75                       2300   \n",
       "783836         35295.92     35295.92                       2290   \n",
       "783837          6968.93      6968.93                       2262   \n",
       "\n",
       "        number_of_transactions_>_balance  avg_amount_transaction  \n",
       "0                                      0                  2553.0  \n",
       "1                                      0                  1499.0  \n",
       "2                                      0                   727.5  \n",
       "3                                      0                    30.0  \n",
       "4                                      0                   557.0  \n",
       "...                                  ...                     ...  \n",
       "783833                                 0                   691.0  \n",
       "783834                                 0                   222.0  \n",
       "783835                                 0                   126.0  \n",
       "783836                                 0                    50.0  \n",
       "783837                                 0                   855.0  \n",
       "\n",
       "[783838 rows x 23 columns]"
      ]
     },
     "execution_count": 215,
     "metadata": {},
     "output_type": "execute_result"
    }
   ],
   "source": [
    "#define which are the column of interest\n",
    "columns = list(set(customers_features.columns) - {'CustomerID', 'DOB', 'frequent_loc', 'visited_cities', 'total_deposit_amount'})\n",
    "\n",
    "#define function that transforms period of the day in a number\n",
    "def transform_freq_period(x):\n",
    "    if x=='Morning': return 0\n",
    "    elif x=='Afternoon': return 1\n",
    "    elif x=='Evening': return 2\n",
    "    else: return 3\n",
    "\n",
    "#function that transforms weekday names into numbers\n",
    "weekdays = ['Monday', 'Tuesday', 'Wednesday', 'Thursday', 'Friday', 'Saturday', 'Sunday']\n",
    "def transform_freq_day(x):\n",
    "    return weekdays.index(x)\n",
    "\n",
    "#take only quantitative values and transform eventual qualitative features\n",
    "data2 = cust2.copy()[columns]\n",
    "data2['frequent_gender']=data2.frequent_gender.apply(lambda x: 0 if x=='M' else 1)\n",
    "data2['frequent_period'] = data2.frequent_period.apply(lambda x: transform_freq_period(x))\n",
    "data2['frequent_day'] = data2.frequent_day.apply(lambda x: transform_freq_day(x))\n",
    "data2['out_of_money'] = data2.out_of_money.apply(lambda x: 0 if x=='N' else 1)\n",
    "data2"
   ]
  },
  {
   "cell_type": "code",
   "execution_count": 233,
   "id": "96df69a9-a7be-406f-9450-be2d394054aa",
   "metadata": {},
   "outputs": [],
   "source": [
    "#drop nan values\n",
    "data2 = data2[np.isfinite(data2).all(1)]"
   ]
  },
  {
   "cell_type": "code",
   "execution_count": 235,
   "id": "ed908b3b-98b4-4c47-9efb-b37441aeed03",
   "metadata": {},
   "outputs": [
    {
     "data": {
      "text/plain": [
       "(781711, 23)"
      ]
     },
     "execution_count": 235,
     "metadata": {},
     "output_type": "execute_result"
    }
   ],
   "source": [
    "data2.shape"
   ]
  },
  {
   "cell_type": "markdown",
   "id": "8254660d-c4ff-45ca-87dd-ae1b7f48ca68",
   "metadata": {},
   "source": [
    "Dropping the rows with any nan values made us lose around 2000 entries, but we are dealing with a large dataset so it's okay.<br>\n",
    "Now, let's procede with the normalization:"
   ]
  },
  {
   "cell_type": "code",
   "execution_count": 237,
   "id": "43c789a5-7f86-4b32-be5c-d1a59fd6c4e3",
   "metadata": {},
   "outputs": [],
   "source": [
    "#normalize the dataset\n",
    "normalizer = MinMaxScaler()\n",
    "\n",
    "normalizer.fit(data2)\n",
    "\n",
    "normalized_data = normalizer.transform(data2)"
   ]
  },
  {
   "cell_type": "code",
   "execution_count": 238,
   "id": "deacc4d3-574d-40f3-b79f-2ab31ab54bc2",
   "metadata": {},
   "outputs": [
    {
     "data": {
      "text/plain": [
       "array([[1.63649536e-03, 6.00000000e-01, 1.63649536e-03, ...,\n",
       "        2.20238095e-01, 0.00000000e+00, 1.63649536e-03],\n",
       "       [9.60869480e-04, 5.60000000e-01, 9.60869480e-04, ...,\n",
       "        3.48214286e-01, 0.00000000e+00, 9.60869480e-04],\n",
       "       [4.66329287e-04, 6.00000000e-01, 4.66329287e-04, ...,\n",
       "        4.58333333e-01, 0.00000000e+00, 4.66329287e-04],\n",
       "       ...,\n",
       "       [8.07610096e-05, 5.80000000e-01, 8.07610096e-05, ...,\n",
       "        3.36309524e-01, 0.00000000e+00, 8.07610096e-05],\n",
       "       [3.20441533e-05, 5.40000000e-01, 3.20441533e-05, ...,\n",
       "        3.06547619e-01, 0.00000000e+00, 3.20441533e-05],\n",
       "       [5.48058224e-04, 8.00000000e-01, 5.48058224e-04, ...,\n",
       "        2.23214286e-01, 0.00000000e+00, 5.48058224e-04]])"
      ]
     },
     "execution_count": 238,
     "metadata": {},
     "output_type": "execute_result"
    }
   ],
   "source": [
    "normalized_data"
   ]
  },
  {
   "cell_type": "code",
   "execution_count": 246,
   "id": "c948d2bc-286b-45fb-b9d6-443424761541",
   "metadata": {},
   "outputs": [
    {
     "data": {
      "image/png": "[encoded data removed]",
      "text/plain": [
       "<Figure size 720x504 with 2 Axes>"
      ]
     },
     "metadata": {},
     "output_type": "display_data"
    }
   ],
   "source": [
    "#let's plot the data before and after the normalization\n",
    "f, (ax1, ax2) = plt.subplots(2, 1, figsize = (10,7))\n",
    "\n",
    "data2.plot(kind = 'box', ax = ax1, title = 'Non-Normalized Data')\n",
    "ax1.set_xticklabels(list(range(0,23)))\n",
    "pd.DataFrame(normalized_data).plot(kind = 'box', ax = ax2, title='Normalized Data')\n",
    "\n",
    "plt.show()"
   ]
  },
  {
   "cell_type": "markdown",
   "id": "c0556424-9f13-4304-abb1-193280185074",
   "metadata": {},
   "source": [
    "2. Select **one** method for dimensionality reduction.<br>\n",
    "The method that we have chosen for the purpose of reduce the dimensionality of our dataset is the Principal Component Analysis (PCA) method. Let's see why.<br>\n",
    "First of all the vast majority of the features in our dataset are quantitative. Only a few are qualitative, such as the gender. So we decided for the PCA and the transormation of qualitative features into quantitative (in the case of the gender, M->0 and F->1). The Factor Analysis for Mixed Data wasn't an option because with too few qualitative feature it doesn't work well. Furthermore PCA is sensitive to the scale of the variables, but we already resolved this problem by normalising our dataset.<br>\n",
    "Now let's dive more into the pros and cons of this method.<br>\n",
    "- <span style=\"color:green\">Pros</span>\n",
    "    - The dataset will have a lower dimension (and this is exactly our goal)\n",
    "    - It's easy to compute because it's based on linear algebra\n",
    "    - The K-means algorithm that we are going to apply after will be much faster.\n",
    "- <span style=\"color:red\">Cons</span>\n",
    "    - It doesn't catch non-linear relationship between the variables, but only linear relationships.\n",
    "    - The principal component that will be spit out are of hard interpreability.\n",
    "    - If we reduce the dimensionality too much there is the risk to lose information.\n",
    "    \n",
    "The last point is the crucial one. We can for example reduce the dimensionality to only 2 principal components so that we can also plot them and visualize them, but nobody assures us that we are not losing information. In order to choose the right number of principal components we can plot the cumulative variance for each number of principal components and choose a number that gives at least 70% of variance."
   ]
  },
  {
   "cell_type": "markdown",
   "id": "cb30f184-8161-4272-83b0-5eeaaa3a337a",
   "metadata": {},
   "source": [
    "We can simply define the PCA by passing the minimum variance that we want to obtain:"
   ]
  },
  {
   "cell_type": "code",
   "execution_count": 247,
   "id": "5654139d-751e-4f8b-8260-9cfbb36d9164",
   "metadata": {},
   "outputs": [],
   "source": [
    "#initialize pca with a given minimum variance \n",
    "pca = PCA(n_components = 0.7)\n",
    "pca.fit(normalized_data)\n",
    "reduced = pca.transform(normalized_data)"
   ]
  },
  {
   "cell_type": "code",
   "execution_count": 248,
   "id": "77f7d05f-66ee-4485-9739-ede0ab652d62",
   "metadata": {},
   "outputs": [
    {
     "data": {
      "text/plain": [
       "(781711, 4)"
      ]
     },
     "execution_count": 248,
     "metadata": {},
     "output_type": "execute_result"
    }
   ],
   "source": [
    "reduced.shape"
   ]
  },
  {
   "cell_type": "markdown",
   "id": "4752a69c-bb05-4497-8a8d-4dc13e0c2343",
   "metadata": {},
   "source": [
    "We can see that the algorithm chose for us 4 as the number of principal components.<br>\n",
    "But let's plot it to see by ourselves if that number is satisfying."
   ]
  },
  {
   "cell_type": "code",
   "execution_count": 251,
   "id": "1d82d4ed-c62c-4bf4-8056-79e6d7747379",
   "metadata": {},
   "outputs": [
    {
     "data": {
      "image/png": "[encoded data removed]",
      "text/plain": [
       "<Figure size 576x396 with 1 Axes>"
      ]
     },
     "metadata": {},
     "output_type": "display_data"
    }
   ],
   "source": [
    "#initialize the pca without parameters\n",
    "pca2 = PCA().fit(normalized_data)\n",
    "\n",
    "fig, ax = plt.subplots()\n",
    "xi = np.arange(1, 24, step=1)\n",
    "y = np.cumsum(pca2.explained_variance_ratio_)\n",
    "\n",
    "plt.ylim(0.0,1.1)\n",
    "plt.plot(xi, y, marker='o', linestyle='dotted', color='orange')\n",
    "\n",
    "plt.xlabel('Number of Components')\n",
    "plt.xticks(np.arange(0, 23, step=1))\n",
    "plt.ylabel('Cumulative variance (%)')\n",
    "\n",
    "plt.axhline(y=0.7, color='r', linestyle='-')\n",
    "plt.text(11, 0.71, '70% cut-off threshold', color = 'green', fontsize=16)\n",
    "\n",
    "plt.show()"
   ]
  },
  {
   "cell_type": "markdown",
   "id": "1da87622-92e0-48ca-953d-6eb8903d0e45",
   "metadata": {},
   "source": [
    "So, yes 4 is a good number. We can see from the graph that it satisfies more than the 80% of cumulative variance. <br>\n",
    "Let's proceed with this dataset called `reduced` and let's also save it in a csv file."
   ]
  },
  {
   "cell_type": "code",
   "execution_count": 252,
   "id": "bd06cbc3-1263-4def-9726-04b5892cf201",
   "metadata": {},
   "outputs": [],
   "source": [
    "pd.DataFrame(reduced).to_csv('reduced.csv')"
   ]
  },
  {
   "cell_type": "markdown",
   "id": "08140ea2-6e19-4e73-bf93-bfbdb48f6f85",
   "metadata": {},
   "source": [
    "## **2.3 Clustering!**"
   ]
  },
  {
   "cell_type": "markdown",
   "id": "6e6d7ec7-7bec-4a19-9aad-b66b6e5b956f",
   "metadata": {
    "tags": []
   },
   "source": [
    "### ***Find optimal number of k***"
   ]
  },
  {
   "cell_type": "markdown",
   "id": "48eb4fa1-ca15-48b1-9db7-043df16ac8bc",
   "metadata": {},
   "source": [
    "Now that we have implemented the k-means algorithm we can find which is the optimal k.<br>\n",
    "To do so we can use two methods:\n",
    "- Elbow method: we plot the sum of the distances for each k and we find the point where there is an elbow. That will be the optimal k because the sum of the distances has decreased, but we don't use too much computational time.\n",
    "- Silhouette visualizer: permits to visualize the density and separation between clusters. For every k a silhouette-score can be calculated as the average of the silhouette coefficient for each sample. The silhouette coefficient is the difference between the average intra-cluster distance and the mean nearest-cluster distance, normalized by the maximum value. The higher the score the better the k.<br>\n",
    "\n",
    "In both cases we are going to use the yellowbrick package."
   ]
  },
  {
   "cell_type": "markdown",
   "id": "38297543-de8a-40c9-ba12-715eb01e4f68",
   "metadata": {},
   "source": [
    "#### Elbow method"
   ]
  },
  {
   "cell_type": "code",
   "execution_count": 253,
   "id": "cfb11574-0977-429a-b6f9-a93cd0a2e991",
   "metadata": {},
   "outputs": [
    {
     "data": {
      "image/png": "[encoded data removed]",
      "text/plain": [
       "<Figure size 576x396 with 2 Axes>"
      ]
     },
     "metadata": {},
     "output_type": "display_data"
    },
    {
     "data": {
      "text/plain": [
       "<AxesSubplot:title={'center':'Distortion Score Elbow for KMeans Clustering'}, xlabel='k', ylabel='distortion score'>"
      ]
     },
     "execution_count": 253,
     "metadata": {},
     "output_type": "execute_result"
    }
   ],
   "source": [
    "# Instantiate the clustering model and visualizer\n",
    "model = KMeans()\n",
    "visualizer = KElbowVisualizer(model, k=(1,5))\n",
    "\n",
    "visualizer.fit(reduced)    # Fit the data to the visualizer\n",
    "visualizer.show()    # Finalize and render the figure\n"
   ]
  },
  {
   "cell_type": "markdown",
   "id": "28b7a992-5404-4624-acf4-236957eb7b1b",
   "metadata": {},
   "source": [
    "#### Silhoutte visualizer"
   ]
  },
  {
   "cell_type": "markdown",
   "id": "75b3457f-a444-4527-9769-08d0002926b1",
   "metadata": {},
   "source": [
    "Due to the fact that this method has a very long running time we consider only a sampla of our data."
   ]
  },
  {
   "cell_type": "code",
   "execution_count": 254,
   "id": "e455a1b6-8535-46cf-acc8-38f8f86a3d32",
   "metadata": {},
   "outputs": [],
   "source": [
    "bank_sample = pd.DataFrame(reduced).sample(50000)"
   ]
  },
  {
   "cell_type": "code",
   "execution_count": 255,
   "id": "00f69ecd-c2b9-49f0-94d0-1238ae8d4501",
   "metadata": {
    "tags": []
   },
   "outputs": [
    {
     "data": {
      "image/png": "[encoded data removed]",
      "text/plain": [
       "<Figure size 576x396 with 1 Axes>"
      ]
     },
     "metadata": {},
     "output_type": "display_data"
    },
    {
     "data": {
      "image/png": "[encoded data removed]",
      "text/plain": [
       "<Figure size 576x396 with 1 Axes>"
      ]
     },
     "metadata": {},
     "output_type": "display_data"
    },
    {
     "data": {
      "image/png": "[encoded data removed]",
      "text/plain": [
       "<Figure size 576x396 with 1 Axes>"
      ]
     },
     "metadata": {},
     "output_type": "display_data"
    }
   ],
   "source": [
    "K = range(2,5)\n",
    "\n",
    "for k in K:\n",
    "    model = KMeans(k, random_state=42)\n",
    "    visualizer = SilhouetteVisualizer(model, colors='yellowbrick')\n",
    "\n",
    "    visualizer.fit(bank_sample)\n",
    "    visualizer.show()"
   ]
  },
  {
   "cell_type": "markdown",
   "id": "fff2c4bf-bcde-4f6b-8935-754a2901ffc1",
   "metadata": {},
   "source": [
    "With both methods we retrieve that **k=2** is the optimal number of clusters."
   ]
  },
  {
   "cell_type": "markdown",
   "id": "eebc3d93-29f0-41f2-b2f6-1f570f353ce0",
   "metadata": {},
   "source": [
    "### ***K-means from scratch***"
   ]
  },
  {
   "cell_type": "markdown",
   "id": "268b6782-6faa-4fec-8a6a-7dd0eeee771f",
   "metadata": {},
   "source": [
    "We were asked to use MapReduce. So we coded using AWS EMR with a notebook with a PySpark kernel. Below there is the copy of what has been run on AWS."
   ]
  },
  {
   "cell_type": "markdown",
   "id": "aa016b61-c396-4367-938d-669803eb1d71",
   "metadata": {},
   "source": [
    "First thing first let's import the dataset from the S3 bucket."
   ]
  },
  {
   "cell_type": "code",
   "execution_count": 2,
   "id": "c69651e5-2111-4bb3-a7da-7d1ec0ec9ab2",
   "metadata": {
    "execution": {
     "iopub.execute_input": "2022-12-07T18:45:40.699498Z",
     "iopub.status.busy": "2022-12-07T18:45:40.699246Z",
     "iopub.status.idle": "2022-12-07T18:45:41.483349Z",
     "shell.execute_reply": "2022-12-07T18:45:41.482579Z",
     "shell.execute_reply.started": "2022-12-07T18:45:40.699474Z"
    },
    "tags": []
   },
   "outputs": [
    {
     "data": {
      "application/vnd.jupyter.widget-view+json": {
       "model_id": "86b2e0498e0d4fee8ebe92e680f88846",
       "version_major": 2,
       "version_minor": 0
      },
      "text/plain": [
       "VBox()"
      ]
     },
     "metadata": {},
     "output_type": "display_data"
    },
    {
     "data": {
      "application/vnd.jupyter.widget-view+json": {
       "model_id": "",
       "version_major": 2,
       "version_minor": 0
      },
      "text/plain": [
       "FloatProgress(value=0.0, bar_style='info', description='Progress:', layout=Layout(height='25px', width='50%'),…"
      ]
     },
     "metadata": {},
     "output_type": "display_data"
    }
   ],
   "source": [
    "rddFromFile = sc.textFile(\"s3://adm22/reduced.csv\")"
   ]
  },
  {
   "cell_type": "code",
   "execution_count": 3,
   "id": "9f92cbab-54f9-46d9-923e-615c03528147",
   "metadata": {
    "execution": {
     "iopub.execute_input": "2022-12-07T18:45:44.919697Z",
     "iopub.status.busy": "2022-12-07T18:45:44.919451Z",
     "iopub.status.idle": "2022-12-07T18:45:52.580883Z",
     "shell.execute_reply": "2022-12-07T18:45:52.580195Z",
     "shell.execute_reply.started": "2022-12-07T18:45:44.919660Z"
    },
    "tags": []
   },
   "outputs": [
    {
     "data": {
      "application/vnd.jupyter.widget-view+json": {
       "model_id": "86ae40777d974adbbb7e4dad890e2aa9",
       "version_major": 2,
       "version_minor": 0
      },
      "text/plain": [
       "VBox()"
      ]
     },
     "metadata": {},
     "output_type": "display_data"
    },
    {
     "data": {
      "application/vnd.jupyter.widget-view+json": {
       "model_id": "",
       "version_major": 2,
       "version_minor": 0
      },
      "text/plain": [
       "FloatProgress(value=0.0, bar_style='info', description='Progress:', layout=Layout(height='25px', width='50%'),…"
      ]
     },
     "metadata": {},
     "output_type": "display_data"
    },
    {
     "name": "stdout",
     "output_type": "stream",
     "text": [
      "[',0,1,2,3', '0,0.7027916499741068,0.4998526741442818,-0.1366284593568194,-0.37474772440252674', '1,-0.2867495966004499,-0.5027540167489186,-0.0978776088440633,0.2814904965688103']"
     ]
    }
   ],
   "source": [
    "#let's give a look\n",
    "rddFromFile.take(3)"
   ]
  },
  {
   "cell_type": "markdown",
   "id": "8b3387b6-6fcd-4c7f-a5c6-cad7ef362f94",
   "metadata": {},
   "source": [
    "We have to drop the first row, because it's the header, and to transform the text file with commas into a numpy matrix."
   ]
  },
  {
   "cell_type": "code",
   "execution_count": 4,
   "id": "17b4bf78-ad47-4bdf-bdfc-bb17b4c03037",
   "metadata": {
    "execution": {
     "iopub.execute_input": "2022-12-07T18:45:55.817185Z",
     "iopub.status.busy": "2022-12-07T18:45:55.816862Z",
     "iopub.status.idle": "2022-12-07T18:46:01.151443Z",
     "shell.execute_reply": "2022-12-07T18:46:01.150760Z",
     "shell.execute_reply.started": "2022-12-07T18:45:55.817141Z"
    },
    "tags": []
   },
   "outputs": [
    {
     "data": {
      "application/vnd.jupyter.widget-view+json": {
       "model_id": "280f6c899d214eff9be51544b49268c0",
       "version_major": 2,
       "version_minor": 0
      },
      "text/plain": [
       "VBox()"
      ]
     },
     "metadata": {},
     "output_type": "display_data"
    },
    {
     "data": {
      "application/vnd.jupyter.widget-view+json": {
       "model_id": "",
       "version_major": 2,
       "version_minor": 0
      },
      "text/plain": [
       "FloatProgress(value=0.0, bar_style='info', description='Progress:', layout=Layout(height='25px', width='50%'),…"
      ]
     },
     "metadata": {},
     "output_type": "display_data"
    }
   ],
   "source": [
    "drop = rddFromFile.first()\n",
    "#drop first row\n",
    "rdd = rddFromFile.filter(lambda row: row != drop)"
   ]
  },
  {
   "cell_type": "code",
   "execution_count": 5,
   "id": "fbdd9699-a27d-41a9-9038-f48cce501546",
   "metadata": {
    "execution": {
     "iopub.execute_input": "2022-12-07T18:46:03.755748Z",
     "iopub.status.busy": "2022-12-07T18:46:03.755520Z",
     "iopub.status.idle": "2022-12-07T18:46:03.816704Z",
     "shell.execute_reply": "2022-12-07T18:46:03.816013Z",
     "shell.execute_reply.started": "2022-12-07T18:46:03.755724Z"
    },
    "tags": []
   },
   "outputs": [
    {
     "data": {
      "application/vnd.jupyter.widget-view+json": {
       "model_id": "aa2f3f0cba8145f9bc331248e05b1e5d",
       "version_major": 2,
       "version_minor": 0
      },
      "text/plain": [
       "VBox()"
      ]
     },
     "metadata": {},
     "output_type": "display_data"
    },
    {
     "data": {
      "application/vnd.jupyter.widget-view+json": {
       "model_id": "",
       "version_major": 2,
       "version_minor": 0
      },
      "text/plain": [
       "FloatProgress(value=0.0, bar_style='info', description='Progress:', layout=Layout(height='25px', width='50%'),…"
      ]
     },
     "metadata": {},
     "output_type": "display_data"
    }
   ],
   "source": [
    "reduced = rdd.map(lambda t: t.split(','))\n",
    "reduced = reduced.map(lambda r: np.array(r[1:], dtype = np.float32))"
   ]
  },
  {
   "cell_type": "code",
   "execution_count": 6,
   "id": "97af5c0f-e082-4eb0-ad44-94bc8328f79f",
   "metadata": {
    "execution": {
     "iopub.execute_input": "2022-12-07T18:46:05.434582Z",
     "iopub.status.busy": "2022-12-07T18:46:05.434366Z",
     "iopub.status.idle": "2022-12-07T18:46:05.721029Z",
     "shell.execute_reply": "2022-12-07T18:46:05.720307Z",
     "shell.execute_reply.started": "2022-12-07T18:46:05.434559Z"
    },
    "tags": []
   },
   "outputs": [
    {
     "data": {
      "application/vnd.jupyter.widget-view+json": {
       "model_id": "5bd9c3358bb845b6a58bc9375902aaa7",
       "version_major": 2,
       "version_minor": 0
      },
      "text/plain": [
       "VBox()"
      ]
     },
     "metadata": {},
     "output_type": "display_data"
    },
    {
     "data": {
      "application/vnd.jupyter.widget-view+json": {
       "model_id": "",
       "version_major": 2,
       "version_minor": 0
      },
      "text/plain": [
       "FloatProgress(value=0.0, bar_style='info', description='Progress:', layout=Layout(height='25px', width='50%'),…"
      ]
     },
     "metadata": {},
     "output_type": "display_data"
    },
    {
     "name": "stdout",
     "output_type": "stream",
     "text": [
      "[array([ 0.70279163,  0.4998527 , -0.13662846, -0.37474772], dtype=float32), array([-0.2867496 , -0.50275403, -0.09787761,  0.2814905 ], dtype=float32), array([ 0.70292896, -0.14112033,  0.26162243, -0.0433717 ], dtype=float32)]"
     ]
    }
   ],
   "source": [
    "reduced.take(3)"
   ]
  },
  {
   "cell_type": "code",
   "execution_count": 7,
   "id": "e64be0cf-d620-4b40-867e-f177d339e0dd",
   "metadata": {
    "execution": {
     "iopub.execute_input": "2022-12-07T18:46:08.169394Z",
     "iopub.status.busy": "2022-12-07T18:46:08.169150Z",
     "iopub.status.idle": "2022-12-07T18:46:08.234318Z",
     "shell.execute_reply": "2022-12-07T18:46:08.233763Z",
     "shell.execute_reply.started": "2022-12-07T18:46:08.169368Z"
    },
    "tags": []
   },
   "outputs": [
    {
     "data": {
      "application/vnd.jupyter.widget-view+json": {
       "model_id": "99c7b591921d4ad9981be6636a4314bb",
       "version_major": 2,
       "version_minor": 0
      },
      "text/plain": [
       "VBox()"
      ]
     },
     "metadata": {},
     "output_type": "display_data"
    },
    {
     "data": {
      "application/vnd.jupyter.widget-view+json": {
       "model_id": "",
       "version_major": 2,
       "version_minor": 0
      },
      "text/plain": [
       "FloatProgress(value=0.0, bar_style='info', description='Progress:', layout=Layout(height='25px', width='50%'),…"
      ]
     },
     "metadata": {},
     "output_type": "display_data"
    }
   ],
   "source": [
    "def initiate_centroids(k, reduced_data):\n",
    "    '''\n",
    "    Sample k data points as centroids from the dataframe\n",
    "    '''\n",
    "    centroids = reduced_data.takeSample(False, k, 123)\n",
    "    return centroids\n",
    "\n",
    "\n",
    "def distance(t1, t2):\n",
    "    '''\n",
    "    Returns the euclidean distance between t1 and t2\n",
    "    '''\n",
    "    return np.square(np.sum((t1 - t2)**2))\n",
    "\n",
    "\n",
    "def assign_centroid(tr, centroids):\n",
    "    '''\n",
    "    Returns the distance between the point and the nearest centroid, and which is the latter\n",
    "    '''\n",
    "    #store the distances between the point and all the centroids\n",
    "    distances = np.zeros(len(centroids))\n",
    "    for i, centr in enumerate(centroids):\n",
    "        distances[i] = distance(tr, centr)\n",
    "    #find minimum distance\n",
    "    min_distance = np.min(distances)\n",
    "    #find nearest centroid\n",
    "    assigned_centroid = np.argmin(distances)\n",
    "    return (assigned_centroid, tr)\n",
    "\n",
    "def update_centroid(all_points):\n",
    "    '''\n",
    "    Returns the updated centroids \n",
    "    '''\n",
    "    return sum(all_points) / len(all_points)\n",
    "\n",
    "def centroids_shift(old, new):\n",
    "    '''\n",
    "    Returns how much the centroids have moved\n",
    "    '''\n",
    "    return sum([distance(old[i],new[i]) for i in range(len(old))])"
   ]
  },
  {
   "cell_type": "code",
   "execution_count": 11,
   "id": "5c822b4f-5b42-4bb7-b514-e70788e1823c",
   "metadata": {
    "execution": {
     "iopub.execute_input": "2022-12-07T18:48:45.350176Z",
     "iopub.status.busy": "2022-12-07T18:48:45.349949Z",
     "iopub.status.idle": "2022-12-07T18:50:12.985019Z",
     "shell.execute_reply": "2022-12-07T18:50:12.984404Z",
     "shell.execute_reply.started": "2022-12-07T18:48:45.350153Z"
    },
    "tags": []
   },
   "outputs": [
    {
     "data": {
      "application/vnd.jupyter.widget-view+json": {
       "model_id": "126b8164399749a0b8d3f6ae2b315920",
       "version_major": 2,
       "version_minor": 0
      },
      "text/plain": [
       "VBox()"
      ]
     },
     "metadata": {},
     "output_type": "display_data"
    },
    {
     "data": {
      "application/vnd.jupyter.widget-view+json": {
       "model_id": "",
       "version_major": 2,
       "version_minor": 0
      },
      "text/plain": [
       "FloatProgress(value=0.0, bar_style='info', description='Progress:', layout=Layout(height='25px', width='50%'),…"
      ]
     },
     "metadata": {},
     "output_type": "display_data"
    }
   ],
   "source": [
    "threshold = 0.00001\n",
    "#initialize random centorids\n",
    "centroids = initiate_centroids(2, reduced)\n",
    "#map: assign the points to the nearest centroid\n",
    "dist = reduced.map(lambda r: assign_centroid(r, centroids))\n",
    "#reduce: update the centroids\n",
    "new_centroids = dist.groupByKey().mapValues(lambda x: update_centroid(x)).map(lambda a: a[1]).collect()\n",
    "#see how much the centroids have moved\n",
    "update = centroids_shift(centroids, new_centroids)\n",
    "#the valid centroids are the last calculated\n",
    "centroids = new_centroids\n",
    "while update > threshold:\n",
    "    dist = reduced.map(lambda r: assign_centroid(r, centroids))\n",
    "    new_centroids = dist.groupByKey().mapValues(lambda x: update_centroid(x)).map(lambda a: a[1])\n",
    "    update = centroids_shift(centroids, new_centroids.collect())\n",
    "    centroids = new_centroids.collect()"
   ]
  },
  {
   "cell_type": "code",
   "execution_count": 12,
   "id": "1ad3f8fe-40d1-46de-a6b5-8019782c403b",
   "metadata": {
    "execution": {
     "iopub.execute_input": "2022-12-07T18:50:18.555761Z",
     "iopub.status.busy": "2022-12-07T18:50:18.555539Z",
     "iopub.status.idle": "2022-12-07T18:50:18.620770Z",
     "shell.execute_reply": "2022-12-07T18:50:18.620184Z",
     "shell.execute_reply.started": "2022-12-07T18:50:18.555736Z"
    },
    "tags": []
   },
   "outputs": [
    {
     "data": {
      "application/vnd.jupyter.widget-view+json": {
       "model_id": "b8ef98ad5b584ea58f54b82a62d2449b",
       "version_major": 2,
       "version_minor": 0
      },
      "text/plain": [
       "VBox()"
      ]
     },
     "metadata": {},
     "output_type": "display_data"
    },
    {
     "data": {
      "application/vnd.jupyter.widget-view+json": {
       "model_id": "",
       "version_major": 2,
       "version_minor": 0
      },
      "text/plain": [
       "FloatProgress(value=0.0, bar_style='info', description='Progress:', layout=Layout(height='25px', width='50%'),…"
      ]
     },
     "metadata": {},
     "output_type": "display_data"
    },
    {
     "name": "stdout",
     "output_type": "stream",
     "text": [
      "[array([ 0.00151364, -0.28050832, -0.03479348, -0.00306517]), array([-0.00158728,  0.29415904,  0.03648535,  0.00321435])]"
     ]
    }
   ],
   "source": [
    "print(centroids)"
   ]
  },
  {
   "cell_type": "markdown",
   "id": "4cd78167-034d-4105-824d-c3bc57d58b8b",
   "metadata": {},
   "source": [
    "### ***k-means ++***"
   ]
  },
  {
   "cell_type": "markdown",
   "id": "f3f629ca-ff9e-45a1-bff2-2730fa4cd3ef",
   "metadata": {},
   "source": [
    "Now let's run also the already implemented (in the scikit-learn package) k-means++ algorithm and let's plot the results"
   ]
  },
  {
   "cell_type": "code",
   "execution_count": 280,
   "id": "fd6eae00-2350-4b3e-b532-c058f4740718",
   "metadata": {},
   "outputs": [],
   "source": [
    "km = KMeans(n_clusters=2, init = 'k-means++', random_state=42)\n",
    "km.fit(reduced)\n",
    "centroids = km.cluster_centers_"
   ]
  },
  {
   "cell_type": "code",
   "execution_count": 270,
   "id": "1a158e7d-de20-4b58-bac3-f8f248edc6eb",
   "metadata": {},
   "outputs": [
    {
     "data": {
      "image/png": "[encoded data removed]",
      "text/plain": [
       "<Figure size 576x396 with 1 Axes>"
      ]
     },
     "metadata": {},
     "output_type": "display_data"
    }
   ],
   "source": [
    "ax = sns.scatterplot(x=reduced[:, 0], y=reduced[:, 1], hue=km.labels_, palette='pastel')\n",
    "ax = sns.scatterplot(centroids[:, 0], centroids[:, 1], hue=range(2), palette='bright', ec='black', legend=False, ax=ax)\n",
    "plt.show()"
   ]
  },
  {
   "cell_type": "markdown",
   "id": "cf043c0f-9e01-4889-ac1e-b89452600021",
   "metadata": {},
   "source": [
    "Let's have a look also to the 3D plot."
   ]
  },
  {
   "cell_type": "code",
   "execution_count": 279,
   "id": "928dfcd7-7265-406f-9dfd-838ae20932e7",
   "metadata": {},
   "outputs": [
    {
     "data": {
      "image/png": "[encoded data removed]",
      "text/plain": [
       "<Figure size 576x396 with 1 Axes>"
      ]
     },
     "metadata": {},
     "output_type": "display_data"
    }
   ],
   "source": [
    "from mpl_toolkits.mplot3d import Axes3D\n",
    "from matplotlib.colors import ListedColormap\n",
    "colors = ListedColormap(sns.color_palette('pastel', 2))\n",
    "\n",
    "fig = plt.figure()\n",
    "ax = fig.add_subplot(111, projection = '3d')\n",
    "\n",
    "x = reduced[:, 0]\n",
    "y = reduced[:, 1]\n",
    "z = reduced[:, 2]\n",
    "\n",
    "ax.scatter(x, y, z, c=km.labels_, cmap=colors)\n",
    "\n",
    "plt.show()"
   ]
  },
  {
   "cell_type": "markdown",
   "id": "9c37d89b-175e-4e6c-9790-52961c5f2c9a",
   "metadata": {},
   "source": [
    "The obtained centroids are:"
   ]
  },
  {
   "cell_type": "code",
   "execution_count": 282,
   "id": "5d43d09f-ec95-4896-a99b-637b4d18f247",
   "metadata": {},
   "outputs": [
    {
     "name": "stdout",
     "output_type": "stream",
     "text": [
      "[[ 6.99738522e-01  6.91682283e-03  6.39287077e-03 -1.25818844e-03]\n",
      " [-3.00776008e-01 -2.97313110e-03 -2.74791524e-03  5.40820440e-04]]\n"
     ]
    }
   ],
   "source": [
    "print(centroids)"
   ]
  },
  {
   "cell_type": "markdown",
   "id": "214627e3-bd3d-4060-870b-ddd595250f00",
   "metadata": {},
   "source": [
    "The centroids found out with the two methods have close values."
   ]
  },
  {
   "cell_type": "markdown",
   "id": "8aa5b6c2-a2fb-47ef-b97a-919233242f24",
   "metadata": {},
   "source": [
    "## **2.4 Analysing your results!**"
   ]
  },
  {
   "cell_type": "markdown",
   "id": "c374087b-feb9-42d2-a59a-d5567dc78ef3",
   "metadata": {},
   "source": [
    "1. *Choose 2-3 features.*<br>\n",
    "We think that 2 features relevant to identify the cluster of the customer are gender, the average balance account and the average transaction amount."
   ]
  },
  {
   "cell_type": "markdown",
   "id": "3530002d-7c8c-4f39-8207-b18ba18e1e67",
   "metadata": {},
   "source": [
    "2. *Categories*<br>\n",
    "- for the gender, the categories are only F and M (1 and 0)\n",
    "- For the balance account we can take as categories: 0-30000, 30000-100000, 100000-500000, >500000.\n",
    "- For the transaction amount we can take as categories: 0-300, 300-1000, 1000-10000, >10000"
   ]
  },
  {
   "cell_type": "markdown",
   "id": "07848b25-85d0-43a1-a0b2-71f2a94d4e5a",
   "metadata": {},
   "source": [
    "*Perform the pivot table*"
   ]
  },
  {
   "cell_type": "markdown",
   "id": "a8c8b1f2-db26-4b7c-a7eb-314f8ca90249",
   "metadata": {},
   "source": [
    "Let's define two functions that will help us to divide into categories the columns of the average balance and average monthly transaction."
   ]
  },
  {
   "cell_type": "code",
   "execution_count": 340,
   "id": "9b9aa5cc-6d28-46c0-ad44-2c95f4a14f28",
   "metadata": {},
   "outputs": [],
   "source": [
    "#divide average balance into categories\n",
    "def balance_categories(x):\n",
    "    if x<30_000: return 0\n",
    "    elif x>=30_000 and x<100_000: return 1\n",
    "    elif x>=100_000 and x<500_000: return 2\n",
    "    else: return 3\n",
    "\n",
    "#divide average transaction amount into categories\n",
    "def trans_categories(x):\n",
    "    if x<300: return 0\n",
    "    elif x>=300 and x<1000: return 1\n",
    "    elif x>=1000 and x<10_000: return 2\n",
    "    else: return 3"
   ]
  },
  {
   "cell_type": "markdown",
   "id": "09cd61fc-5a1b-4776-bd3f-668261b6049e",
   "metadata": {},
   "source": [
    "Now let's transform the dataset with the categories and we will also add a column for the labels of the k-means algorithm."
   ]
  },
  {
   "cell_type": "code",
   "execution_count": 341,
   "id": "0a3e7fef-c3d7-43ed-8cec-6a3cf996f222",
   "metadata": {},
   "outputs": [],
   "source": [
    "data3 = data2[['avg_monthly_transaction', 'frequent_gender', 'avg_balance']]\n",
    "\n",
    "#add the centroid label\n",
    "data3['label'] = km.labels_\n",
    "\n",
    "#divide features into categories\n",
    "data3['avg_balance'] = data3['avg_balance'].map(lambda x: balance_categories(x))\n",
    "data3['avg_monthly_transaction'] = data3['avg_monthly_transaction'].map(lambda x: trans_categories(x))"
   ]
  },
  {
   "cell_type": "code",
   "execution_count": 342,
   "id": "c31d3bdc-6bce-4321-b7a8-a31fae76cb92",
   "metadata": {},
   "outputs": [
    {
     "data": {
      "text/html": [
       "<div>\n",
       "<style scoped>\n",
       "    .dataframe tbody tr th:only-of-type {\n",
       "        vertical-align: middle;\n",
       "    }\n",
       "\n",
       "    .dataframe tbody tr th {\n",
       "        vertical-align: top;\n",
       "    }\n",
       "\n",
       "    .dataframe thead th {\n",
       "        text-align: right;\n",
       "    }\n",
       "</style>\n",
       "<table border=\"1\" class=\"dataframe\">\n",
       "  <thead>\n",
       "    <tr style=\"text-align: right;\">\n",
       "      <th></th>\n",
       "      <th>avg_monthly_transaction</th>\n",
       "      <th>frequent_gender</th>\n",
       "      <th>avg_balance</th>\n",
       "      <th>label</th>\n",
       "    </tr>\n",
       "  </thead>\n",
       "  <tbody>\n",
       "    <tr>\n",
       "      <th>0</th>\n",
       "      <td>2</td>\n",
       "      <td>1</td>\n",
       "      <td>1</td>\n",
       "      <td>0</td>\n",
       "    </tr>\n",
       "    <tr>\n",
       "      <th>1</th>\n",
       "      <td>2</td>\n",
       "      <td>0</td>\n",
       "      <td>0</td>\n",
       "      <td>1</td>\n",
       "    </tr>\n",
       "    <tr>\n",
       "      <th>2</th>\n",
       "      <td>1</td>\n",
       "      <td>1</td>\n",
       "      <td>2</td>\n",
       "      <td>0</td>\n",
       "    </tr>\n",
       "    <tr>\n",
       "      <th>3</th>\n",
       "      <td>0</td>\n",
       "      <td>1</td>\n",
       "      <td>0</td>\n",
       "      <td>0</td>\n",
       "    </tr>\n",
       "    <tr>\n",
       "      <th>4</th>\n",
       "      <td>1</td>\n",
       "      <td>1</td>\n",
       "      <td>2</td>\n",
       "      <td>0</td>\n",
       "    </tr>\n",
       "  </tbody>\n",
       "</table>\n",
       "</div>"
      ],
      "text/plain": [
       "   avg_monthly_transaction  frequent_gender  avg_balance  label\n",
       "0                        2                1            1      0\n",
       "1                        2                0            0      1\n",
       "2                        1                1            2      0\n",
       "3                        0                1            0      0\n",
       "4                        1                1            2      0"
      ]
     },
     "execution_count": 342,
     "metadata": {},
     "output_type": "execute_result"
    }
   ],
   "source": [
    "data3.head()"
   ]
  },
  {
   "cell_type": "code",
   "execution_count": 344,
   "id": "167eeec3-0588-4b9f-83fd-64ad02370dcf",
   "metadata": {},
   "outputs": [
    {
     "data": {
      "text/html": [
       "<div>\n",
       "<style scoped>\n",
       "    .dataframe tbody tr th:only-of-type {\n",
       "        vertical-align: middle;\n",
       "    }\n",
       "\n",
       "    .dataframe tbody tr th {\n",
       "        vertical-align: top;\n",
       "    }\n",
       "\n",
       "    .dataframe thead th {\n",
       "        text-align: right;\n",
       "    }\n",
       "</style>\n",
       "<table border=\"1\" class=\"dataframe\">\n",
       "  <thead>\n",
       "    <tr style=\"text-align: right;\">\n",
       "      <th>frequent_gender</th>\n",
       "      <th>0</th>\n",
       "      <th>1</th>\n",
       "    </tr>\n",
       "    <tr>\n",
       "      <th>label</th>\n",
       "      <th></th>\n",
       "      <th></th>\n",
       "    </tr>\n",
       "  </thead>\n",
       "  <tbody>\n",
       "    <tr>\n",
       "      <th>0</th>\n",
       "      <td>0.0</td>\n",
       "      <td>100.0</td>\n",
       "    </tr>\n",
       "    <tr>\n",
       "      <th>1</th>\n",
       "      <td>100.0</td>\n",
       "      <td>0.0</td>\n",
       "    </tr>\n",
       "  </tbody>\n",
       "</table>\n",
       "</div>"
      ],
      "text/plain": [
       "frequent_gender      0      1\n",
       "label                        \n",
       "0                  0.0  100.0\n",
       "1                100.0    0.0"
      ]
     },
     "execution_count": 344,
     "metadata": {},
     "output_type": "execute_result"
    }
   ],
   "source": [
    "table_gender = pd.crosstab(data3['label'], data3['frequent_gender'], normalize='index')\n",
    "table_gender*100"
   ]
  },
  {
   "cell_type": "code",
   "execution_count": 345,
   "id": "3ac062ea-348b-4bb2-8786-c66291f91c2a",
   "metadata": {},
   "outputs": [
    {
     "data": {
      "text/html": [
       "<div>\n",
       "<style scoped>\n",
       "    .dataframe tbody tr th:only-of-type {\n",
       "        vertical-align: middle;\n",
       "    }\n",
       "\n",
       "    .dataframe tbody tr th {\n",
       "        vertical-align: top;\n",
       "    }\n",
       "\n",
       "    .dataframe thead th {\n",
       "        text-align: right;\n",
       "    }\n",
       "</style>\n",
       "<table border=\"1\" class=\"dataframe\">\n",
       "  <thead>\n",
       "    <tr style=\"text-align: right;\">\n",
       "      <th>avg_balance</th>\n",
       "      <th>0</th>\n",
       "      <th>1</th>\n",
       "      <th>2</th>\n",
       "      <th>3</th>\n",
       "    </tr>\n",
       "    <tr>\n",
       "      <th>label</th>\n",
       "      <th></th>\n",
       "      <th></th>\n",
       "      <th></th>\n",
       "      <th></th>\n",
       "    </tr>\n",
       "  </thead>\n",
       "  <tbody>\n",
       "    <tr>\n",
       "      <th>0</th>\n",
       "      <td>59.713446</td>\n",
       "      <td>23.581377</td>\n",
       "      <td>13.872399</td>\n",
       "      <td>2.832778</td>\n",
       "    </tr>\n",
       "    <tr>\n",
       "      <th>1</th>\n",
       "      <td>66.267066</td>\n",
       "      <td>19.654407</td>\n",
       "      <td>11.084081</td>\n",
       "      <td>2.994447</td>\n",
       "    </tr>\n",
       "  </tbody>\n",
       "</table>\n",
       "</div>"
      ],
      "text/plain": [
       "avg_balance          0          1          2         3\n",
       "label                                                 \n",
       "0            59.713446  23.581377  13.872399  2.832778\n",
       "1            66.267066  19.654407  11.084081  2.994447"
      ]
     },
     "execution_count": 345,
     "metadata": {},
     "output_type": "execute_result"
    }
   ],
   "source": [
    "table_balance = pd.crosstab(data3['label'], data3['avg_balance'], normalize='index')\n",
    "table_balance*100"
   ]
  },
  {
   "cell_type": "code",
   "execution_count": 346,
   "id": "5770bb14-4736-4b05-8a98-45a288ecb1b7",
   "metadata": {},
   "outputs": [
    {
     "data": {
      "text/html": [
       "<div>\n",
       "<style scoped>\n",
       "    .dataframe tbody tr th:only-of-type {\n",
       "        vertical-align: middle;\n",
       "    }\n",
       "\n",
       "    .dataframe tbody tr th {\n",
       "        vertical-align: top;\n",
       "    }\n",
       "\n",
       "    .dataframe thead th {\n",
       "        text-align: right;\n",
       "    }\n",
       "</style>\n",
       "<table border=\"1\" class=\"dataframe\">\n",
       "  <thead>\n",
       "    <tr style=\"text-align: right;\">\n",
       "      <th>avg_monthly_transaction</th>\n",
       "      <th>0</th>\n",
       "      <th>1</th>\n",
       "      <th>2</th>\n",
       "      <th>3</th>\n",
       "    </tr>\n",
       "    <tr>\n",
       "      <th>label</th>\n",
       "      <th></th>\n",
       "      <th></th>\n",
       "      <th></th>\n",
       "      <th></th>\n",
       "    </tr>\n",
       "  </thead>\n",
       "  <tbody>\n",
       "    <tr>\n",
       "      <th>0</th>\n",
       "      <td>34.573339</td>\n",
       "      <td>32.884821</td>\n",
       "      <td>30.593322</td>\n",
       "      <td>1.948519</td>\n",
       "    </tr>\n",
       "    <tr>\n",
       "      <th>1</th>\n",
       "      <td>42.485806</td>\n",
       "      <td>31.158087</td>\n",
       "      <td>24.571072</td>\n",
       "      <td>1.785035</td>\n",
       "    </tr>\n",
       "  </tbody>\n",
       "</table>\n",
       "</div>"
      ],
      "text/plain": [
       "avg_monthly_transaction          0          1          2         3\n",
       "label                                                             \n",
       "0                        34.573339  32.884821  30.593322  1.948519\n",
       "1                        42.485806  31.158087  24.571072  1.785035"
      ]
     },
     "execution_count": 346,
     "metadata": {},
     "output_type": "execute_result"
    }
   ],
   "source": [
    "table_transaction = pd.crosstab(data3['label'], data3['avg_monthly_transaction'], normalize='index')\n",
    "table_transaction*100"
   ]
  },
  {
   "cell_type": "markdown",
   "id": "a735e6a6-57a4-40a7-81e9-bffa28bd632f",
   "metadata": {},
   "source": [
    "Before proceeding with the comments let's remind how many elements there are in each class:"
   ]
  },
  {
   "cell_type": "code",
   "execution_count": 348,
   "id": "734b4b41-7c56-4a04-be64-c16ceaa5024f",
   "metadata": {},
   "outputs": [
    {
     "name": "stdout",
     "output_type": "stream",
     "text": [
      "In the first class there are 234999 elements.\n",
      "In the second class there are 546712 elements.\n"
     ]
    }
   ],
   "source": [
    "print('In the first class there are', np.sum(km.labels_ == 0), 'elements.')\n",
    "print('In the second class there are', np.sum(km.labels_ == 1), 'elements.')"
   ]
  },
  {
   "cell_type": "markdown",
   "id": "3ce85732-63d4-4a51-924e-b00b96db4c2e",
   "metadata": {},
   "source": [
    "So, the majority of the elements are contained in the second class.<br>"
   ]
  },
  {
   "cell_type": "markdown",
   "id": "47640cd6-2a04-4e14-b31f-2763f5f94f5b",
   "metadata": {},
   "source": [
    "We can see from the pivot table of the gender how the gender is a very discriminatory feature: all the females are in the first class and all the males in the other. While the other two features aren't so discriminative; we found similar percentages in the two cluster for each category."
   ]
  },
  {
   "cell_type": "markdown",
   "id": "be96a0f6",
   "metadata": {},
   "source": [
    "# **Algorithmic question**"
   ]
  },
  {
   "cell_type": "markdown",
   "id": "f296a051",
   "metadata": {},
   "source": [
    "To resolve this problem the algorithm that we are going to use is the following.<br>\n",
    "We iterate on all the list containing the order of entrance of the students. If the entrance encountered was closed (so it's the first time that one student pass for that door), we increase the number of guards needed and we store the closing position in a dictionary. Then we also check if at the position right before a door closed and in the case we decrease by one the number of guards. At this point if the number of guards needed doesn't exceed g, we can continue. Otherwise we print 'NO' and the cicle is broken.<br> \n",
    "Let's see the implementation of this process."
   ]
  },
  {
   "cell_type": "code",
   "execution_count": 4,
   "id": "54d75f19",
   "metadata": {},
   "outputs": [],
   "source": [
    "def is_enough(n, m, g, stud_entr):\n",
    "    #dictionary that contains the closures of the doors\n",
    "    closures = {}\n",
    "    #variable that contains the guards needed\n",
    "    guards_needed = 0\n",
    "    #iterate on all the entrances\n",
    "    for i, door in enumerate(stud_entr):\n",
    "        #if you have to open a door...\n",
    "        if door not in closures:\n",
    "            closures[door] = m - 1 - stud_entr[::-1].index(door)\n",
    "            guards_needed += 1\n",
    "        #if before you have closed a door...\n",
    "        if i-1 in closures.values():\n",
    "            guards_needed -= 1\n",
    "        #check if the guards are enough\n",
    "        if guards_needed > g:\n",
    "            print('NO')\n",
    "            return\n",
    "    print('YES')"
   ]
  },
  {
   "cell_type": "code",
   "execution_count": 6,
   "id": "4c9a9cae",
   "metadata": {},
   "outputs": [
    {
     "name": "stdout",
     "output_type": "stream",
     "text": [
      "Enter N, M and G: 4 5 1\n",
      "Enter the order of the students:  1 2 1 2 2\n",
      "NO\n"
     ]
    }
   ],
   "source": [
    "n, m, g = [int(x) for x in (input(\"Enter N, M and G: \")).split()]\n",
    "stud_entr = [int(x) for x in (input(\"Enter the order of the students: \")).split()]\n",
    "is_enough(n, m, g, stud_entr)"
   ]
  },
  {
   "cell_type": "code",
   "execution_count": 9,
   "id": "9a42cf97",
   "metadata": {},
   "outputs": [
    {
     "name": "stdout",
     "output_type": "stream",
     "text": [
      "Enter N, M and G: 4 5 1\n",
      "Enter the order of the students: 1 1 3 3 3\n",
      "YES\n"
     ]
    }
   ],
   "source": [
    "n, m, g = [int(x) for x in (input(\"Enter N, M and G: \")).split()]\n",
    "stud_entr = [int(x) for x in (input(\"Enter the order of the students: \")).split()]\n",
    "is_enough(n, m, g, stud_entr)"
   ]
  },
  {
   "cell_type": "code",
   "execution_count": 11,
   "id": "e38c0f94",
   "metadata": {},
   "outputs": [
    {
     "name": "stdout",
     "output_type": "stream",
     "text": [
      "Enter N, M and G: 4 10 3\n",
      "Enter the order of the students: 1 1 2 3 1 2 4 2 2 2\n",
      "YES\n"
     ]
    }
   ],
   "source": [
    "n, m, g = [int(x) for x in (input(\"Enter N, M and G: \")).split()]\n",
    "stud_entr = [int(x) for x in (input(\"Enter the order of the students: \")).split()]\n",
    "is_enough(n, m, g, stud_entr)"
   ]
  }
 ],
 "metadata": {
  "kernelspec": {
   "display_name": "Python 3 (ipykernel)",
   "language": "python",
   "name": "python3"
  },
  "language_info": {
   "codemirror_mode": {
    "name": "ipython",
    "version": 3
   },
   "file_extension": ".py",
   "mimetype": "text/x-python",
   "name": "python",
   "nbconvert_exporter": "python",
   "pygments_lexer": "ipython3",
   "version": "3.9.12"
  }
 },
 "nbformat": 4,
 "nbformat_minor": 5
}
